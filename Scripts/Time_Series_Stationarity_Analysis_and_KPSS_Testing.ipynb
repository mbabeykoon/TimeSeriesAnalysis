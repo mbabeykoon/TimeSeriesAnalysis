{
 "cells": [
  {
   "cell_type": "markdown",
   "metadata": {},
   "source": [
    "Madusanka Madiligama 01/06/2024"
   ]
  },
  {
   "cell_type": "code",
   "execution_count": 1,
   "metadata": {},
   "outputs": [],
   "source": [
    "# library imports\n",
    "import os\n",
    "import gc\n",
    "import datetime\n",
    "\n",
    "import numpy as np\n",
    "import pandas as pd\n",
    "import plotly.graph_objects as go\n",
    "import matplotlib.pyplot as plt\n",
    "import seaborn as sns\n",
    "from statsmodels.tsa.stattools import kpss\n",
    "%matplotlib inline"
   ]
  },
  {
   "cell_type": "code",
   "execution_count": 2,
   "metadata": {},
   "outputs": [],
   "source": [
    "#Configure plot aesthetics for matplotlib and seaborn.\n",
    "def set_plot_aesthetics():\n",
    "\n",
    "    plt.rcParams['figure.figsize'] = (10, 8)  \n",
    "    plt.rcParams['xtick.labelsize'] = 13      \n",
    "    plt.rcParams['ytick.labelsize'] = 13      \n",
    "    plt.rcParams['axes.labelsize'] = 14       \n",
    "    sns.set_palette('tab10')                  \n",
    "\n",
    "# Apply the plot settings\n",
    "set_plot_aesthetics()\n",
    "colors = list(sns.color_palette('tab10')) "
   ]
  },
  {
   "cell_type": "code",
   "execution_count": 3,
   "metadata": {},
   "outputs": [],
   "source": [
    "#convert date into datetime\n",
    "def convert_to_date(x):\n",
    "    return datetime.datetime.strptime(x, '%m/%d/%Y')"
   ]
  },
  {
   "cell_type": "code",
   "execution_count": 4,
   "metadata": {},
   "outputs": [
    {
     "name": "stderr",
     "output_type": "stream",
     "text": [
      "C:\\Users\\nikmb\\AppData\\Local\\Temp\\ipykernel_37548\\995262021.py:1: FutureWarning: The argument 'date_parser' is deprecated and will be removed in a future version. Please use 'date_format' instead, or read your data in as 'object' dtype and then call 'to_datetime'.\n",
      "  df = pd.read_csv('https://raw.githubusercontent.com/srivatsan88/YouTubeLI/master/dataset/amazon_revenue_profit.csv',\n"
     ]
    },
    {
     "data": {
      "text/html": [
       "<div>\n",
       "<style scoped>\n",
       "    .dataframe tbody tr th:only-of-type {\n",
       "        vertical-align: middle;\n",
       "    }\n",
       "\n",
       "    .dataframe tbody tr th {\n",
       "        vertical-align: top;\n",
       "    }\n",
       "\n",
       "    .dataframe thead th {\n",
       "        text-align: right;\n",
       "    }\n",
       "</style>\n",
       "<table border=\"1\" class=\"dataframe\">\n",
       "  <thead>\n",
       "    <tr style=\"text-align: right;\">\n",
       "      <th></th>\n",
       "      <th>Quarter</th>\n",
       "      <th>Revenue</th>\n",
       "      <th>Net Income</th>\n",
       "    </tr>\n",
       "  </thead>\n",
       "  <tbody>\n",
       "    <tr>\n",
       "      <th>0</th>\n",
       "      <td>2020-03-31</td>\n",
       "      <td>75452</td>\n",
       "      <td>2535</td>\n",
       "    </tr>\n",
       "    <tr>\n",
       "      <th>1</th>\n",
       "      <td>2019-12-31</td>\n",
       "      <td>87437</td>\n",
       "      <td>3268</td>\n",
       "    </tr>\n",
       "    <tr>\n",
       "      <th>2</th>\n",
       "      <td>2019-09-30</td>\n",
       "      <td>69981</td>\n",
       "      <td>2134</td>\n",
       "    </tr>\n",
       "    <tr>\n",
       "      <th>3</th>\n",
       "      <td>2019-06-30</td>\n",
       "      <td>63404</td>\n",
       "      <td>2625</td>\n",
       "    </tr>\n",
       "    <tr>\n",
       "      <th>4</th>\n",
       "      <td>2019-03-31</td>\n",
       "      <td>59700</td>\n",
       "      <td>3561</td>\n",
       "    </tr>\n",
       "  </tbody>\n",
       "</table>\n",
       "</div>"
      ],
      "text/plain": [
       "     Quarter  Revenue  Net Income\n",
       "0 2020-03-31    75452        2535\n",
       "1 2019-12-31    87437        3268\n",
       "2 2019-09-30    69981        2134\n",
       "3 2019-06-30    63404        2625\n",
       "4 2019-03-31    59700        3561"
      ]
     },
     "execution_count": 4,
     "metadata": {},
     "output_type": "execute_result"
    }
   ],
   "source": [
    "df = pd.read_csv('https://raw.githubusercontent.com/srivatsan88/YouTubeLI/master/dataset/amazon_revenue_profit.csv', \n",
    "                 parse_dates=['Quarter'], date_parser=convert_to_date)\n",
    "df.head()"
   ]
  },
  {
   "cell_type": "code",
   "execution_count": 5,
   "metadata": {},
   "outputs": [
    {
     "name": "stdout",
     "output_type": "stream",
     "text": [
      "<class 'pandas.core.frame.DataFrame'>\n",
      "RangeIndex: 61 entries, 0 to 60\n",
      "Data columns (total 3 columns):\n",
      " #   Column      Non-Null Count  Dtype         \n",
      "---  ------      --------------  -----         \n",
      " 0   Quarter     61 non-null     datetime64[ns]\n",
      " 1   Revenue     61 non-null     int64         \n",
      " 2   Net Income  61 non-null     int64         \n",
      "dtypes: datetime64[ns](1), int64(2)\n",
      "memory usage: 1.6 KB\n"
     ]
    }
   ],
   "source": [
    "df.info()"
   ]
  },
  {
   "cell_type": "code",
   "execution_count": 6,
   "metadata": {},
   "outputs": [],
   "source": [
    "#Calculate the number and percentage of missing values in each column of a DataFrame.\n",
    "\n",
    "def missing_values(df):\n",
    "\n",
    "    # Calculate the number of missing values per column\n",
    "    missing_count = df.isnull().sum()\n",
    "\n",
    "    # Calculate the percentage of missing values\n",
    "    missing_percent = np.round((100 * missing_count) / len(df), 2)\n",
    "\n",
    "    # Create a DataFrame to display the results\n",
    "    missing_data = pd.DataFrame({\n",
    "        '# Missing': missing_count, \n",
    "        '% Missing': missing_percent\n",
    "    })\n",
    "\n",
    "    return missing_data\n",
    "\n",
    "\n",
    "#Prints basic information about the DataFrame, including its size, features, missing values, and unique values count.\n",
    "def print_data_info(df):\n",
    "\n",
    "    print(f\"Rows: {df.shape[0]}\")\n",
    "    print(f\"Columns: {df.shape[1]}\")\n",
    "    print(\"\\nFeatures:\")\n",
    "    print(\"-\" * 10)\n",
    "    print(df.columns.tolist())\n",
    "    \n",
    "    print(\"\\nMissing Values:\")\n",
    "    print(\"-\" * 15)\n",
    "    print(missing_values(df))\n",
    "    \n",
    "    print(\"\\nUnique Values Count:\")\n",
    "    print(\"-\" * 15)\n",
    "    print(df.nunique())\n"
   ]
  },
  {
   "cell_type": "code",
   "execution_count": 7,
   "metadata": {},
   "outputs": [
    {
     "name": "stdout",
     "output_type": "stream",
     "text": [
      "Rows: 61\n",
      "Columns: 3\n",
      "\n",
      "Features:\n",
      "----------\n",
      "['Quarter', 'Revenue', 'Net Income']\n",
      "\n",
      "Missing Values:\n",
      "---------------\n",
      "            # Missing  % Missing\n",
      "Quarter             0        0.0\n",
      "Revenue             0        0.0\n",
      "Net Income          0        0.0\n",
      "\n",
      "Unique Values Count:\n",
      "---------------\n",
      "Quarter       61\n",
      "Revenue       61\n",
      "Net Income    57\n",
      "dtype: int64\n"
     ]
    }
   ],
   "source": [
    "# printing basic info about the data\n",
    "print_data_info(df)"
   ]
  },
  {
   "cell_type": "code",
   "execution_count": 8,
   "metadata": {},
   "outputs": [],
   "source": [
    "df.set_index('Quarter', inplace=True)"
   ]
  },
  {
   "cell_type": "code",
   "execution_count": 10,
   "metadata": {},
   "outputs": [
    {
     "data": {
      "image/png": "[encoded data removed]",
      "text/plain": [
       "<Figure size 1000x800 with 1 Axes>"
      ]
     },
     "metadata": {},
     "output_type": "display_data"
    }
   ],
   "source": [
    "#Plot Revenue and Net Income\n",
    "df.plot(lw=1)\n",
    "plt.show()"
   ]
  },
  {
   "cell_type": "code",
   "execution_count": 11,
   "metadata": {},
   "outputs": [
    {
     "data": {
      "application/vnd.plotly.v1+json": {
       "config": {
        "plotlyServerURL": "https://plot.ly"
       },
       "data": [
        {
         "marker": {
          "color": "rgb(102,194,165)"
         },
         "mode": "lines+markers",
         "name": "Amazon Revenue",
         "text": [
          "Year: 2020<br>Revenue: 75452",
          "Year: 2019<br>Revenue: 87437",
          "Year: 2019<br>Revenue: 69981",
          "Year: 2019<br>Revenue: 63404",
          "Year: 2019<br>Revenue: 59700",
          "Year: 2018<br>Revenue: 72383",
          "Year: 2018<br>Revenue: 56576",
          "Year: 2018<br>Revenue: 52886",
          "Year: 2018<br>Revenue: 51042",
          "Year: 2017<br>Revenue: 60453",
          "Year: 2017<br>Revenue: 43744",
          "Year: 2017<br>Revenue: 37955",
          "Year: 2017<br>Revenue: 35714",
          "Year: 2016<br>Revenue: 43741",
          "Year: 2016<br>Revenue: 32714",
          "Year: 2016<br>Revenue: 30404",
          "Year: 2016<br>Revenue: 29128",
          "Year: 2015<br>Revenue: 35746",
          "Year: 2015<br>Revenue: 25358",
          "Year: 2015<br>Revenue: 23185",
          "Year: 2015<br>Revenue: 22717",
          "Year: 2014<br>Revenue: 29328",
          "Year: 2014<br>Revenue: 20579",
          "Year: 2014<br>Revenue: 19340",
          "Year: 2014<br>Revenue: 19741",
          "Year: 2013<br>Revenue: 25586",
          "Year: 2013<br>Revenue: 17092",
          "Year: 2013<br>Revenue: 15704",
          "Year: 2013<br>Revenue: 16070",
          "Year: 2012<br>Revenue: 21268",
          "Year: 2012<br>Revenue: 13806",
          "Year: 2012<br>Revenue: 12834",
          "Year: 2012<br>Revenue: 13185",
          "Year: 2011<br>Revenue: 17431",
          "Year: 2011<br>Revenue: 10876",
          "Year: 2011<br>Revenue: 9913",
          "Year: 2011<br>Revenue: 9857",
          "Year: 2010<br>Revenue: 12947",
          "Year: 2010<br>Revenue: 7560",
          "Year: 2010<br>Revenue: 6566",
          "Year: 2010<br>Revenue: 7131",
          "Year: 2009<br>Revenue: 9520",
          "Year: 2009<br>Revenue: 5449",
          "Year: 2009<br>Revenue: 4651",
          "Year: 2009<br>Revenue: 4889",
          "Year: 2008<br>Revenue: 6704",
          "Year: 2008<br>Revenue: 4264",
          "Year: 2008<br>Revenue: 4063",
          "Year: 2008<br>Revenue: 4135",
          "Year: 2007<br>Revenue: 5672",
          "Year: 2007<br>Revenue: 3262",
          "Year: 2007<br>Revenue: 2886",
          "Year: 2007<br>Revenue: 3015",
          "Year: 2006<br>Revenue: 3986",
          "Year: 2006<br>Revenue: 2307",
          "Year: 2006<br>Revenue: 2139",
          "Year: 2006<br>Revenue: 2279",
          "Year: 2005<br>Revenue: 2977",
          "Year: 2005<br>Revenue: 1858",
          "Year: 2005<br>Revenue: 1753",
          "Year: 2005<br>Revenue: 1902"
         ],
         "type": "scatter",
         "x": [
          "2020-03-31T00:00:00",
          "2019-12-31T00:00:00",
          "2019-09-30T00:00:00",
          "2019-06-30T00:00:00",
          "2019-03-31T00:00:00",
          "2018-12-31T00:00:00",
          "2018-09-30T00:00:00",
          "2018-06-30T00:00:00",
          "2018-03-31T00:00:00",
          "2017-12-31T00:00:00",
          "2017-09-30T00:00:00",
          "2017-06-30T00:00:00",
          "2017-03-31T00:00:00",
          "2016-12-31T00:00:00",
          "2016-09-30T00:00:00",
          "2016-06-30T00:00:00",
          "2016-03-31T00:00:00",
          "2015-12-31T00:00:00",
          "2015-09-30T00:00:00",
          "2015-06-30T00:00:00",
          "2015-03-31T00:00:00",
          "2014-12-31T00:00:00",
          "2014-09-30T00:00:00",
          "2014-06-30T00:00:00",
          "2014-03-31T00:00:00",
          "2013-12-31T00:00:00",
          "2013-09-30T00:00:00",
          "2013-06-30T00:00:00",
          "2013-03-31T00:00:00",
          "2012-12-31T00:00:00",
          "2012-09-30T00:00:00",
          "2012-06-30T00:00:00",
          "2012-03-31T00:00:00",
          "2011-12-31T00:00:00",
          "2011-09-30T00:00:00",
          "2011-06-30T00:00:00",
          "2011-03-31T00:00:00",
          "2010-12-31T00:00:00",
          "2010-09-30T00:00:00",
          "2010-06-30T00:00:00",
          "2010-03-31T00:00:00",
          "2009-12-31T00:00:00",
          "2009-09-30T00:00:00",
          "2009-06-30T00:00:00",
          "2009-03-31T00:00:00",
          "2008-12-31T00:00:00",
          "2008-09-30T00:00:00",
          "2008-06-30T00:00:00",
          "2008-03-31T00:00:00",
          "2007-12-31T00:00:00",
          "2007-09-30T00:00:00",
          "2007-06-30T00:00:00",
          "2007-03-31T00:00:00",
          "2006-12-31T00:00:00",
          "2006-09-30T00:00:00",
          "2006-06-30T00:00:00",
          "2006-03-31T00:00:00",
          "2005-12-31T00:00:00",
          "2005-09-30T00:00:00",
          "2005-06-30T00:00:00",
          "2005-03-31T00:00:00"
         ],
         "y": [
          75452,
          87437,
          69981,
          63404,
          59700,
          72383,
          56576,
          52886,
          51042,
          60453,
          43744,
          37955,
          35714,
          43741,
          32714,
          30404,
          29128,
          35746,
          25358,
          23185,
          22717,
          29328,
          20579,
          19340,
          19741,
          25586,
          17092,
          15704,
          16070,
          21268,
          13806,
          12834,
          13185,
          17431,
          10876,
          9913,
          9857,
          12947,
          7560,
          6566,
          7131,
          9520,
          5449,
          4651,
          4889,
          6704,
          4264,
          4063,
          4135,
          5672,
          3262,
          2886,
          3015,
          3986,
          2307,
          2139,
          2279,
          2977,
          1858,
          1753,
          1902
         ]
        }
       ],
       "layout": {
        "legend": {
         "bgcolor": "rgba(255, 255, 255, 0.5)",
         "x": 0.05,
         "y": 1
        },
        "template": {
         "data": {
          "bar": [
           {
            "error_x": {
             "color": "#2a3f5f"
            },
            "error_y": {
             "color": "#2a3f5f"
            },
            "marker": {
             "line": {
              "color": "#E5ECF6",
              "width": 0.5
             },
             "pattern": {
              "fillmode": "overlay",
              "size": 10,
              "solidity": 0.2
             }
            },
            "type": "bar"
           }
          ],
          "barpolar": [
           {
            "marker": {
             "line": {
              "color": "#E5ECF6",
              "width": 0.5
             },
             "pattern": {
              "fillmode": "overlay",
              "size": 10,
              "solidity": 0.2
             }
            },
            "type": "barpolar"
           }
          ],
          "carpet": [
           {
            "aaxis": {
             "endlinecolor": "#2a3f5f",
             "gridcolor": "white",
             "linecolor": "white",
             "minorgridcolor": "white",
             "startlinecolor": "#2a3f5f"
            },
            "baxis": {
             "endlinecolor": "#2a3f5f",
             "gridcolor": "white",
             "linecolor": "white",
             "minorgridcolor": "white",
             "startlinecolor": "#2a3f5f"
            },
            "type": "carpet"
           }
          ],
          "choropleth": [
           {
            "colorbar": {
             "outlinewidth": 0,
             "ticks": ""
            },
            "type": "choropleth"
           }
          ],
          "contour": [
           {
            "colorbar": {
             "outlinewidth": 0,
             "ticks": ""
            },
            "colorscale": [
             [
              0,
              "#0d0887"
             ],
             [
              0.1111111111111111,
              "#46039f"
             ],
             [
              0.2222222222222222,
              "#7201a8"
             ],
             [
              0.3333333333333333,
              "#9c179e"
             ],
             [
              0.4444444444444444,
              "#bd3786"
             ],
             [
              0.5555555555555556,
              "#d8576b"
             ],
             [
              0.6666666666666666,
              "#ed7953"
             ],
             [
              0.7777777777777778,
              "#fb9f3a"
             ],
             [
              0.8888888888888888,
              "#fdca26"
             ],
             [
              1,
              "#f0f921"
             ]
            ],
            "type": "contour"
           }
          ],
          "contourcarpet": [
           {
            "colorbar": {
             "outlinewidth": 0,
             "ticks": ""
            },
            "type": "contourcarpet"
           }
          ],
          "heatmap": [
           {
            "colorbar": {
             "outlinewidth": 0,
             "ticks": ""
            },
            "colorscale": [
             [
              0,
              "#0d0887"
             ],
             [
              0.1111111111111111,
              "#46039f"
             ],
             [
              0.2222222222222222,
              "#7201a8"
             ],
             [
              0.3333333333333333,
              "#9c179e"
             ],
             [
              0.4444444444444444,
              "#bd3786"
             ],
             [
              0.5555555555555556,
              "#d8576b"
             ],
             [
              0.6666666666666666,
              "#ed7953"
             ],
             [
              0.7777777777777778,
              "#fb9f3a"
             ],
             [
              0.8888888888888888,
              "#fdca26"
             ],
             [
              1,
              "#f0f921"
             ]
            ],
            "type": "heatmap"
           }
          ],
          "heatmapgl": [
           {
            "colorbar": {
             "outlinewidth": 0,
             "ticks": ""
            },
            "colorscale": [
             [
              0,
              "#0d0887"
             ],
             [
              0.1111111111111111,
              "#46039f"
             ],
             [
              0.2222222222222222,
              "#7201a8"
             ],
             [
              0.3333333333333333,
              "#9c179e"
             ],
             [
              0.4444444444444444,
              "#bd3786"
             ],
             [
              0.5555555555555556,
              "#d8576b"
             ],
             [
              0.6666666666666666,
              "#ed7953"
             ],
             [
              0.7777777777777778,
              "#fb9f3a"
             ],
             [
              0.8888888888888888,
              "#fdca26"
             ],
             [
              1,
              "#f0f921"
             ]
            ],
            "type": "heatmapgl"
           }
          ],
          "histogram": [
           {
            "marker": {
             "pattern": {
              "fillmode": "overlay",
              "size": 10,
              "solidity": 0.2
             }
            },
            "type": "histogram"
           }
          ],
          "histogram2d": [
           {
            "colorbar": {
             "outlinewidth": 0,
             "ticks": ""
            },
            "colorscale": [
             [
              0,
              "#0d0887"
             ],
             [
              0.1111111111111111,
              "#46039f"
             ],
             [
              0.2222222222222222,
              "#7201a8"
             ],
             [
              0.3333333333333333,
              "#9c179e"
             ],
             [
              0.4444444444444444,
              "#bd3786"
             ],
             [
              0.5555555555555556,
              "#d8576b"
             ],
             [
              0.6666666666666666,
              "#ed7953"
             ],
             [
              0.7777777777777778,
              "#fb9f3a"
             ],
             [
              0.8888888888888888,
              "#fdca26"
             ],
             [
              1,
              "#f0f921"
             ]
            ],
            "type": "histogram2d"
           }
          ],
          "histogram2dcontour": [
           {
            "colorbar": {
             "outlinewidth": 0,
             "ticks": ""
            },
            "colorscale": [
             [
              0,
              "#0d0887"
             ],
             [
              0.1111111111111111,
              "#46039f"
             ],
             [
              0.2222222222222222,
              "#7201a8"
             ],
             [
              0.3333333333333333,
              "#9c179e"
             ],
             [
              0.4444444444444444,
              "#bd3786"
             ],
             [
              0.5555555555555556,
              "#d8576b"
             ],
             [
              0.6666666666666666,
              "#ed7953"
             ],
             [
              0.7777777777777778,
              "#fb9f3a"
             ],
             [
              0.8888888888888888,
              "#fdca26"
             ],
             [
              1,
              "#f0f921"
             ]
            ],
            "type": "histogram2dcontour"
           }
          ],
          "mesh3d": [
           {
            "colorbar": {
             "outlinewidth": 0,
             "ticks": ""
            },
            "type": "mesh3d"
           }
          ],
          "parcoords": [
           {
            "line": {
             "colorbar": {
              "outlinewidth": 0,
              "ticks": ""
             }
            },
            "type": "parcoords"
           }
          ],
          "pie": [
           {
            "automargin": true,
            "type": "pie"
           }
          ],
          "scatter": [
           {
            "fillpattern": {
             "fillmode": "overlay",
             "size": 10,
             "solidity": 0.2
            },
            "type": "scatter"
           }
          ],
          "scatter3d": [
           {
            "line": {
             "colorbar": {
              "outlinewidth": 0,
              "ticks": ""
             }
            },
            "marker": {
             "colorbar": {
              "outlinewidth": 0,
              "ticks": ""
             }
            },
            "type": "scatter3d"
           }
          ],
          "scattercarpet": [
           {
            "marker": {
             "colorbar": {
              "outlinewidth": 0,
              "ticks": ""
             }
            },
            "type": "scattercarpet"
           }
          ],
          "scattergeo": [
           {
            "marker": {
             "colorbar": {
              "outlinewidth": 0,
              "ticks": ""
             }
            },
            "type": "scattergeo"
           }
          ],
          "scattergl": [
           {
            "marker": {
             "colorbar": {
              "outlinewidth": 0,
              "ticks": ""
             }
            },
            "type": "scattergl"
           }
          ],
          "scattermapbox": [
           {
            "marker": {
             "colorbar": {
              "outlinewidth": 0,
              "ticks": ""
             }
            },
            "type": "scattermapbox"
           }
          ],
          "scatterpolar": [
           {
            "marker": {
             "colorbar": {
              "outlinewidth": 0,
              "ticks": ""
             }
            },
            "type": "scatterpolar"
           }
          ],
          "scatterpolargl": [
           {
            "marker": {
             "colorbar": {
              "outlinewidth": 0,
              "ticks": ""
             }
            },
            "type": "scatterpolargl"
           }
          ],
          "scatterternary": [
           {
            "marker": {
             "colorbar": {
              "outlinewidth": 0,
              "ticks": ""
             }
            },
            "type": "scatterternary"
           }
          ],
          "surface": [
           {
            "colorbar": {
             "outlinewidth": 0,
             "ticks": ""
            },
            "colorscale": [
             [
              0,
              "#0d0887"
             ],
             [
              0.1111111111111111,
              "#46039f"
             ],
             [
              0.2222222222222222,
              "#7201a8"
             ],
             [
              0.3333333333333333,
              "#9c179e"
             ],
             [
              0.4444444444444444,
              "#bd3786"
             ],
             [
              0.5555555555555556,
              "#d8576b"
             ],
             [
              0.6666666666666666,
              "#ed7953"
             ],
             [
              0.7777777777777778,
              "#fb9f3a"
             ],
             [
              0.8888888888888888,
              "#fdca26"
             ],
             [
              1,
              "#f0f921"
             ]
            ],
            "type": "surface"
           }
          ],
          "table": [
           {
            "cells": {
             "fill": {
              "color": "#EBF0F8"
             },
             "line": {
              "color": "white"
             }
            },
            "header": {
             "fill": {
              "color": "#C8D4E3"
             },
             "line": {
              "color": "white"
             }
            },
            "type": "table"
           }
          ]
         },
         "layout": {
          "annotationdefaults": {
           "arrowcolor": "#2a3f5f",
           "arrowhead": 0,
           "arrowwidth": 1
          },
          "autotypenumbers": "strict",
          "coloraxis": {
           "colorbar": {
            "outlinewidth": 0,
            "ticks": ""
           }
          },
          "colorscale": {
           "diverging": [
            [
             0,
             "#8e0152"
            ],
            [
             0.1,
             "#c51b7d"
            ],
            [
             0.2,
             "#de77ae"
            ],
            [
             0.3,
             "#f1b6da"
            ],
            [
             0.4,
             "#fde0ef"
            ],
            [
             0.5,
             "#f7f7f7"
            ],
            [
             0.6,
             "#e6f5d0"
            ],
            [
             0.7,
             "#b8e186"
            ],
            [
             0.8,
             "#7fbc41"
            ],
            [
             0.9,
             "#4d9221"
            ],
            [
             1,
             "#276419"
            ]
           ],
           "sequential": [
            [
             0,
             "#0d0887"
            ],
            [
             0.1111111111111111,
             "#46039f"
            ],
            [
             0.2222222222222222,
             "#7201a8"
            ],
            [
             0.3333333333333333,
             "#9c179e"
            ],
            [
             0.4444444444444444,
             "#bd3786"
            ],
            [
             0.5555555555555556,
             "#d8576b"
            ],
            [
             0.6666666666666666,
             "#ed7953"
            ],
            [
             0.7777777777777778,
             "#fb9f3a"
            ],
            [
             0.8888888888888888,
             "#fdca26"
            ],
            [
             1,
             "#f0f921"
            ]
           ],
           "sequentialminus": [
            [
             0,
             "#0d0887"
            ],
            [
             0.1111111111111111,
             "#46039f"
            ],
            [
             0.2222222222222222,
             "#7201a8"
            ],
            [
             0.3333333333333333,
             "#9c179e"
            ],
            [
             0.4444444444444444,
             "#bd3786"
            ],
            [
             0.5555555555555556,
             "#d8576b"
            ],
            [
             0.6666666666666666,
             "#ed7953"
            ],
            [
             0.7777777777777778,
             "#fb9f3a"
            ],
            [
             0.8888888888888888,
             "#fdca26"
            ],
            [
             1,
             "#f0f921"
            ]
           ]
          },
          "colorway": [
           "#636efa",
           "#EF553B",
           "#00cc96",
           "#ab63fa",
           "#FFA15A",
           "#19d3f3",
           "#FF6692",
           "#B6E880",
           "#FF97FF",
           "#FECB52"
          ],
          "font": {
           "color": "#2a3f5f"
          },
          "geo": {
           "bgcolor": "white",
           "lakecolor": "white",
           "landcolor": "#E5ECF6",
           "showlakes": true,
           "showland": true,
           "subunitcolor": "white"
          },
          "hoverlabel": {
           "align": "left"
          },
          "hovermode": "closest",
          "mapbox": {
           "style": "light"
          },
          "paper_bgcolor": "white",
          "plot_bgcolor": "#E5ECF6",
          "polar": {
           "angularaxis": {
            "gridcolor": "white",
            "linecolor": "white",
            "ticks": ""
           },
           "bgcolor": "#E5ECF6",
           "radialaxis": {
            "gridcolor": "white",
            "linecolor": "white",
            "ticks": ""
           }
          },
          "scene": {
           "xaxis": {
            "backgroundcolor": "#E5ECF6",
            "gridcolor": "white",
            "gridwidth": 2,
            "linecolor": "white",
            "showbackground": true,
            "ticks": "",
            "zerolinecolor": "white"
           },
           "yaxis": {
            "backgroundcolor": "#E5ECF6",
            "gridcolor": "white",
            "gridwidth": 2,
            "linecolor": "white",
            "showbackground": true,
            "ticks": "",
            "zerolinecolor": "white"
           },
           "zaxis": {
            "backgroundcolor": "#E5ECF6",
            "gridcolor": "white",
            "gridwidth": 2,
            "linecolor": "white",
            "showbackground": true,
            "ticks": "",
            "zerolinecolor": "white"
           }
          },
          "shapedefaults": {
           "line": {
            "color": "#2a3f5f"
           }
          },
          "ternary": {
           "aaxis": {
            "gridcolor": "white",
            "linecolor": "white",
            "ticks": ""
           },
           "baxis": {
            "gridcolor": "white",
            "linecolor": "white",
            "ticks": ""
           },
           "bgcolor": "#E5ECF6",
           "caxis": {
            "gridcolor": "white",
            "linecolor": "white",
            "ticks": ""
           }
          },
          "title": {
           "x": 0.05
          },
          "xaxis": {
           "automargin": true,
           "gridcolor": "white",
           "linecolor": "white",
           "ticks": "",
           "title": {
            "standoff": 15
           },
           "zerolinecolor": "white",
           "zerolinewidth": 2
          },
          "yaxis": {
           "automargin": true,
           "gridcolor": "white",
           "linecolor": "white",
           "ticks": "",
           "title": {
            "standoff": 15
           },
           "zerolinecolor": "white",
           "zerolinewidth": 2
          }
         }
        },
        "title": {
         "font": {
          "size": 18
         },
         "text": "Amazon Revenue Over the Years",
         "x": 0.5
        },
        "xaxis": {
         "rangeselector": {
          "buttons": [
           {
            "count": 1,
            "label": "1Y",
            "step": "year",
            "stepmode": "backward"
           },
           {
            "count": 3,
            "label": "3Y",
            "step": "year",
            "stepmode": "backward"
           },
           {
            "count": 5,
            "label": "5Y",
            "step": "year",
            "stepmode": "backward"
           },
           {
            "step": "all"
           }
          ]
         },
         "rangeslider": {
          "visible": true
         },
         "title": {
          "text": "Year"
         },
         "type": "date"
        },
        "yaxis": {
         "title": {
          "text": "Revenue (in millions)"
         }
        }
       }
      }
     },
     "metadata": {},
     "output_type": "display_data"
    }
   ],
   "source": [
    "#Plot Revenue and Net Income in intractive figure\n",
    "fig = go.Figure()\n",
    "\n",
    "# Create a trace for the revenue data\n",
    "trace = go.Scatter(\n",
    "    x=df.index, \n",
    "    y=df.Revenue, \n",
    "    name='Amazon Revenue', \n",
    "    text=[f\"Year: {x.year}<br>Revenue: {y}\" for x, y in zip(df.index, df.Revenue)],\n",
    "    mode='lines+markers',\n",
    "    marker=dict(color='rgb(102,194,165)')\n",
    ")\n",
    "\n",
    "fig.add_trace(trace)\n",
    "\n",
    "# Define the layout with improved settings\n",
    "layout = dict(\n",
    "    title=dict(\n",
    "        text='Amazon Revenue Over the Years',\n",
    "        x=0.5,  \n",
    "        font=dict(size=18)  \n",
    "    ),\n",
    "    xaxis=dict(\n",
    "        title='Year',\n",
    "        rangeselector=dict(\n",
    "            buttons=list([\n",
    "                dict(count=1, label='1Y', step='year', stepmode='backward'),\n",
    "                dict(count=3, label='3Y', step='year', stepmode='backward'),\n",
    "                dict(count=5, label='5Y', step='year', stepmode='backward'),\n",
    "                dict(step='all')\n",
    "            ])\n",
    "        ),\n",
    "        rangeslider=dict(visible=True),\n",
    "        type='date'\n",
    "    ),\n",
    "    yaxis=dict(\n",
    "        title='Revenue (in millions)'\n",
    "    ),\n",
    "    legend=dict(\n",
    "        x=0.05, y=1,  # Position the legend\n",
    "        bgcolor='rgba(255, 255, 255, 0.5)'  \n",
    "    )\n",
    ")\n",
    "\n",
    "fig.update_layout(layout)\n",
    "fig.show()\n"
   ]
  },
  {
   "cell_type": "markdown",
   "metadata": {},
   "source": [
    "We observe that the time series appears to be stationary until around the year 2010. However, post-2010, the trend becomes non-linear, suggesting non-stationarity. To examine this more rigorously, we will employ hypothesis testing:\n",
    "\n",
    "- Null Hypothesis ($H_0$): The data is stationary.\n",
    "- Alternative Hypothesis ($H_1$): The data is non-stationary.\n",
    "\n",
    "The results of this hypothesis test will help us confirm whether the time series' behavior changes significantly after 2010.\n"
   ]
  },
  {
   "cell_type": "code",
   "execution_count": 13,
   "metadata": {},
   "outputs": [
    {
     "name": "stderr",
     "output_type": "stream",
     "text": [
      "C:\\Users\\nikmb\\AppData\\Local\\Temp\\ipykernel_37548\\2155023455.py:1: InterpolationWarning:\n",
      "\n",
      "The test statistic is outside of the range of p-values available in the\n",
      "look-up table. The actual p-value is smaller than the p-value returned.\n",
      "\n",
      "\n"
     ]
    }
   ],
   "source": [
    "tstest = kpss(df['Revenue'], regression='c')"
   ]
  },
  {
   "cell_type": "code",
   "execution_count": 14,
   "metadata": {},
   "outputs": [
    {
     "data": {
      "text/plain": [
       "(1.1700203698692262,\n",
       " 0.01,\n",
       " 4,\n",
       " {'10%': 0.347, '5%': 0.463, '2.5%': 0.574, '1%': 0.739})"
      ]
     },
     "execution_count": 14,
     "metadata": {},
     "output_type": "execute_result"
    }
   ],
   "source": [
    "\n",
    "tstest"
   ]
  },
  {
   "cell_type": "markdown",
   "metadata": {},
   "source": [
    "The output of the KPSS test shows four values: the test statistic, the p-value, the number of lags used, and critical values for various significance levels. In this case:\n",
    "\n",
    "The test statistic is 1.1700203698692262.\n",
    "The p-value is 0.01.\n",
    "Given that the p-value is 0.01, it is smaller than the typical threshold of 0.05 (5%) used to reject the null hypothesis. In the context of the KPSS test, where the null hypothesis states that the data is stationary, a p-value of 0.01 strongly suggests rejecting the null hypothesis in favor of the alternative hypothesis. This indicates that the data is non-stationary and likely contains a trend or a unit root, as you expected.\n",
    "\n",
    "Therefore, the data should be considered non-stationary based on this test result, and further analysis or data transformation might be necessary, depending on your application or modeling approach."
   ]
  },
  {
   "cell_type": "markdown",
   "metadata": {},
   "source": [
    "When decomposing a time series, the choice between an additive or multiplicative model is crucial. Additive models are typically used for time series that are stationary, where fluctuations around the trend do not vary with the level of the time series. On the other hand, multiplicative models are more appropriate for non-stationary data, especially when the seasonal variation increases proportionally with the level of the time series. Each model can be defined as follows:\n",
    "- Additive:  $ y_t = T_t + C_t + S_t + I_t $\n",
    "- Multiplicative: $ y_t = T_t \\times C_t \\times S_t \\times I_t $\n",
    "\n",
    "where \n",
    "$T_t$ = Trend, \n",
    "$C_t$ = Cyclic, \n",
    "$S_t$ = Seasonality, and \n",
    "$I_t$ = residual.\n"
   ]
  },
  {
   "cell_type": "code",
   "execution_count": 17,
   "metadata": {},
   "outputs": [
    {
     "data": {
      "image/png": "[encoded data removed]",
      "text/plain": [
       "<Figure size 1500x800 with 4 Axes>"
      ]
     },
     "metadata": {},
     "output_type": "display_data"
    }
   ],
   "source": [
    "# decomposition\n",
    "\n",
    "# Ensure your DataFrame is sorted by date in ascending order\n",
    "df_sorted = df.sort_values('Quarter')\n",
    "\n",
    "# Perform the seasonal decomposition on the sorted DataFrame\n",
    "res = sm.tsa.seasonal_decompose(df_sorted.Revenue, model='multiplicative', period=4)  # Assuming quarterly data\n",
    "\n",
    "# Plot the decomposed components of the time series\n",
    "resplot = res.plot()\n",
    "resplot.set_figheight(8)\n",
    "resplot.set_figwidth(15)\n",
    "plt.show()\n"
   ]
  },
  {
   "cell_type": "code",
   "execution_count": 19,
   "metadata": {},
   "outputs": [
    {
     "name": "stdout",
     "output_type": "stream",
     "text": [
      "Observed:\n",
      "----------\n",
      "Quarter\n",
      "2005-03-31     1902.0\n",
      "2005-06-30     1753.0\n",
      "2005-09-30     1858.0\n",
      "2005-12-31     2977.0\n",
      "2006-03-31     2279.0\n",
      "               ...   \n",
      "2019-03-31    59700.0\n",
      "2019-06-30    63404.0\n",
      "2019-09-30    69981.0\n",
      "2019-12-31    87437.0\n",
      "2020-03-31    75452.0\n",
      "Name: Revenue, Length: 61, dtype: float64\n",
      "Trend:\n",
      "------\n",
      "Quarter\n",
      "2005-03-31          NaN\n",
      "2005-06-30          NaN\n",
      "2005-09-30     2169.625\n",
      "2005-12-31     2265.000\n",
      "2006-03-31     2369.375\n",
      "                ...    \n",
      "2019-03-31    64691.375\n",
      "2019-06-30    68248.750\n",
      "2019-09-30    72099.500\n",
      "2019-12-31          NaN\n",
      "2020-03-31          NaN\n",
      "Name: trend, Length: 61, dtype: float64\n",
      "Seasonal:\n",
      "----------\n",
      "Quarter\n",
      "2005-03-31    0.941840\n",
      "2005-06-30    0.873649\n",
      "2005-09-30    0.894993\n",
      "2005-12-31    1.289518\n",
      "2006-03-31    0.941840\n",
      "                ...   \n",
      "2019-03-31    0.941840\n",
      "2019-06-30    0.873649\n",
      "2019-09-30    0.894993\n",
      "2019-12-31    1.289518\n",
      "2020-03-31    0.941840\n",
      "Name: seasonal, Length: 61, dtype: float64\n",
      "Residual:\n",
      "----------\n",
      "Quarter\n",
      "2005-03-31         NaN\n",
      "2005-06-30         NaN\n",
      "2005-09-30    0.956844\n",
      "2005-12-31    1.019256\n",
      "2006-03-31    1.021253\n",
      "                ...   \n",
      "2019-03-31    0.979831\n",
      "2019-06-30    1.063372\n",
      "2019-09-30    1.084496\n",
      "2019-12-31         NaN\n",
      "2020-03-31         NaN\n",
      "Name: resid, Length: 61, dtype: float64\n"
     ]
    }
   ],
   "source": [
    "print(f\"Observed:\\n{'-'*10}\\n{res.observed}\")\n",
    "print(f\"Trend:\\n{'-'*6}\\n{res.trend}\")\n",
    "print(f\"Seasonal:\\n{'-'*10}\\n{res.seasonal}\")\n",
    "print(f\"Residual:\\n{'-'*10}\\n{res.resid}\")"
   ]
  },
  {
   "cell_type": "markdown",
   "metadata": {},
   "source": [
    "In a multiplicative model, the observed time series values are understood to be the product of the trend, seasonal, and residual components. Each observed value can be represented as the multiplication of these three underlying factors."
   ]
  },
  {
   "cell_type": "code",
   "execution_count": 20,
   "metadata": {},
   "outputs": [
    {
     "name": "stdout",
     "output_type": "stream",
     "text": [
      "1858.0\n",
      "1857.9999999999998\n"
     ]
    },
    {
     "name": "stderr",
     "output_type": "stream",
     "text": [
      "C:\\Users\\nikmb\\AppData\\Local\\Temp\\ipykernel_37548\\657235117.py:1: FutureWarning:\n",
      "\n",
      "Series.__getitem__ treating keys as positions is deprecated. In a future version, integer keys will always be treated as labels (consistent with DataFrame behavior). To access a value by position, use `ser.iloc[pos]`\n",
      "\n",
      "C:\\Users\\nikmb\\AppData\\Local\\Temp\\ipykernel_37548\\657235117.py:2: FutureWarning:\n",
      "\n",
      "Series.__getitem__ treating keys as positions is deprecated. In a future version, integer keys will always be treated as labels (consistent with DataFrame behavior). To access a value by position, use `ser.iloc[pos]`\n",
      "\n"
     ]
    }
   ],
   "source": [
    "print(res.observed[2])\n",
    "print(res.trend[2]*res.seasonal[2]*res.resid[2])"
   ]
  },
  {
   "cell_type": "code",
   "execution_count": 21,
   "metadata": {},
   "outputs": [
    {
     "data": {
      "image/png": "[encoded data removed]",
      "text/plain": [
       "<Figure size 1000x800 with 1 Axes>"
      ]
     },
     "metadata": {},
     "output_type": "display_data"
    }
   ],
   "source": [
    "(res.observed/res.trend).plot();"
   ]
  },
  {
   "cell_type": "markdown",
   "metadata": {},
   "source": [
    "\n",
    "Upon dividing the observed data by the trend component, we observe the absence of any underlying trend. The resulting values retain the seasonal pattern inherent in the data, suggesting that the detrended series may be stationary. To confirm this, we will subject the detrended series to hypothesis testing.\n",
    "\n",
    "- $H_0$: The data is stationary.\n",
    "- $H_a$: The data is non-stationary."
   ]
  },
  {
   "cell_type": "code",
   "execution_count": 22,
   "metadata": {},
   "outputs": [],
   "source": [
    "no_trend_ts = pd.Series(res.observed / res.trend)\n",
    "no_trend_ts = no_trend_ts.dropna()"
   ]
  },
  {
   "cell_type": "code",
   "execution_count": null,
   "metadata": {},
   "outputs": [],
   "source": [
    "ntts_test = kpss(no_trend_ts, regression='c')\n",
    "ntts_test\n",
    "     "
   ]
  },
  {
   "cell_type": "markdown",
   "metadata": {},
   "source": [
    "The results of the KPSS test on the detrended time series yield a test statistic of 0.10907270284783672 and a p-value of 0.1. When compared against a significance level of 5%, the p-value is greater than the critical value of 0.463. This indicates that we lack sufficient evidence to reject the null hypothesis, which posits that the series is stationary. Consequently, we can assert with some confidence that the detrended data exhibits stationarity."
   ]
  }
 ],
 "metadata": {
  "kernelspec": {
   "display_name": "ts",
   "language": "python",
   "name": "python3"
  },
  "language_info": {
   "codemirror_mode": {
    "name": "ipython",
    "version": 3
   },
   "file_extension": ".py",
   "mimetype": "text/x-python",
   "name": "python",
   "nbconvert_exporter": "python",
   "pygments_lexer": "ipython3",
   "version": "3.12.0"
  }
 },
 "nbformat": 4,
 "nbformat_minor": 2
}
