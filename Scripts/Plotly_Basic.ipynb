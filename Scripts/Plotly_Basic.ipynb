{
 "cells": [
  {
   "cell_type": "markdown",
   "metadata": {},
   "source": [
    "Madusanka Madiligama 01/04/2024"
   ]
  },
  {
   "cell_type": "code",
   "execution_count": 1,
   "metadata": {},
   "outputs": [],
   "source": [
    "# standard plotly imports\n",
    "import pandas as pd\n",
    "import plotly as py\n",
    "import plotly.graph_objs as go\n",
    "import plotly.express as px\n",
    "from plotly.offline import iplot, init_notebook_mode"
   ]
  },
  {
   "cell_type": "code",
   "execution_count": 2,
   "metadata": {},
   "outputs": [
    {
     "data": {
      "text/html": [
       "<div>\n",
       "<style scoped>\n",
       "    .dataframe tbody tr th:only-of-type {\n",
       "        vertical-align: middle;\n",
       "    }\n",
       "\n",
       "    .dataframe tbody tr th {\n",
       "        vertical-align: top;\n",
       "    }\n",
       "\n",
       "    .dataframe thead th {\n",
       "        text-align: right;\n",
       "    }\n",
       "</style>\n",
       "<table border=\"1\" class=\"dataframe\">\n",
       "  <thead>\n",
       "    <tr style=\"text-align: right;\">\n",
       "      <th></th>\n",
       "      <th>Year</th>\n",
       "      <th>Country</th>\n",
       "      <th>Continent</th>\n",
       "      <th>Emission</th>\n",
       "    </tr>\n",
       "  </thead>\n",
       "  <tbody>\n",
       "    <tr>\n",
       "      <th>0</th>\n",
       "      <td>2008</td>\n",
       "      <td>Aruba</td>\n",
       "      <td>South America</td>\n",
       "      <td>24.750133</td>\n",
       "    </tr>\n",
       "    <tr>\n",
       "      <th>1</th>\n",
       "      <td>2009</td>\n",
       "      <td>Aruba</td>\n",
       "      <td>South America</td>\n",
       "      <td>24.876706</td>\n",
       "    </tr>\n",
       "    <tr>\n",
       "      <th>2</th>\n",
       "      <td>2010</td>\n",
       "      <td>Aruba</td>\n",
       "      <td>South America</td>\n",
       "      <td>24.182702</td>\n",
       "    </tr>\n",
       "    <tr>\n",
       "      <th>3</th>\n",
       "      <td>2011</td>\n",
       "      <td>Aruba</td>\n",
       "      <td>South America</td>\n",
       "      <td>23.922412</td>\n",
       "    </tr>\n",
       "    <tr>\n",
       "      <th>4</th>\n",
       "      <td>2008</td>\n",
       "      <td>Andorra</td>\n",
       "      <td>Europe</td>\n",
       "      <td>6.296125</td>\n",
       "    </tr>\n",
       "  </tbody>\n",
       "</table>\n",
       "</div>"
      ],
      "text/plain": [
       "   Year  Country      Continent   Emission\n",
       "0  2008    Aruba  South America  24.750133\n",
       "1  2009    Aruba  South America  24.876706\n",
       "2  2010    Aruba  South America  24.182702\n",
       "3  2011    Aruba  South America  23.922412\n",
       "4  2008  Andorra         Europe   6.296125"
      ]
     },
     "execution_count": 2,
     "metadata": {},
     "output_type": "execute_result"
    }
   ],
   "source": [
    "# read data into df\n",
    "df = pd.read_csv('https://raw.githubusercontent.com/plotly/datasets/master/Emissions%20Data.csv')\n",
    "df.head()"
   ]
  },
  {
   "cell_type": "code",
   "execution_count": 3,
   "metadata": {},
   "outputs": [
    {
     "name": "stdout",
     "output_type": "stream",
     "text": [
      "<class 'pandas.core.frame.DataFrame'>\n",
      "RangeIndex: 788 entries, 0 to 787\n",
      "Data columns (total 4 columns):\n",
      " #   Column     Non-Null Count  Dtype  \n",
      "---  ------     --------------  -----  \n",
      " 0   Year       788 non-null    int64  \n",
      " 1   Country    788 non-null    object \n",
      " 2   Continent  788 non-null    object \n",
      " 3   Emission   788 non-null    float64\n",
      "dtypes: float64(1), int64(1), object(2)\n",
      "memory usage: 24.8+ KB\n"
     ]
    }
   ],
   "source": [
    "df.info()"
   ]
  },
  {
   "cell_type": "code",
   "execution_count": 4,
   "metadata": {},
   "outputs": [
    {
     "data": {
      "text/html": [
       "<div>\n",
       "<style scoped>\n",
       "    .dataframe tbody tr th:only-of-type {\n",
       "        vertical-align: middle;\n",
       "    }\n",
       "\n",
       "    .dataframe tbody tr th {\n",
       "        vertical-align: top;\n",
       "    }\n",
       "\n",
       "    .dataframe thead th {\n",
       "        text-align: right;\n",
       "    }\n",
       "</style>\n",
       "<table border=\"1\" class=\"dataframe\">\n",
       "  <thead>\n",
       "    <tr style=\"text-align: right;\">\n",
       "      <th></th>\n",
       "      <th>Year</th>\n",
       "      <th>Emission</th>\n",
       "    </tr>\n",
       "  </thead>\n",
       "  <tbody>\n",
       "    <tr>\n",
       "      <th>0</th>\n",
       "      <td>2008</td>\n",
       "      <td>5.012454</td>\n",
       "    </tr>\n",
       "    <tr>\n",
       "      <th>1</th>\n",
       "      <td>2009</td>\n",
       "      <td>4.779365</td>\n",
       "    </tr>\n",
       "    <tr>\n",
       "      <th>2</th>\n",
       "      <td>2010</td>\n",
       "      <td>4.936749</td>\n",
       "    </tr>\n",
       "    <tr>\n",
       "      <th>3</th>\n",
       "      <td>2011</td>\n",
       "      <td>4.904900</td>\n",
       "    </tr>\n",
       "  </tbody>\n",
       "</table>\n",
       "</div>"
      ],
      "text/plain": [
       "   Year  Emission\n",
       "0  2008  5.012454\n",
       "1  2009  4.779365\n",
       "2  2010  4.936749\n",
       "3  2011  4.904900"
      ]
     },
     "execution_count": 4,
     "metadata": {},
     "output_type": "execute_result"
    }
   ],
   "source": [
    "mean_emission_year = pd.DataFrame(df.groupby(['Year'])[['Emission']].mean()).reset_index()\n",
    "mean_emission_year"
   ]
  },
  {
   "cell_type": "code",
   "execution_count": 5,
   "metadata": {},
   "outputs": [
    {
     "data": {
      "application/vnd.plotly.v1+json": {
       "config": {
        "linkText": "Export to plot.ly",
        "plotlyServerURL": "https://plot.ly",
        "showLink": false
       },
       "data": [
        {
         "mode": "lines+markers",
         "name": "Emission",
         "type": "scatter",
         "x": [
          2008,
          2009,
          2010,
          2011
         ],
         "y": [
          5.012454280116751,
          4.779364858639594,
          4.9367485989390865,
          4.904900274527919
         ]
        }
       ],
       "layout": {
        "height": 500,
        "template": {
         "data": {
          "bar": [
           {
            "error_x": {
             "color": "#2a3f5f"
            },
            "error_y": {
             "color": "#2a3f5f"
            },
            "marker": {
             "line": {
              "color": "#E5ECF6",
              "width": 0.5
             },
             "pattern": {
              "fillmode": "overlay",
              "size": 10,
              "solidity": 0.2
             }
            },
            "type": "bar"
           }
          ],
          "barpolar": [
           {
            "marker": {
             "line": {
              "color": "#E5ECF6",
              "width": 0.5
             },
             "pattern": {
              "fillmode": "overlay",
              "size": 10,
              "solidity": 0.2
             }
            },
            "type": "barpolar"
           }
          ],
          "carpet": [
           {
            "aaxis": {
             "endlinecolor": "#2a3f5f",
             "gridcolor": "white",
             "linecolor": "white",
             "minorgridcolor": "white",
             "startlinecolor": "#2a3f5f"
            },
            "baxis": {
             "endlinecolor": "#2a3f5f",
             "gridcolor": "white",
             "linecolor": "white",
             "minorgridcolor": "white",
             "startlinecolor": "#2a3f5f"
            },
            "type": "carpet"
           }
          ],
          "choropleth": [
           {
            "colorbar": {
             "outlinewidth": 0,
             "ticks": ""
            },
            "type": "choropleth"
           }
          ],
          "contour": [
           {
            "colorbar": {
             "outlinewidth": 0,
             "ticks": ""
            },
            "colorscale": [
             [
              0,
              "#0d0887"
             ],
             [
              0.1111111111111111,
              "#46039f"
             ],
             [
              0.2222222222222222,
              "#7201a8"
             ],
             [
              0.3333333333333333,
              "#9c179e"
             ],
             [
              0.4444444444444444,
              "#bd3786"
             ],
             [
              0.5555555555555556,
              "#d8576b"
             ],
             [
              0.6666666666666666,
              "#ed7953"
             ],
             [
              0.7777777777777778,
              "#fb9f3a"
             ],
             [
              0.8888888888888888,
              "#fdca26"
             ],
             [
              1,
              "#f0f921"
             ]
            ],
            "type": "contour"
           }
          ],
          "contourcarpet": [
           {
            "colorbar": {
             "outlinewidth": 0,
             "ticks": ""
            },
            "type": "contourcarpet"
           }
          ],
          "heatmap": [
           {
            "colorbar": {
             "outlinewidth": 0,
             "ticks": ""
            },
            "colorscale": [
             [
              0,
              "#0d0887"
             ],
             [
              0.1111111111111111,
              "#46039f"
             ],
             [
              0.2222222222222222,
              "#7201a8"
             ],
             [
              0.3333333333333333,
              "#9c179e"
             ],
             [
              0.4444444444444444,
              "#bd3786"
             ],
             [
              0.5555555555555556,
              "#d8576b"
             ],
             [
              0.6666666666666666,
              "#ed7953"
             ],
             [
              0.7777777777777778,
              "#fb9f3a"
             ],
             [
              0.8888888888888888,
              "#fdca26"
             ],
             [
              1,
              "#f0f921"
             ]
            ],
            "type": "heatmap"
           }
          ],
          "heatmapgl": [
           {
            "colorbar": {
             "outlinewidth": 0,
             "ticks": ""
            },
            "colorscale": [
             [
              0,
              "#0d0887"
             ],
             [
              0.1111111111111111,
              "#46039f"
             ],
             [
              0.2222222222222222,
              "#7201a8"
             ],
             [
              0.3333333333333333,
              "#9c179e"
             ],
             [
              0.4444444444444444,
              "#bd3786"
             ],
             [
              0.5555555555555556,
              "#d8576b"
             ],
             [
              0.6666666666666666,
              "#ed7953"
             ],
             [
              0.7777777777777778,
              "#fb9f3a"
             ],
             [
              0.8888888888888888,
              "#fdca26"
             ],
             [
              1,
              "#f0f921"
             ]
            ],
            "type": "heatmapgl"
           }
          ],
          "histogram": [
           {
            "marker": {
             "pattern": {
              "fillmode": "overlay",
              "size": 10,
              "solidity": 0.2
             }
            },
            "type": "histogram"
           }
          ],
          "histogram2d": [
           {
            "colorbar": {
             "outlinewidth": 0,
             "ticks": ""
            },
            "colorscale": [
             [
              0,
              "#0d0887"
             ],
             [
              0.1111111111111111,
              "#46039f"
             ],
             [
              0.2222222222222222,
              "#7201a8"
             ],
             [
              0.3333333333333333,
              "#9c179e"
             ],
             [
              0.4444444444444444,
              "#bd3786"
             ],
             [
              0.5555555555555556,
              "#d8576b"
             ],
             [
              0.6666666666666666,
              "#ed7953"
             ],
             [
              0.7777777777777778,
              "#fb9f3a"
             ],
             [
              0.8888888888888888,
              "#fdca26"
             ],
             [
              1,
              "#f0f921"
             ]
            ],
            "type": "histogram2d"
           }
          ],
          "histogram2dcontour": [
           {
            "colorbar": {
             "outlinewidth": 0,
             "ticks": ""
            },
            "colorscale": [
             [
              0,
              "#0d0887"
             ],
             [
              0.1111111111111111,
              "#46039f"
             ],
             [
              0.2222222222222222,
              "#7201a8"
             ],
             [
              0.3333333333333333,
              "#9c179e"
             ],
             [
              0.4444444444444444,
              "#bd3786"
             ],
             [
              0.5555555555555556,
              "#d8576b"
             ],
             [
              0.6666666666666666,
              "#ed7953"
             ],
             [
              0.7777777777777778,
              "#fb9f3a"
             ],
             [
              0.8888888888888888,
              "#fdca26"
             ],
             [
              1,
              "#f0f921"
             ]
            ],
            "type": "histogram2dcontour"
           }
          ],
          "mesh3d": [
           {
            "colorbar": {
             "outlinewidth": 0,
             "ticks": ""
            },
            "type": "mesh3d"
           }
          ],
          "parcoords": [
           {
            "line": {
             "colorbar": {
              "outlinewidth": 0,
              "ticks": ""
             }
            },
            "type": "parcoords"
           }
          ],
          "pie": [
           {
            "automargin": true,
            "type": "pie"
           }
          ],
          "scatter": [
           {
            "fillpattern": {
             "fillmode": "overlay",
             "size": 10,
             "solidity": 0.2
            },
            "type": "scatter"
           }
          ],
          "scatter3d": [
           {
            "line": {
             "colorbar": {
              "outlinewidth": 0,
              "ticks": ""
             }
            },
            "marker": {
             "colorbar": {
              "outlinewidth": 0,
              "ticks": ""
             }
            },
            "type": "scatter3d"
           }
          ],
          "scattercarpet": [
           {
            "marker": {
             "colorbar": {
              "outlinewidth": 0,
              "ticks": ""
             }
            },
            "type": "scattercarpet"
           }
          ],
          "scattergeo": [
           {
            "marker": {
             "colorbar": {
              "outlinewidth": 0,
              "ticks": ""
             }
            },
            "type": "scattergeo"
           }
          ],
          "scattergl": [
           {
            "marker": {
             "colorbar": {
              "outlinewidth": 0,
              "ticks": ""
             }
            },
            "type": "scattergl"
           }
          ],
          "scattermapbox": [
           {
            "marker": {
             "colorbar": {
              "outlinewidth": 0,
              "ticks": ""
             }
            },
            "type": "scattermapbox"
           }
          ],
          "scatterpolar": [
           {
            "marker": {
             "colorbar": {
              "outlinewidth": 0,
              "ticks": ""
             }
            },
            "type": "scatterpolar"
           }
          ],
          "scatterpolargl": [
           {
            "marker": {
             "colorbar": {
              "outlinewidth": 0,
              "ticks": ""
             }
            },
            "type": "scatterpolargl"
           }
          ],
          "scatterternary": [
           {
            "marker": {
             "colorbar": {
              "outlinewidth": 0,
              "ticks": ""
             }
            },
            "type": "scatterternary"
           }
          ],
          "surface": [
           {
            "colorbar": {
             "outlinewidth": 0,
             "ticks": ""
            },
            "colorscale": [
             [
              0,
              "#0d0887"
             ],
             [
              0.1111111111111111,
              "#46039f"
             ],
             [
              0.2222222222222222,
              "#7201a8"
             ],
             [
              0.3333333333333333,
              "#9c179e"
             ],
             [
              0.4444444444444444,
              "#bd3786"
             ],
             [
              0.5555555555555556,
              "#d8576b"
             ],
             [
              0.6666666666666666,
              "#ed7953"
             ],
             [
              0.7777777777777778,
              "#fb9f3a"
             ],
             [
              0.8888888888888888,
              "#fdca26"
             ],
             [
              1,
              "#f0f921"
             ]
            ],
            "type": "surface"
           }
          ],
          "table": [
           {
            "cells": {
             "fill": {
              "color": "#EBF0F8"
             },
             "line": {
              "color": "white"
             }
            },
            "header": {
             "fill": {
              "color": "#C8D4E3"
             },
             "line": {
              "color": "white"
             }
            },
            "type": "table"
           }
          ]
         },
         "layout": {
          "annotationdefaults": {
           "arrowcolor": "#2a3f5f",
           "arrowhead": 0,
           "arrowwidth": 1
          },
          "autotypenumbers": "strict",
          "coloraxis": {
           "colorbar": {
            "outlinewidth": 0,
            "ticks": ""
           }
          },
          "colorscale": {
           "diverging": [
            [
             0,
             "#8e0152"
            ],
            [
             0.1,
             "#c51b7d"
            ],
            [
             0.2,
             "#de77ae"
            ],
            [
             0.3,
             "#f1b6da"
            ],
            [
             0.4,
             "#fde0ef"
            ],
            [
             0.5,
             "#f7f7f7"
            ],
            [
             0.6,
             "#e6f5d0"
            ],
            [
             0.7,
             "#b8e186"
            ],
            [
             0.8,
             "#7fbc41"
            ],
            [
             0.9,
             "#4d9221"
            ],
            [
             1,
             "#276419"
            ]
           ],
           "sequential": [
            [
             0,
             "#0d0887"
            ],
            [
             0.1111111111111111,
             "#46039f"
            ],
            [
             0.2222222222222222,
             "#7201a8"
            ],
            [
             0.3333333333333333,
             "#9c179e"
            ],
            [
             0.4444444444444444,
             "#bd3786"
            ],
            [
             0.5555555555555556,
             "#d8576b"
            ],
            [
             0.6666666666666666,
             "#ed7953"
            ],
            [
             0.7777777777777778,
             "#fb9f3a"
            ],
            [
             0.8888888888888888,
             "#fdca26"
            ],
            [
             1,
             "#f0f921"
            ]
           ],
           "sequentialminus": [
            [
             0,
             "#0d0887"
            ],
            [
             0.1111111111111111,
             "#46039f"
            ],
            [
             0.2222222222222222,
             "#7201a8"
            ],
            [
             0.3333333333333333,
             "#9c179e"
            ],
            [
             0.4444444444444444,
             "#bd3786"
            ],
            [
             0.5555555555555556,
             "#d8576b"
            ],
            [
             0.6666666666666666,
             "#ed7953"
            ],
            [
             0.7777777777777778,
             "#fb9f3a"
            ],
            [
             0.8888888888888888,
             "#fdca26"
            ],
            [
             1,
             "#f0f921"
            ]
           ]
          },
          "colorway": [
           "#636efa",
           "#EF553B",
           "#00cc96",
           "#ab63fa",
           "#FFA15A",
           "#19d3f3",
           "#FF6692",
           "#B6E880",
           "#FF97FF",
           "#FECB52"
          ],
          "font": {
           "color": "#2a3f5f"
          },
          "geo": {
           "bgcolor": "white",
           "lakecolor": "white",
           "landcolor": "#E5ECF6",
           "showlakes": true,
           "showland": true,
           "subunitcolor": "white"
          },
          "hoverlabel": {
           "align": "left"
          },
          "hovermode": "closest",
          "mapbox": {
           "style": "light"
          },
          "paper_bgcolor": "white",
          "plot_bgcolor": "#E5ECF6",
          "polar": {
           "angularaxis": {
            "gridcolor": "white",
            "linecolor": "white",
            "ticks": ""
           },
           "bgcolor": "#E5ECF6",
           "radialaxis": {
            "gridcolor": "white",
            "linecolor": "white",
            "ticks": ""
           }
          },
          "scene": {
           "xaxis": {
            "backgroundcolor": "#E5ECF6",
            "gridcolor": "white",
            "gridwidth": 2,
            "linecolor": "white",
            "showbackground": true,
            "ticks": "",
            "zerolinecolor": "white"
           },
           "yaxis": {
            "backgroundcolor": "#E5ECF6",
            "gridcolor": "white",
            "gridwidth": 2,
            "linecolor": "white",
            "showbackground": true,
            "ticks": "",
            "zerolinecolor": "white"
           },
           "zaxis": {
            "backgroundcolor": "#E5ECF6",
            "gridcolor": "white",
            "gridwidth": 2,
            "linecolor": "white",
            "showbackground": true,
            "ticks": "",
            "zerolinecolor": "white"
           }
          },
          "shapedefaults": {
           "line": {
            "color": "#2a3f5f"
           }
          },
          "ternary": {
           "aaxis": {
            "gridcolor": "white",
            "linecolor": "white",
            "ticks": ""
           },
           "baxis": {
            "gridcolor": "white",
            "linecolor": "white",
            "ticks": ""
           },
           "bgcolor": "#E5ECF6",
           "caxis": {
            "gridcolor": "white",
            "linecolor": "white",
            "ticks": ""
           }
          },
          "title": {
           "x": 0.05
          },
          "xaxis": {
           "automargin": true,
           "gridcolor": "white",
           "linecolor": "white",
           "ticks": "",
           "title": {
            "standoff": 15
           },
           "zerolinecolor": "white",
           "zerolinewidth": 2
          },
          "yaxis": {
           "automargin": true,
           "gridcolor": "white",
           "linecolor": "white",
           "ticks": "",
           "title": {
            "standoff": 15
           },
           "zerolinecolor": "white",
           "zerolinewidth": 2
          }
         }
        },
        "title": {
         "text": "Average Emission by Year"
        },
        "width": 600,
        "xaxis": {
         "dtick": 1,
         "showgrid": true,
         "title": {
          "text": "Year"
         }
        },
        "yaxis": {
         "showgrid": true,
         "title": {
          "text": "Emission"
         }
        }
       }
      }
     },
     "metadata": {},
     "output_type": "display_data"
    }
   ],
   "source": [
    "# Plot Average Emission by Year\n",
    "# Create the trace for the plot\n",
    "trace1 = go.Scatter(\n",
    "    x=mean_emission_year['Year'], \n",
    "    y=mean_emission_year['Emission'], \n",
    "    mode='lines+markers',\n",
    "    name='Emission' \n",
    ")\n",
    "\n",
    "# Define the layout for the plot\n",
    "layout = go.Layout(\n",
    "    title='Average Emission by Year', \n",
    "    xaxis=dict(\n",
    "        title='Year', \n",
    "        dtick=1.0,\n",
    "        showgrid=True  \n",
    "    ),\n",
    "    yaxis=dict(\n",
    "        title='Emission',  \n",
    "        showgrid=True  \n",
    "    ),\n",
    "    height=500, \n",
    "    width=600\n",
    ")\n",
    "\n",
    "# Create the figure with the trace and layout\n",
    "fig = go.Figure(data=[trace1], layout=layout)\n",
    "\n",
    "# Display the plot\n",
    "iplot(fig)\n"
   ]
  },
  {
   "cell_type": "code",
   "execution_count": 6,
   "metadata": {},
   "outputs": [
    {
     "data": {
      "text/html": [
       "<div>\n",
       "<style scoped>\n",
       "    .dataframe tbody tr th:only-of-type {\n",
       "        vertical-align: middle;\n",
       "    }\n",
       "\n",
       "    .dataframe tbody tr th {\n",
       "        vertical-align: top;\n",
       "    }\n",
       "\n",
       "    .dataframe thead th {\n",
       "        text-align: right;\n",
       "    }\n",
       "</style>\n",
       "<table border=\"1\" class=\"dataframe\">\n",
       "  <thead>\n",
       "    <tr style=\"text-align: right;\">\n",
       "      <th></th>\n",
       "      <th>Country</th>\n",
       "      <th>Emission</th>\n",
       "    </tr>\n",
       "  </thead>\n",
       "  <tbody>\n",
       "    <tr>\n",
       "      <th>0</th>\n",
       "      <td>Afghanistan</td>\n",
       "      <td>0.284058</td>\n",
       "    </tr>\n",
       "    <tr>\n",
       "      <th>1</th>\n",
       "      <td>Albania</td>\n",
       "      <td>1.558990</td>\n",
       "    </tr>\n",
       "    <tr>\n",
       "      <th>2</th>\n",
       "      <td>Algeria</td>\n",
       "      <td>3.314901</td>\n",
       "    </tr>\n",
       "    <tr>\n",
       "      <th>3</th>\n",
       "      <td>Andorra</td>\n",
       "      <td>6.109688</td>\n",
       "    </tr>\n",
       "    <tr>\n",
       "      <th>4</th>\n",
       "      <td>Angola</td>\n",
       "      <td>1.388990</td>\n",
       "    </tr>\n",
       "    <tr>\n",
       "      <th>...</th>\n",
       "      <td>...</td>\n",
       "      <td>...</td>\n",
       "    </tr>\n",
       "    <tr>\n",
       "      <th>192</th>\n",
       "      <td>Vietnam</td>\n",
       "      <td>1.716749</td>\n",
       "    </tr>\n",
       "    <tr>\n",
       "      <th>193</th>\n",
       "      <td>West Bank And Gaza</td>\n",
       "      <td>0.560487</td>\n",
       "    </tr>\n",
       "    <tr>\n",
       "      <th>194</th>\n",
       "      <td>Yemen</td>\n",
       "      <td>1.006546</td>\n",
       "    </tr>\n",
       "    <tr>\n",
       "      <th>195</th>\n",
       "      <td>Zambia</td>\n",
       "      <td>0.188319</td>\n",
       "    </tr>\n",
       "    <tr>\n",
       "      <th>196</th>\n",
       "      <td>Zimbabwe</td>\n",
       "      <td>0.626887</td>\n",
       "    </tr>\n",
       "  </tbody>\n",
       "</table>\n",
       "<p>197 rows × 2 columns</p>\n",
       "</div>"
      ],
      "text/plain": [
       "                Country  Emission\n",
       "0           Afghanistan  0.284058\n",
       "1               Albania  1.558990\n",
       "2               Algeria  3.314901\n",
       "3               Andorra  6.109688\n",
       "4                Angola  1.388990\n",
       "..                  ...       ...\n",
       "192             Vietnam  1.716749\n",
       "193  West Bank And Gaza  0.560487\n",
       "194               Yemen  1.006546\n",
       "195              Zambia  0.188319\n",
       "196            Zimbabwe  0.626887\n",
       "\n",
       "[197 rows x 2 columns]"
      ]
     },
     "execution_count": 6,
     "metadata": {},
     "output_type": "execute_result"
    }
   ],
   "source": [
    "mean_emission_country = pd.DataFrame(df.groupby(['Country'])['Emission'].mean()).reset_index()\n",
    "mean_emission_country"
   ]
  },
  {
   "cell_type": "code",
   "execution_count": 7,
   "metadata": {},
   "outputs": [
    {
     "data": {
      "application/vnd.plotly.v1+json": {
       "config": {
        "linkText": "Export to plot.ly",
        "plotlyServerURL": "https://plot.ly",
        "showLink": false
       },
       "data": [
        {
         "marker": {
          "color": "rgba(80, 26, 80, 0.8)",
          "line": {
           "color": "DarkSlateGrey",
           "width": 2
          },
          "size": 5
         },
         "mode": "lines+markers",
         "text": [
          "Afghanistan",
          "Albania",
          "Algeria",
          "Andorra",
          "Angola",
          "Antigua And Barbuda",
          "Argentina",
          "Armenia",
          "Aruba",
          "Australia",
          "Austria",
          "Azerbaijan",
          "Bahamas",
          "Bahrain",
          "Bangladesh",
          "Barbados",
          "Belarus",
          "Belgium",
          "Belize",
          "Benin",
          "Bermuda",
          "Bhutan",
          "Bolivia",
          "Bosnia And Herzegovina",
          "Botswana",
          "Brazil",
          "Brunei",
          "Bulgaria",
          "Burkina Faso",
          "Burundi",
          "Cabo Verde",
          "Cambodia",
          "Cameroon",
          "Canada",
          "Cayman Islands",
          "Central African Republic",
          "Chad",
          "Chile",
          "China",
          "Colombia",
          "Comoros",
          "Costa Rica",
          "Cote D'Ivoire",
          "Croatia",
          "Cuba",
          "Cyprus",
          "Czech Republic",
          "Dem Rep Of Congo",
          "Denmark",
          "Djibouti",
          "Dominica",
          "Dominican Republic",
          "Ecuador",
          "Egypt",
          "El Salvador",
          "Equatorial Guinea",
          "Eritrea",
          "Estonia",
          "Ethiopia",
          "Faroe Islands",
          "Fiji",
          "Finland",
          "France",
          "French Polynesia",
          "Gabon",
          "Gambia",
          "Georgia",
          "Germany",
          "Ghana",
          "Greece",
          "Greenland",
          "Grenada",
          "Guatemala",
          "Guinea",
          "Guinea-Bissau",
          "Guyana",
          "Haiti",
          "Honduras",
          "Hong Kong",
          "Hungary",
          "Iceland",
          "India",
          "Indonesia",
          "Iran",
          "Iraq",
          "Ireland",
          "Israel",
          "Italy",
          "Jamaica",
          "Japan",
          "Jordan",
          "Kazakhstan",
          "Kenya",
          "Kiribati",
          "Kuwait",
          "Kyrgyz Republic",
          "Latvia",
          "Lebanon",
          "Lesotho",
          "Liberia",
          "Libya",
          "Liechtenstein",
          "Lithuania",
          "Luxembourg",
          "Macedonia",
          "Madagascar",
          "Malawi",
          "Malaysia",
          "Maldives",
          "Mali",
          "Malta",
          "Marshall Islands",
          "Mauritania",
          "Mauritius",
          "Mexico",
          "Micronesia",
          "Moldova",
          "Mongolia",
          "Montenegro",
          "Morocco",
          "Mozambique",
          "Myanmar",
          "Namibia",
          "Nepal",
          "Netherlands",
          "New Caledonia",
          "New Zealand",
          "Nicaragua",
          "Niger",
          "Nigeria",
          "North Korea",
          "Norway",
          "Oman",
          "Pakistan",
          "Palau",
          "Panama",
          "Papua New Guinea",
          "Paraguay",
          "Peru",
          "Philippines",
          "Poland",
          "Portugal",
          "Qatar",
          "Rep Of Congo",
          "Romania",
          "Russian Federation",
          "Rwanda",
          "Samoa",
          "Sao Tome And Principe",
          "Saudi Arabia",
          "Senegal",
          "Serbia",
          "Seychelles",
          "Sierra Leone",
          "Singapore",
          "Slovak Republic",
          "Slovenia",
          "Solomon Islands",
          "Somalia",
          "South Africa",
          "South Korea",
          "Spain",
          "Sri Lanka",
          "St. Kitts And Nevis",
          "St. Lucia",
          "St. Vincent And The Grenadines",
          "Sudan",
          "Suriname",
          "Swaziland",
          "Sweden",
          "Switzerland",
          "Syria",
          "Tajikistan",
          "Tanzania",
          "Thailand",
          "Timor-Leste",
          "Togo",
          "Tonga",
          "Trinidad And Tobago",
          "Tunisia",
          "Turkey",
          "Turkmenistan",
          "Turks And Caicos Islands",
          "Uganda",
          "Ukraine",
          "United Arab Emirates",
          "United Kingdom",
          "United States",
          "Uruguay",
          "Uzbekistan",
          "Vanuatu",
          "Venezuela",
          "Vietnam",
          "West Bank And Gaza",
          "Yemen",
          "Zambia",
          "Zimbabwe"
         ],
         "type": "scatter",
         "x": [
          "Afghanistan",
          "Albania",
          "Algeria",
          "Andorra",
          "Angola",
          "Antigua And Barbuda",
          "Argentina",
          "Armenia",
          "Aruba",
          "Australia",
          "Austria",
          "Azerbaijan",
          "Bahamas",
          "Bahrain",
          "Bangladesh",
          "Barbados",
          "Belarus",
          "Belgium",
          "Belize",
          "Benin",
          "Bermuda",
          "Bhutan",
          "Bolivia",
          "Bosnia And Herzegovina",
          "Botswana",
          "Brazil",
          "Brunei",
          "Bulgaria",
          "Burkina Faso",
          "Burundi",
          "Cabo Verde",
          "Cambodia",
          "Cameroon",
          "Canada",
          "Cayman Islands",
          "Central African Republic",
          "Chad",
          "Chile",
          "China",
          "Colombia",
          "Comoros",
          "Costa Rica",
          "Cote D'Ivoire",
          "Croatia",
          "Cuba",
          "Cyprus",
          "Czech Republic",
          "Dem Rep Of Congo",
          "Denmark",
          "Djibouti",
          "Dominica",
          "Dominican Republic",
          "Ecuador",
          "Egypt",
          "El Salvador",
          "Equatorial Guinea",
          "Eritrea",
          "Estonia",
          "Ethiopia",
          "Faroe Islands",
          "Fiji",
          "Finland",
          "France",
          "French Polynesia",
          "Gabon",
          "Gambia",
          "Georgia",
          "Germany",
          "Ghana",
          "Greece",
          "Greenland",
          "Grenada",
          "Guatemala",
          "Guinea",
          "Guinea-Bissau",
          "Guyana",
          "Haiti",
          "Honduras",
          "Hong Kong",
          "Hungary",
          "Iceland",
          "India",
          "Indonesia",
          "Iran",
          "Iraq",
          "Ireland",
          "Israel",
          "Italy",
          "Jamaica",
          "Japan",
          "Jordan",
          "Kazakhstan",
          "Kenya",
          "Kiribati",
          "Kuwait",
          "Kyrgyz Republic",
          "Latvia",
          "Lebanon",
          "Lesotho",
          "Liberia",
          "Libya",
          "Liechtenstein",
          "Lithuania",
          "Luxembourg",
          "Macedonia",
          "Madagascar",
          "Malawi",
          "Malaysia",
          "Maldives",
          "Mali",
          "Malta",
          "Marshall Islands",
          "Mauritania",
          "Mauritius",
          "Mexico",
          "Micronesia",
          "Moldova",
          "Mongolia",
          "Montenegro",
          "Morocco",
          "Mozambique",
          "Myanmar",
          "Namibia",
          "Nepal",
          "Netherlands",
          "New Caledonia",
          "New Zealand",
          "Nicaragua",
          "Niger",
          "Nigeria",
          "North Korea",
          "Norway",
          "Oman",
          "Pakistan",
          "Palau",
          "Panama",
          "Papua New Guinea",
          "Paraguay",
          "Peru",
          "Philippines",
          "Poland",
          "Portugal",
          "Qatar",
          "Rep Of Congo",
          "Romania",
          "Russian Federation",
          "Rwanda",
          "Samoa",
          "Sao Tome And Principe",
          "Saudi Arabia",
          "Senegal",
          "Serbia",
          "Seychelles",
          "Sierra Leone",
          "Singapore",
          "Slovak Republic",
          "Slovenia",
          "Solomon Islands",
          "Somalia",
          "South Africa",
          "South Korea",
          "Spain",
          "Sri Lanka",
          "St. Kitts And Nevis",
          "St. Lucia",
          "St. Vincent And The Grenadines",
          "Sudan",
          "Suriname",
          "Swaziland",
          "Sweden",
          "Switzerland",
          "Syria",
          "Tajikistan",
          "Tanzania",
          "Thailand",
          "Timor-Leste",
          "Togo",
          "Tonga",
          "Trinidad And Tobago",
          "Tunisia",
          "Turkey",
          "Turkmenistan",
          "Turks And Caicos Islands",
          "Uganda",
          "Ukraine",
          "United Arab Emirates",
          "United Kingdom",
          "United States",
          "Uruguay",
          "Uzbekistan",
          "Vanuatu",
          "Venezuela",
          "Vietnam",
          "West Bank And Gaza",
          "Yemen",
          "Zambia",
          "Zimbabwe"
         ],
         "y": [
          0.28405839525,
          1.558990285,
          3.31490105075,
          6.109688341,
          1.38898996025,
          5.8424209255,
          4.5191147695,
          1.6083068255,
          24.4329883525,
          17.14150675,
          7.9421434025,
          3.66316418125,
          4.9144437645,
          19.0096459475,
          0.357242997,
          5.678827056499999,
          6.5434369405,
          9.5490956775,
          1.59024848575,
          0.51654866125,
          6.611898576,
          0.6498187865,
          1.50479711825,
          5.5785206495,
          2.4003710855,
          2.0404398565,
          23.6881338675,
          6.29748035975,
          0.1132137545,
          0.02109368575,
          0.66846538925,
          0.294271865,
          0.30239695525,
          15.0450322925,
          10.509529024999999,
          0.057790929000000005,
          0.0439346655,
          4.2872611605,
          5.9930214765,
          1.5519828337500001,
          0.19212707875,
          1.7359749467499999,
          0.31487376675,
          4.91653172,
          2.97685027275,
          7.2718482955,
          10.647436814999999,
          0.0484115555,
          8.06247552425,
          0.59091383275,
          1.8177858494999999,
          2.166777162,
          2.26677479575,
          2.52100862175,
          1.07717882475,
          7.1060590125,
          0.1055048415,
          12.988469175,
          0.078277325,
          12.38022819,
          1.3007588,
          10.57629175475,
          5.4919193475,
          3.26475359725,
          1.42314719875,
          0.261400667,
          1.71977107725,
          9.1068158215,
          0.38504822275,
          8.184885556,
          11.5110009225,
          2.4565909255,
          0.79886193625,
          0.2109046295,
          0.146313833,
          2.2023759632499997,
          0.22742108175,
          1.1093182545,
          5.427796236,
          5.06710666625,
          6.29758287,
          1.59116961125,
          1.9411555087499999,
          7.65638667825,
          3.62152178025,
          8.7773367285,
          8.98565933025,
          6.98458716,
          3.30652817225,
          9.110150662,
          3.6238251315,
          14.731470315,
          0.30446188575,
          0.5407035339999999,
          29.5247656925,
          1.1447221779999999,
          3.70567544375,
          4.6259468864999995,
          1.080763218,
          0.17906383074999999,
          8.98032785,
          1.625174578,
          4.3452778835,
          21.4488862225,
          4.37241454625,
          0.10105406425,
          0.07941495675,
          7.72888594375,
          2.901307896,
          0.07870584225,
          6.09988420725,
          1.94275300425,
          0.59948035825,
          3.0630770605,
          3.9030840335,
          1.29726067825,
          1.3495270212500001,
          4.77812083475,
          3.931111854,
          1.705732483,
          0.1149598535,
          0.18829264299999998,
          1.46473392375,
          0.1428040985,
          10.4472192025,
          13.988881665000001,
          7.494490569250001,
          0.8109174425,
          0.0753136405,
          0.5369786625,
          3.063347583,
          10.54553473975,
          16.93327393,
          0.959097851,
          10.5081496725,
          2.3994912572500002,
          0.7305931575,
          0.7790577915,
          1.741341651,
          0.8507691402499999,
          8.190269327500001,
          4.9505701755,
          45.0240059,
          0.4461822355,
          4.196190672,
          11.972753135,
          0.05833015475,
          1.11689421175,
          0.5577929925,
          17.594903872499998,
          0.53416590275,
          6.61258844175,
          7.7426699425,
          0.128383688,
          4.17030300075,
          6.604784321,
          7.7785540404999995,
          0.37524342325,
          0.063087661,
          9.31658648675,
          11.006670775,
          6.247243987,
          0.656350627,
          4.98471548575,
          2.25870142375,
          2.13939185875,
          0.33841777274999996,
          4.48570515375,
          0.89390852475,
          5.28872506725,
          5.0579065525,
          3.02046614725,
          0.38126439075,
          0.14823705799999998,
          4.29687236625,
          0.17387205325,
          0.2862780585,
          1.14148145975,
          36.8756602475,
          2.4289349952499997,
          4.114653769,
          11.3025025575,
          6.0495082052499995,
          0.10660566,
          6.31789109625,
          21.1726727475,
          7.74103955025,
          17.5466553425,
          2.2702701535,
          3.9886769995,
          0.50078954875,
          6.5895687945,
          1.7167489655,
          0.560486745,
          1.0065459785,
          0.188319483,
          0.62688680675
         ]
        }
       ],
       "layout": {
        "height": 500,
        "showlegend": false,
        "template": {
         "data": {
          "bar": [
           {
            "error_x": {
             "color": "#2a3f5f"
            },
            "error_y": {
             "color": "#2a3f5f"
            },
            "marker": {
             "line": {
              "color": "#E5ECF6",
              "width": 0.5
             },
             "pattern": {
              "fillmode": "overlay",
              "size": 10,
              "solidity": 0.2
             }
            },
            "type": "bar"
           }
          ],
          "barpolar": [
           {
            "marker": {
             "line": {
              "color": "#E5ECF6",
              "width": 0.5
             },
             "pattern": {
              "fillmode": "overlay",
              "size": 10,
              "solidity": 0.2
             }
            },
            "type": "barpolar"
           }
          ],
          "carpet": [
           {
            "aaxis": {
             "endlinecolor": "#2a3f5f",
             "gridcolor": "white",
             "linecolor": "white",
             "minorgridcolor": "white",
             "startlinecolor": "#2a3f5f"
            },
            "baxis": {
             "endlinecolor": "#2a3f5f",
             "gridcolor": "white",
             "linecolor": "white",
             "minorgridcolor": "white",
             "startlinecolor": "#2a3f5f"
            },
            "type": "carpet"
           }
          ],
          "choropleth": [
           {
            "colorbar": {
             "outlinewidth": 0,
             "ticks": ""
            },
            "type": "choropleth"
           }
          ],
          "contour": [
           {
            "colorbar": {
             "outlinewidth": 0,
             "ticks": ""
            },
            "colorscale": [
             [
              0,
              "#0d0887"
             ],
             [
              0.1111111111111111,
              "#46039f"
             ],
             [
              0.2222222222222222,
              "#7201a8"
             ],
             [
              0.3333333333333333,
              "#9c179e"
             ],
             [
              0.4444444444444444,
              "#bd3786"
             ],
             [
              0.5555555555555556,
              "#d8576b"
             ],
             [
              0.6666666666666666,
              "#ed7953"
             ],
             [
              0.7777777777777778,
              "#fb9f3a"
             ],
             [
              0.8888888888888888,
              "#fdca26"
             ],
             [
              1,
              "#f0f921"
             ]
            ],
            "type": "contour"
           }
          ],
          "contourcarpet": [
           {
            "colorbar": {
             "outlinewidth": 0,
             "ticks": ""
            },
            "type": "contourcarpet"
           }
          ],
          "heatmap": [
           {
            "colorbar": {
             "outlinewidth": 0,
             "ticks": ""
            },
            "colorscale": [
             [
              0,
              "#0d0887"
             ],
             [
              0.1111111111111111,
              "#46039f"
             ],
             [
              0.2222222222222222,
              "#7201a8"
             ],
             [
              0.3333333333333333,
              "#9c179e"
             ],
             [
              0.4444444444444444,
              "#bd3786"
             ],
             [
              0.5555555555555556,
              "#d8576b"
             ],
             [
              0.6666666666666666,
              "#ed7953"
             ],
             [
              0.7777777777777778,
              "#fb9f3a"
             ],
             [
              0.8888888888888888,
              "#fdca26"
             ],
             [
              1,
              "#f0f921"
             ]
            ],
            "type": "heatmap"
           }
          ],
          "heatmapgl": [
           {
            "colorbar": {
             "outlinewidth": 0,
             "ticks": ""
            },
            "colorscale": [
             [
              0,
              "#0d0887"
             ],
             [
              0.1111111111111111,
              "#46039f"
             ],
             [
              0.2222222222222222,
              "#7201a8"
             ],
             [
              0.3333333333333333,
              "#9c179e"
             ],
             [
              0.4444444444444444,
              "#bd3786"
             ],
             [
              0.5555555555555556,
              "#d8576b"
             ],
             [
              0.6666666666666666,
              "#ed7953"
             ],
             [
              0.7777777777777778,
              "#fb9f3a"
             ],
             [
              0.8888888888888888,
              "#fdca26"
             ],
             [
              1,
              "#f0f921"
             ]
            ],
            "type": "heatmapgl"
           }
          ],
          "histogram": [
           {
            "marker": {
             "pattern": {
              "fillmode": "overlay",
              "size": 10,
              "solidity": 0.2
             }
            },
            "type": "histogram"
           }
          ],
          "histogram2d": [
           {
            "colorbar": {
             "outlinewidth": 0,
             "ticks": ""
            },
            "colorscale": [
             [
              0,
              "#0d0887"
             ],
             [
              0.1111111111111111,
              "#46039f"
             ],
             [
              0.2222222222222222,
              "#7201a8"
             ],
             [
              0.3333333333333333,
              "#9c179e"
             ],
             [
              0.4444444444444444,
              "#bd3786"
             ],
             [
              0.5555555555555556,
              "#d8576b"
             ],
             [
              0.6666666666666666,
              "#ed7953"
             ],
             [
              0.7777777777777778,
              "#fb9f3a"
             ],
             [
              0.8888888888888888,
              "#fdca26"
             ],
             [
              1,
              "#f0f921"
             ]
            ],
            "type": "histogram2d"
           }
          ],
          "histogram2dcontour": [
           {
            "colorbar": {
             "outlinewidth": 0,
             "ticks": ""
            },
            "colorscale": [
             [
              0,
              "#0d0887"
             ],
             [
              0.1111111111111111,
              "#46039f"
             ],
             [
              0.2222222222222222,
              "#7201a8"
             ],
             [
              0.3333333333333333,
              "#9c179e"
             ],
             [
              0.4444444444444444,
              "#bd3786"
             ],
             [
              0.5555555555555556,
              "#d8576b"
             ],
             [
              0.6666666666666666,
              "#ed7953"
             ],
             [
              0.7777777777777778,
              "#fb9f3a"
             ],
             [
              0.8888888888888888,
              "#fdca26"
             ],
             [
              1,
              "#f0f921"
             ]
            ],
            "type": "histogram2dcontour"
           }
          ],
          "mesh3d": [
           {
            "colorbar": {
             "outlinewidth": 0,
             "ticks": ""
            },
            "type": "mesh3d"
           }
          ],
          "parcoords": [
           {
            "line": {
             "colorbar": {
              "outlinewidth": 0,
              "ticks": ""
             }
            },
            "type": "parcoords"
           }
          ],
          "pie": [
           {
            "automargin": true,
            "type": "pie"
           }
          ],
          "scatter": [
           {
            "fillpattern": {
             "fillmode": "overlay",
             "size": 10,
             "solidity": 0.2
            },
            "type": "scatter"
           }
          ],
          "scatter3d": [
           {
            "line": {
             "colorbar": {
              "outlinewidth": 0,
              "ticks": ""
             }
            },
            "marker": {
             "colorbar": {
              "outlinewidth": 0,
              "ticks": ""
             }
            },
            "type": "scatter3d"
           }
          ],
          "scattercarpet": [
           {
            "marker": {
             "colorbar": {
              "outlinewidth": 0,
              "ticks": ""
             }
            },
            "type": "scattercarpet"
           }
          ],
          "scattergeo": [
           {
            "marker": {
             "colorbar": {
              "outlinewidth": 0,
              "ticks": ""
             }
            },
            "type": "scattergeo"
           }
          ],
          "scattergl": [
           {
            "marker": {
             "colorbar": {
              "outlinewidth": 0,
              "ticks": ""
             }
            },
            "type": "scattergl"
           }
          ],
          "scattermapbox": [
           {
            "marker": {
             "colorbar": {
              "outlinewidth": 0,
              "ticks": ""
             }
            },
            "type": "scattermapbox"
           }
          ],
          "scatterpolar": [
           {
            "marker": {
             "colorbar": {
              "outlinewidth": 0,
              "ticks": ""
             }
            },
            "type": "scatterpolar"
           }
          ],
          "scatterpolargl": [
           {
            "marker": {
             "colorbar": {
              "outlinewidth": 0,
              "ticks": ""
             }
            },
            "type": "scatterpolargl"
           }
          ],
          "scatterternary": [
           {
            "marker": {
             "colorbar": {
              "outlinewidth": 0,
              "ticks": ""
             }
            },
            "type": "scatterternary"
           }
          ],
          "surface": [
           {
            "colorbar": {
             "outlinewidth": 0,
             "ticks": ""
            },
            "colorscale": [
             [
              0,
              "#0d0887"
             ],
             [
              0.1111111111111111,
              "#46039f"
             ],
             [
              0.2222222222222222,
              "#7201a8"
             ],
             [
              0.3333333333333333,
              "#9c179e"
             ],
             [
              0.4444444444444444,
              "#bd3786"
             ],
             [
              0.5555555555555556,
              "#d8576b"
             ],
             [
              0.6666666666666666,
              "#ed7953"
             ],
             [
              0.7777777777777778,
              "#fb9f3a"
             ],
             [
              0.8888888888888888,
              "#fdca26"
             ],
             [
              1,
              "#f0f921"
             ]
            ],
            "type": "surface"
           }
          ],
          "table": [
           {
            "cells": {
             "fill": {
              "color": "#EBF0F8"
             },
             "line": {
              "color": "white"
             }
            },
            "header": {
             "fill": {
              "color": "#C8D4E3"
             },
             "line": {
              "color": "white"
             }
            },
            "type": "table"
           }
          ]
         },
         "layout": {
          "annotationdefaults": {
           "arrowcolor": "#2a3f5f",
           "arrowhead": 0,
           "arrowwidth": 1
          },
          "autotypenumbers": "strict",
          "coloraxis": {
           "colorbar": {
            "outlinewidth": 0,
            "ticks": ""
           }
          },
          "colorscale": {
           "diverging": [
            [
             0,
             "#8e0152"
            ],
            [
             0.1,
             "#c51b7d"
            ],
            [
             0.2,
             "#de77ae"
            ],
            [
             0.3,
             "#f1b6da"
            ],
            [
             0.4,
             "#fde0ef"
            ],
            [
             0.5,
             "#f7f7f7"
            ],
            [
             0.6,
             "#e6f5d0"
            ],
            [
             0.7,
             "#b8e186"
            ],
            [
             0.8,
             "#7fbc41"
            ],
            [
             0.9,
             "#4d9221"
            ],
            [
             1,
             "#276419"
            ]
           ],
           "sequential": [
            [
             0,
             "#0d0887"
            ],
            [
             0.1111111111111111,
             "#46039f"
            ],
            [
             0.2222222222222222,
             "#7201a8"
            ],
            [
             0.3333333333333333,
             "#9c179e"
            ],
            [
             0.4444444444444444,
             "#bd3786"
            ],
            [
             0.5555555555555556,
             "#d8576b"
            ],
            [
             0.6666666666666666,
             "#ed7953"
            ],
            [
             0.7777777777777778,
             "#fb9f3a"
            ],
            [
             0.8888888888888888,
             "#fdca26"
            ],
            [
             1,
             "#f0f921"
            ]
           ],
           "sequentialminus": [
            [
             0,
             "#0d0887"
            ],
            [
             0.1111111111111111,
             "#46039f"
            ],
            [
             0.2222222222222222,
             "#7201a8"
            ],
            [
             0.3333333333333333,
             "#9c179e"
            ],
            [
             0.4444444444444444,
             "#bd3786"
            ],
            [
             0.5555555555555556,
             "#d8576b"
            ],
            [
             0.6666666666666666,
             "#ed7953"
            ],
            [
             0.7777777777777778,
             "#fb9f3a"
            ],
            [
             0.8888888888888888,
             "#fdca26"
            ],
            [
             1,
             "#f0f921"
            ]
           ]
          },
          "colorway": [
           "#636efa",
           "#EF553B",
           "#00cc96",
           "#ab63fa",
           "#FFA15A",
           "#19d3f3",
           "#FF6692",
           "#B6E880",
           "#FF97FF",
           "#FECB52"
          ],
          "font": {
           "color": "#2a3f5f"
          },
          "geo": {
           "bgcolor": "white",
           "lakecolor": "white",
           "landcolor": "#E5ECF6",
           "showlakes": true,
           "showland": true,
           "subunitcolor": "white"
          },
          "hoverlabel": {
           "align": "left"
          },
          "hovermode": "closest",
          "mapbox": {
           "style": "light"
          },
          "paper_bgcolor": "white",
          "plot_bgcolor": "#E5ECF6",
          "polar": {
           "angularaxis": {
            "gridcolor": "white",
            "linecolor": "white",
            "ticks": ""
           },
           "bgcolor": "#E5ECF6",
           "radialaxis": {
            "gridcolor": "white",
            "linecolor": "white",
            "ticks": ""
           }
          },
          "scene": {
           "xaxis": {
            "backgroundcolor": "#E5ECF6",
            "gridcolor": "white",
            "gridwidth": 2,
            "linecolor": "white",
            "showbackground": true,
            "ticks": "",
            "zerolinecolor": "white"
           },
           "yaxis": {
            "backgroundcolor": "#E5ECF6",
            "gridcolor": "white",
            "gridwidth": 2,
            "linecolor": "white",
            "showbackground": true,
            "ticks": "",
            "zerolinecolor": "white"
           },
           "zaxis": {
            "backgroundcolor": "#E5ECF6",
            "gridcolor": "white",
            "gridwidth": 2,
            "linecolor": "white",
            "showbackground": true,
            "ticks": "",
            "zerolinecolor": "white"
           }
          },
          "shapedefaults": {
           "line": {
            "color": "#2a3f5f"
           }
          },
          "ternary": {
           "aaxis": {
            "gridcolor": "white",
            "linecolor": "white",
            "ticks": ""
           },
           "baxis": {
            "gridcolor": "white",
            "linecolor": "white",
            "ticks": ""
           },
           "bgcolor": "#E5ECF6",
           "caxis": {
            "gridcolor": "white",
            "linecolor": "white",
            "ticks": ""
           }
          },
          "title": {
           "x": 0.05
          },
          "xaxis": {
           "automargin": true,
           "gridcolor": "white",
           "linecolor": "white",
           "ticks": "",
           "title": {
            "standoff": 15
           },
           "zerolinecolor": "white",
           "zerolinewidth": 2
          },
          "yaxis": {
           "automargin": true,
           "gridcolor": "white",
           "linecolor": "white",
           "ticks": "",
           "title": {
            "standoff": 15
           },
           "zerolinecolor": "white",
           "zerolinewidth": 2
          }
         }
        },
        "title": {
         "text": "Average Emission by Country"
        },
        "width": 1600,
        "xaxis": {
         "showticklabels": false,
         "title": {
          "text": "Country"
         }
        },
        "yaxis": {
         "dtick": 5,
         "showgrid": true,
         "title": {
          "text": "Average Emission"
         }
        }
       }
      }
     },
     "metadata": {},
     "output_type": "display_data"
    }
   ],
   "source": [
    "# Plot Average Emission by Country\n",
    "# Create the trace for the plot\n",
    "trace = go.Scatter(\n",
    "    x=mean_emission_country['Country'], \n",
    "    y=mean_emission_country['Emission'], \n",
    "    mode='lines+markers',\n",
    "    marker=dict(\n",
    "        color='rgba(80, 26, 80, 0.8)', \n",
    "        size=5,  \n",
    "        line=dict(\n",
    "            color='DarkSlateGrey',  \n",
    "            width=2  \n",
    "        )\n",
    "    ), \n",
    "    text=mean_emission_country['Country']  \n",
    ")\n",
    "\n",
    "# Define the layout for the plot\n",
    "layout = go.Layout(\n",
    "    title='Average Emission by Country', \n",
    "    xaxis=dict(\n",
    "        showticklabels=False,  \n",
    "        title='Country'\n",
    "         \n",
    "    ),\n",
    "    yaxis=dict(\n",
    "        title='Average Emission',\n",
    "        dtick=5.0,\n",
    "        showgrid=True  \n",
    "    ),\n",
    "    height=500, \n",
    "    width=1600,\n",
    "    showlegend=False  \n",
    ")\n",
    "\n",
    "# Create the figure with the trace and layout\n",
    "fig = go.Figure(data=[trace], layout=layout)\n",
    "\n",
    "iplot(fig)\n"
   ]
  },
  {
   "cell_type": "code",
   "execution_count": 8,
   "metadata": {},
   "outputs": [
    {
     "name": "stdout",
     "output_type": "stream",
     "text": [
      "         Country ISO_Code\n",
      "0          Aruba      ABW\n",
      "1    Afghanistan      AFG\n",
      "2         Angola      AGO\n",
      "3       Anguilla      AIA\n",
      "4  Åland Islands      ALA\n"
     ]
    }
   ],
   "source": [
    "import pycountry\n",
    "\n",
    "# Create a list of dictionaries with country names and their ISO Alpha-3 codes\n",
    "countries_data = [{'Country': country.name, 'ISO_Code': country.alpha_3} \n",
    "                  for country in pycountry.countries]\n",
    "\n",
    "# Convert the list of dictionaries into a DataFrame\n",
    "country_codes_df = pd.DataFrame(countries_data)\n",
    "\n",
    "print(country_codes_df.head())"
   ]
  },
  {
   "cell_type": "code",
   "execution_count": 9,
   "metadata": {},
   "outputs": [
    {
     "data": {
      "application/vnd.plotly.v1+json": {
       "config": {
        "linkText": "Export to plot.ly",
        "plotlyServerURL": "https://plot.ly",
        "showLink": false
       },
       "data": [
        {
         "mode": "lines+markers",
         "name": "2008",
         "text": [
          "Aruba",
          "Andorra",
          "Afghanistan",
          "Angola",
          "Albania",
          "United Arab Emirates",
          "Argentina",
          "Armenia",
          "Antigua And Barbuda",
          "Australia",
          "Austria",
          "Azerbaijan",
          "Burundi",
          "Belgium",
          "Benin",
          "Burkina Faso",
          "Bangladesh",
          "Bulgaria",
          "Bahrain",
          "Bahamas",
          "Bosnia And Herzegovina",
          "Belarus",
          "Belize",
          "Bermuda",
          "Bolivia",
          "Brazil",
          "Barbados",
          "Brunei",
          "Bhutan",
          "Botswana",
          "Central African Republic",
          "Canada",
          "Switzerland",
          "Chile",
          "China",
          "Cote D'Ivoire",
          "Cameroon",
          "Rep Of Congo",
          "Colombia",
          "Comoros",
          "Cabo Verde",
          "Costa Rica",
          "Cuba",
          "Cayman Islands",
          "Cyprus",
          "Czech Republic",
          "Germany",
          "Djibouti",
          "Dominica",
          "Denmark",
          "Dominican Republic",
          "Algeria",
          "Ecuador",
          "Egypt",
          "Eritrea",
          "Spain",
          "Estonia",
          "Ethiopia",
          "Finland",
          "Fiji",
          "France",
          "Faroe Islands",
          "Micronesia",
          "Gabon",
          "United Kingdom",
          "Georgia",
          "Ghana",
          "Guinea",
          "Gambia",
          "Guinea-Bissau",
          "Equatorial Guinea",
          "Greece",
          "Grenada",
          "Greenland",
          "Guatemala",
          "Guyana",
          "Hong Kong",
          "Honduras",
          "Croatia",
          "Haiti",
          "Hungary",
          "Indonesia",
          "India",
          "Ireland",
          "Iran",
          "Iraq",
          "Iceland",
          "Israel",
          "Italy",
          "Jamaica",
          "Jordan",
          "Japan",
          "Kazakhstan",
          "Kenya",
          "Kyrgyz Republic",
          "Cambodia",
          "Kiribati",
          "St. Kitts And Nevis",
          "South Korea",
          "Kuwait",
          "Lebanon",
          "Liberia",
          "Libya",
          "St. Lucia",
          "Liechtenstein",
          "Sri Lanka",
          "Lesotho",
          "Lithuania",
          "Luxembourg",
          "Latvia",
          "Morocco",
          "Moldova",
          "Madagascar",
          "Maldives",
          "Mexico",
          "Marshall Islands",
          "Macedonia",
          "Mali",
          "Malta",
          "Myanmar",
          "Montenegro",
          "Mongolia",
          "Mozambique",
          "Mauritania",
          "Mauritius",
          "Malawi",
          "Malaysia",
          "Namibia",
          "New Caledonia",
          "Niger",
          "Nigeria",
          "Nicaragua",
          "Netherlands",
          "Norway",
          "Nepal",
          "New Zealand",
          "Oman",
          "Pakistan",
          "Panama",
          "Peru",
          "Philippines",
          "Palau",
          "Papua New Guinea",
          "Poland",
          "North Korea",
          "Portugal",
          "Paraguay",
          "French Polynesia",
          "Qatar",
          "Romania",
          "Russian Federation",
          "Rwanda",
          "Saudi Arabia",
          "Sudan",
          "Senegal",
          "Singapore",
          "Solomon Islands",
          "Sierra Leone",
          "El Salvador",
          "Somalia",
          "Serbia",
          "Sao Tome And Principe",
          "Suriname",
          "Slovak Republic",
          "Slovenia",
          "Sweden",
          "Swaziland",
          "Seychelles",
          "Syria",
          "Turks And Caicos Islands",
          "Chad",
          "Togo",
          "Thailand",
          "Tajikistan",
          "Turkmenistan",
          "Timor-Leste",
          "Tonga",
          "Trinidad And Tobago",
          "Tunisia",
          "Turkey",
          "Tanzania",
          "Uganda",
          "Ukraine",
          "Uruguay",
          "United States",
          "Uzbekistan",
          "St. Vincent And The Grenadines",
          "Venezuela",
          "Vietnam",
          "Vanuatu",
          "West Bank And Gaza",
          "Samoa",
          "Yemen",
          "South Africa",
          "Dem Rep Of Congo",
          "Zambia",
          "Zimbabwe"
         ],
         "type": "scatter",
         "x": [
          "Aruba",
          "Andorra",
          "Afghanistan",
          "Angola",
          "Albania",
          "United Arab Emirates",
          "Argentina",
          "Armenia",
          "Antigua And Barbuda",
          "Australia",
          "Austria",
          "Azerbaijan",
          "Burundi",
          "Belgium",
          "Benin",
          "Burkina Faso",
          "Bangladesh",
          "Bulgaria",
          "Bahrain",
          "Bahamas",
          "Bosnia And Herzegovina",
          "Belarus",
          "Belize",
          "Bermuda",
          "Bolivia",
          "Brazil",
          "Barbados",
          "Brunei",
          "Bhutan",
          "Botswana",
          "Central African Republic",
          "Canada",
          "Switzerland",
          "Chile",
          "China",
          "Cote D'Ivoire",
          "Cameroon",
          "Rep Of Congo",
          "Colombia",
          "Comoros",
          "Cabo Verde",
          "Costa Rica",
          "Cuba",
          "Cayman Islands",
          "Cyprus",
          "Czech Republic",
          "Germany",
          "Djibouti",
          "Dominica",
          "Denmark",
          "Dominican Republic",
          "Algeria",
          "Ecuador",
          "Egypt",
          "Eritrea",
          "Spain",
          "Estonia",
          "Ethiopia",
          "Finland",
          "Fiji",
          "France",
          "Faroe Islands",
          "Micronesia",
          "Gabon",
          "United Kingdom",
          "Georgia",
          "Ghana",
          "Guinea",
          "Gambia",
          "Guinea-Bissau",
          "Equatorial Guinea",
          "Greece",
          "Grenada",
          "Greenland",
          "Guatemala",
          "Guyana",
          "Hong Kong",
          "Honduras",
          "Croatia",
          "Haiti",
          "Hungary",
          "Indonesia",
          "India",
          "Ireland",
          "Iran",
          "Iraq",
          "Iceland",
          "Israel",
          "Italy",
          "Jamaica",
          "Jordan",
          "Japan",
          "Kazakhstan",
          "Kenya",
          "Kyrgyz Republic",
          "Cambodia",
          "Kiribati",
          "St. Kitts And Nevis",
          "South Korea",
          "Kuwait",
          "Lebanon",
          "Liberia",
          "Libya",
          "St. Lucia",
          "Liechtenstein",
          "Sri Lanka",
          "Lesotho",
          "Lithuania",
          "Luxembourg",
          "Latvia",
          "Morocco",
          "Moldova",
          "Madagascar",
          "Maldives",
          "Mexico",
          "Marshall Islands",
          "Macedonia",
          "Mali",
          "Malta",
          "Myanmar",
          "Montenegro",
          "Mongolia",
          "Mozambique",
          "Mauritania",
          "Mauritius",
          "Malawi",
          "Malaysia",
          "Namibia",
          "New Caledonia",
          "Niger",
          "Nigeria",
          "Nicaragua",
          "Netherlands",
          "Norway",
          "Nepal",
          "New Zealand",
          "Oman",
          "Pakistan",
          "Panama",
          "Peru",
          "Philippines",
          "Palau",
          "Papua New Guinea",
          "Poland",
          "North Korea",
          "Portugal",
          "Paraguay",
          "French Polynesia",
          "Qatar",
          "Romania",
          "Russian Federation",
          "Rwanda",
          "Saudi Arabia",
          "Sudan",
          "Senegal",
          "Singapore",
          "Solomon Islands",
          "Sierra Leone",
          "El Salvador",
          "Somalia",
          "Serbia",
          "Sao Tome And Principe",
          "Suriname",
          "Slovak Republic",
          "Slovenia",
          "Sweden",
          "Swaziland",
          "Seychelles",
          "Syria",
          "Turks And Caicos Islands",
          "Chad",
          "Togo",
          "Thailand",
          "Tajikistan",
          "Turkmenistan",
          "Timor-Leste",
          "Tonga",
          "Trinidad And Tobago",
          "Tunisia",
          "Turkey",
          "Tanzania",
          "Uganda",
          "Ukraine",
          "Uruguay",
          "United States",
          "Uzbekistan",
          "St. Vincent And The Grenadines",
          "Venezuela",
          "Vietnam",
          "Vanuatu",
          "West Bank And Gaza",
          "Samoa",
          "Yemen",
          "South Africa",
          "Dem Rep Of Congo",
          "Zambia",
          "Zimbabwe"
         ],
         "y": [
          24.75013321,
          6.296124556,
          0.158961558,
          1.369424769,
          1.580113283,
          23.03360047,
          4.744178401,
          1.868611029,
          5.628318688,
          17.70407968,
          8.262046031,
          4.051383481,
          0.021615102,
          9.699598963,
          0.500183373,
          0.115427271,
          0.334439662,
          6.778939404,
          21.51999548,
          2.99808943,
          5.231546645,
          6.592748741,
          1.473195826,
          5.955019687,
          1.412189336,
          1.990428942,
          5.871114076,
          26.33827137,
          0.606778515,
          2.530551369,
          0.054828457,
          16.36616459,
          5.281605848,
          4.316439805,
          5.311151855,
          0.356768972,
          0.283310454,
          0.34155941,
          1.451147307,
          0.181858212,
          0.591177784,
          1.880064504,
          2.696438401,
          11.22444969,
          7.929771311,
          11.24012897,
          9.525658763,
          0.615968351,
          1.81071091,
          8.547356106,
          2.222311005,
          3.205182841,
          2.064521305,
          2.491853031,
          0.092069391,
          7.16545181,
          13.08183443,
          0.076668381,
          10.65165217,
          1.278570124,
          5.774521922,
          12.97012071,
          1.158310361,
          1.39589453,
          8.4377732,
          1.592369727,
          0.395319087,
          0.191660762,
          0.258833628,
          0.145619048,
          6.562117562,
          8.829327935,
          2.505022418,
          11.71815083,
          0.811036638,
          2.083255358,
          5.543874932,
          1.194640242,
          5.269158157,
          0.250131013,
          5.463501182,
          1.752149102,
          1.497886363,
          9.527000515,
          7.533279752,
          3.194050322,
          6.677481144,
          9.340594762,
          7.60176497,
          4.476814921,
          3.689815762,
          9.4229613,
          14.65957764,
          0.267801815,
          1.069343449,
          0.285282402,
          0.558783791,
          4.880433719,
          10.36983266,
          30.58126375,
          4.202060939,
          0.156752837,
          9.136624366,
          2.292817072,
          1.95047731,
          0.602955794,
          1.056111113,
          4.598897641,
          22.38547222,
          3.629405756,
          1.687375568,
          1.337336013,
          0.099740761,
          2.78570442,
          4.126988108,
          1.895961395,
          4.574681817,
          0.075281844,
          6.252313871,
          0.176918537,
          4.457679397,
          3.81388549,
          0.101742097,
          0.567036613,
          3.029991456,
          0.082545714,
          7.656532739,
          1.691632521,
          13.53130952,
          0.060771767,
          0.613327639,
          0.790487627,
          10.52945151,
          10.55446109,
          0.11450154,
          8.044536128,
          14.4797972,
          0.975314124,
          2.107748953,
          1.441345465,
          0.841040935,
          10.33366293,
          0.73337006,
          8.273068216,
          3.220672403,
          5.24374293,
          0.719800679,
          3.306029055,
          48.60161977,
          4.658143211,
          12.01913064,
          0.055661387,
          15.63931332,
          0.318940846,
          0.444968124,
          4.927577946,
          0.378784688,
          0.120200375,
          1.090169563,
          0.065850768,
          7.058387624,
          0.515547541,
          4.84197988,
          7.010558568,
          8.532016271,
          5.326109585,
          0.950321127,
          7.970272322,
          3.360814123,
          6.094874665,
          0.045756274,
          0.285947797,
          3.984059667,
          0.409462437,
          11.55757176,
          0.185016931,
          1.17696662,
          35.45529782,
          2.403507634,
          4.055396583,
          0.147981815,
          0.101918826,
          6.724046202,
          2.471053756,
          18.48923375,
          4.434466025,
          2.11625521,
          6.6048923,
          1.497496085,
          0.406838707,
          0.570947494,
          1.039489751,
          0.989904581,
          9.506481163,
          0.048411373,
          0.164691753,
          0.569255428
         ]
        },
        {
         "mode": "lines+markers",
         "name": "2009",
         "text": [
          "Aruba",
          "Andorra",
          "Afghanistan",
          "Angola",
          "Albania",
          "United Arab Emirates",
          "Argentina",
          "Armenia",
          "Antigua And Barbuda",
          "Australia",
          "Austria",
          "Azerbaijan",
          "Burundi",
          "Belgium",
          "Benin",
          "Burkina Faso",
          "Bangladesh",
          "Bulgaria",
          "Bahrain",
          "Bahamas",
          "Bosnia And Herzegovina",
          "Belarus",
          "Belize",
          "Bermuda",
          "Bolivia",
          "Brazil",
          "Barbados",
          "Brunei",
          "Bhutan",
          "Botswana",
          "Central African Republic",
          "Canada",
          "Switzerland",
          "Chile",
          "China",
          "Cote D'Ivoire",
          "Cameroon",
          "Rep Of Congo",
          "Colombia",
          "Comoros",
          "Cabo Verde",
          "Costa Rica",
          "Cuba",
          "Cayman Islands",
          "Cyprus",
          "Czech Republic",
          "Germany",
          "Djibouti",
          "Dominica",
          "Denmark",
          "Dominican Republic",
          "Algeria",
          "Ecuador",
          "Egypt",
          "Eritrea",
          "Spain",
          "Estonia",
          "Ethiopia",
          "Finland",
          "Fiji",
          "France",
          "Faroe Islands",
          "Micronesia",
          "Gabon",
          "United Kingdom",
          "Georgia",
          "Ghana",
          "Guinea",
          "Gambia",
          "Guinea-Bissau",
          "Equatorial Guinea",
          "Greece",
          "Grenada",
          "Greenland",
          "Guatemala",
          "Guyana",
          "Hong Kong",
          "Honduras",
          "Croatia",
          "Haiti",
          "Hungary",
          "Indonesia",
          "India",
          "Ireland",
          "Iran",
          "Iraq",
          "Iceland",
          "Israel",
          "Italy",
          "Jamaica",
          "Jordan",
          "Japan",
          "Kazakhstan",
          "Kenya",
          "Kyrgyz Republic",
          "Cambodia",
          "Kiribati",
          "St. Kitts And Nevis",
          "South Korea",
          "Kuwait",
          "Lebanon",
          "Liberia",
          "Libya",
          "St. Lucia",
          "Liechtenstein",
          "Sri Lanka",
          "Lesotho",
          "Lithuania",
          "Luxembourg",
          "Latvia",
          "Morocco",
          "Moldova",
          "Madagascar",
          "Maldives",
          "Mexico",
          "Marshall Islands",
          "Macedonia",
          "Mali",
          "Malta",
          "Myanmar",
          "Montenegro",
          "Mongolia",
          "Mozambique",
          "Mauritania",
          "Mauritius",
          "Malawi",
          "Malaysia",
          "Namibia",
          "New Caledonia",
          "Niger",
          "Nigeria",
          "Nicaragua",
          "Netherlands",
          "Norway",
          "Nepal",
          "New Zealand",
          "Oman",
          "Pakistan",
          "Panama",
          "Peru",
          "Philippines",
          "Palau",
          "Papua New Guinea",
          "Poland",
          "North Korea",
          "Portugal",
          "Paraguay",
          "French Polynesia",
          "Qatar",
          "Romania",
          "Russian Federation",
          "Rwanda",
          "Saudi Arabia",
          "Sudan",
          "Senegal",
          "Singapore",
          "Solomon Islands",
          "Sierra Leone",
          "El Salvador",
          "Somalia",
          "Serbia",
          "Sao Tome And Principe",
          "Suriname",
          "Slovak Republic",
          "Slovenia",
          "Sweden",
          "Swaziland",
          "Seychelles",
          "Syria",
          "Turks And Caicos Islands",
          "Chad",
          "Togo",
          "Thailand",
          "Tajikistan",
          "Turkmenistan",
          "Timor-Leste",
          "Tonga",
          "Trinidad And Tobago",
          "Tunisia",
          "Turkey",
          "Tanzania",
          "Uganda",
          "Ukraine",
          "Uruguay",
          "United States",
          "Uzbekistan",
          "St. Vincent And The Grenadines",
          "Venezuela",
          "Vietnam",
          "Vanuatu",
          "West Bank And Gaza",
          "Samoa",
          "Yemen",
          "South Africa",
          "Dem Rep Of Congo",
          "Zambia",
          "Zimbabwe"
         ],
         "type": "scatter",
         "x": [
          "Aruba",
          "Andorra",
          "Afghanistan",
          "Angola",
          "Albania",
          "United Arab Emirates",
          "Argentina",
          "Armenia",
          "Antigua And Barbuda",
          "Australia",
          "Austria",
          "Azerbaijan",
          "Burundi",
          "Belgium",
          "Benin",
          "Burkina Faso",
          "Bangladesh",
          "Bulgaria",
          "Bahrain",
          "Bahamas",
          "Bosnia And Herzegovina",
          "Belarus",
          "Belize",
          "Bermuda",
          "Bolivia",
          "Brazil",
          "Barbados",
          "Brunei",
          "Bhutan",
          "Botswana",
          "Central African Republic",
          "Canada",
          "Switzerland",
          "Chile",
          "China",
          "Cote D'Ivoire",
          "Cameroon",
          "Rep Of Congo",
          "Colombia",
          "Comoros",
          "Cabo Verde",
          "Costa Rica",
          "Cuba",
          "Cayman Islands",
          "Cyprus",
          "Czech Republic",
          "Germany",
          "Djibouti",
          "Dominica",
          "Denmark",
          "Dominican Republic",
          "Algeria",
          "Ecuador",
          "Egypt",
          "Eritrea",
          "Spain",
          "Estonia",
          "Ethiopia",
          "Finland",
          "Fiji",
          "France",
          "Faroe Islands",
          "Micronesia",
          "Gabon",
          "United Kingdom",
          "Georgia",
          "Ghana",
          "Guinea",
          "Gambia",
          "Guinea-Bissau",
          "Equatorial Guinea",
          "Greece",
          "Grenada",
          "Greenland",
          "Guatemala",
          "Guyana",
          "Hong Kong",
          "Honduras",
          "Croatia",
          "Haiti",
          "Hungary",
          "Indonesia",
          "India",
          "Ireland",
          "Iran",
          "Iraq",
          "Iceland",
          "Israel",
          "Italy",
          "Jamaica",
          "Jordan",
          "Japan",
          "Kazakhstan",
          "Kenya",
          "Kyrgyz Republic",
          "Cambodia",
          "Kiribati",
          "St. Kitts And Nevis",
          "South Korea",
          "Kuwait",
          "Lebanon",
          "Liberia",
          "Libya",
          "St. Lucia",
          "Liechtenstein",
          "Sri Lanka",
          "Lesotho",
          "Lithuania",
          "Luxembourg",
          "Latvia",
          "Morocco",
          "Moldova",
          "Madagascar",
          "Maldives",
          "Mexico",
          "Marshall Islands",
          "Macedonia",
          "Mali",
          "Malta",
          "Myanmar",
          "Montenegro",
          "Mongolia",
          "Mozambique",
          "Mauritania",
          "Mauritius",
          "Malawi",
          "Malaysia",
          "Namibia",
          "New Caledonia",
          "Niger",
          "Nigeria",
          "Nicaragua",
          "Netherlands",
          "Norway",
          "Nepal",
          "New Zealand",
          "Oman",
          "Pakistan",
          "Panama",
          "Peru",
          "Philippines",
          "Palau",
          "Papua New Guinea",
          "Poland",
          "North Korea",
          "Portugal",
          "Paraguay",
          "French Polynesia",
          "Qatar",
          "Romania",
          "Russian Federation",
          "Rwanda",
          "Saudi Arabia",
          "Sudan",
          "Senegal",
          "Singapore",
          "Solomon Islands",
          "Sierra Leone",
          "El Salvador",
          "Somalia",
          "Serbia",
          "Sao Tome And Principe",
          "Suriname",
          "Slovak Republic",
          "Slovenia",
          "Sweden",
          "Swaziland",
          "Seychelles",
          "Syria",
          "Turks And Caicos Islands",
          "Chad",
          "Togo",
          "Thailand",
          "Tajikistan",
          "Turkmenistan",
          "Timor-Leste",
          "Tonga",
          "Trinidad And Tobago",
          "Tunisia",
          "Turkey",
          "Tanzania",
          "Uganda",
          "Ukraine",
          "Uruguay",
          "United States",
          "Uzbekistan",
          "St. Vincent And The Grenadines",
          "Venezuela",
          "Vietnam",
          "Vanuatu",
          "West Bank And Gaza",
          "Samoa",
          "Yemen",
          "South Africa",
          "Dem Rep Of Congo",
          "Zambia",
          "Zimbabwe"
         ],
         "y": [
          24.87670585,
          6.049172848,
          0.24907353,
          1.430873373,
          1.533178094,
          21.10229562,
          4.427960113,
          1.469960972,
          5.906292005,
          17.63183305,
          7.608851293,
          3.565668218,
          0.020867637,
          9.634775755,
          0.514277812,
          0.109774087,
          0.352155282,
          5.729715977,
          18.13623374,
          4.630520322,
          5.37188996,
          6.341938992,
          1.495185156,
          7.095328783,
          1.459841011,
          1.866522375,
          5.833678079,
          22.14902862,
          0.549145981,
          2.192294586,
          0.053809109,
          15.08909766,
          5.372291182,
          3.969434147,
          5.778143184,
          0.297496879,
          0.332458227,
          0.431598927,
          1.484764251,
          0.177475819,
          0.625391176,
          1.693682921,
          2.646355786,
          10.33528599,
          7.438338502,
          10.30516177,
          8.803954839,
          0.563399208,
          1.807803366,
          8.05955954,
          2.103476066,
          3.428471639,
          2.355257087,
          2.462249164,
          0.111761081,
          6.216973378,
          11.04896311,
          0.076906232,
          9.958628519,
          0.994392232,
          5.511405389,
          11.8429021,
          1.622550764,
          1.423082894,
          7.598999603,
          1.576312217,
          0.325052954,
          0.196768408,
          0.266259849,
          0.146971003,
          6.533815076,
          8.544324727,
          2.425962147,
          10.2217389,
          0.864736542,
          2.085662452,
          5.305811582,
          1.058414368,
          4.866616935,
          0.229630548,
          4.867185924,
          1.90009103,
          1.619048654,
          8.891436541,
          7.59209277,
          3.47996689,
          6.447492771,
          8.612962755,
          6.795651486,
          3.204231319,
          3.70109721,
          8.598621998,
          13.30972781,
          0.31450114,
          1.180486133,
          0.292181175,
          0.401099775,
          5.034263395,
          10.3465061,
          29.72170379,
          5.001002214,
          0.138178275,
          10.0370768,
          2.197738533,
          1.527746917,
          0.644280244,
          1.06118278,
          3.925637608,
          20.87712517,
          3.443266443,
          1.654806038,
          1.276290637,
          0.092499326,
          2.964158333,
          3.857149599,
          1.962424266,
          4.224605133,
          0.078108539,
          5.796405618,
          0.202232171,
          2.953556075,
          4.140116094,
          0.108702094,
          0.608387039,
          2.963163435,
          0.073703111,
          7.373235988,
          1.478823448,
          11.57082986,
          0.073470122,
          0.462535787,
          0.803730282,
          10.24561928,
          10.81860557,
          0.136102525,
          7.511955097,
          13.92679701,
          0.962548786,
          2.415888235,
          1.771065546,
          0.816054812,
          10.27423319,
          0.760922609,
          7.81735027,
          3.08670211,
          5.158593379,
          0.737248172,
          3.288268805,
          44.83640145,
          3.997649195,
          11.02611624,
          0.057430655,
          17.69022548,
          0.343430682,
          0.464873613,
          4.778242444,
          0.377551397,
          0.115584129,
          1.070009174,
          0.063880736,
          6.300834457,
          0.548308572,
          4.829500002,
          6.319073237,
          7.547335376,
          4.704368708,
          0.890557455,
          8.485119934,
          3.012318451,
          5.940523027,
          0.042689415,
          0.270613774,
          4.198511915,
          0.382774553,
          10.11066086,
          0.174891045,
          1.276514272,
          36.56944789,
          2.374157343,
          3.898959122,
          0.139972868,
          0.105319919,
          5.64701422,
          2.401221496,
          17.1923791,
          3.912053019,
          2.114511922,
          6.525292813,
          1.636370776,
          0.508462532,
          0.564577775,
          1.072106118,
          1.026251462,
          9.545494788,
          0.045604097,
          0.184057876,
          0.600521157
         ]
        },
        {
         "mode": "lines+markers",
         "name": "2010",
         "text": [
          "Aruba",
          "Andorra",
          "Afghanistan",
          "Angola",
          "Albania",
          "United Arab Emirates",
          "Argentina",
          "Armenia",
          "Antigua And Barbuda",
          "Australia",
          "Austria",
          "Azerbaijan",
          "Burundi",
          "Belgium",
          "Benin",
          "Burkina Faso",
          "Bangladesh",
          "Bulgaria",
          "Bahrain",
          "Bahamas",
          "Bosnia And Herzegovina",
          "Belarus",
          "Belize",
          "Bermuda",
          "Bolivia",
          "Brazil",
          "Barbados",
          "Brunei",
          "Bhutan",
          "Botswana",
          "Central African Republic",
          "Canada",
          "Switzerland",
          "Chile",
          "China",
          "Cote D'Ivoire",
          "Cameroon",
          "Rep Of Congo",
          "Colombia",
          "Comoros",
          "Cabo Verde",
          "Costa Rica",
          "Cuba",
          "Cayman Islands",
          "Cyprus",
          "Czech Republic",
          "Germany",
          "Djibouti",
          "Dominica",
          "Denmark",
          "Dominican Republic",
          "Algeria",
          "Ecuador",
          "Egypt",
          "Eritrea",
          "Spain",
          "Estonia",
          "Ethiopia",
          "Finland",
          "Fiji",
          "France",
          "Faroe Islands",
          "Micronesia",
          "Gabon",
          "United Kingdom",
          "Georgia",
          "Ghana",
          "Guinea",
          "Gambia",
          "Guinea-Bissau",
          "Equatorial Guinea",
          "Greece",
          "Grenada",
          "Greenland",
          "Guatemala",
          "Guyana",
          "Hong Kong",
          "Honduras",
          "Croatia",
          "Haiti",
          "Hungary",
          "Indonesia",
          "India",
          "Ireland",
          "Iran",
          "Iraq",
          "Iceland",
          "Israel",
          "Italy",
          "Jamaica",
          "Jordan",
          "Japan",
          "Kazakhstan",
          "Kenya",
          "Kyrgyz Republic",
          "Cambodia",
          "Kiribati",
          "St. Kitts And Nevis",
          "South Korea",
          "Kuwait",
          "Lebanon",
          "Liberia",
          "Libya",
          "St. Lucia",
          "Liechtenstein",
          "Sri Lanka",
          "Lesotho",
          "Lithuania",
          "Luxembourg",
          "Latvia",
          "Morocco",
          "Moldova",
          "Madagascar",
          "Maldives",
          "Mexico",
          "Marshall Islands",
          "Macedonia",
          "Mali",
          "Malta",
          "Myanmar",
          "Montenegro",
          "Mongolia",
          "Mozambique",
          "Mauritania",
          "Mauritius",
          "Malawi",
          "Malaysia",
          "Namibia",
          "New Caledonia",
          "Niger",
          "Nigeria",
          "Nicaragua",
          "Netherlands",
          "Norway",
          "Nepal",
          "New Zealand",
          "Oman",
          "Pakistan",
          "Panama",
          "Peru",
          "Philippines",
          "Palau",
          "Papua New Guinea",
          "Poland",
          "North Korea",
          "Portugal",
          "Paraguay",
          "French Polynesia",
          "Qatar",
          "Romania",
          "Russian Federation",
          "Rwanda",
          "Saudi Arabia",
          "Sudan",
          "Senegal",
          "Singapore",
          "Solomon Islands",
          "Sierra Leone",
          "El Salvador",
          "Somalia",
          "Serbia",
          "Sao Tome And Principe",
          "Suriname",
          "Slovak Republic",
          "Slovenia",
          "Sweden",
          "Swaziland",
          "Seychelles",
          "Syria",
          "Turks And Caicos Islands",
          "Chad",
          "Togo",
          "Thailand",
          "Tajikistan",
          "Turkmenistan",
          "Timor-Leste",
          "Tonga",
          "Trinidad And Tobago",
          "Tunisia",
          "Turkey",
          "Tanzania",
          "Uganda",
          "Ukraine",
          "Uruguay",
          "United States",
          "Uzbekistan",
          "St. Vincent And The Grenadines",
          "Venezuela",
          "Vietnam",
          "Vanuatu",
          "West Bank And Gaza",
          "Samoa",
          "Yemen",
          "South Africa",
          "Dem Rep Of Congo",
          "Zambia",
          "Zimbabwe"
         ],
         "type": "scatter",
         "x": [
          "Aruba",
          "Andorra",
          "Afghanistan",
          "Angola",
          "Albania",
          "United Arab Emirates",
          "Argentina",
          "Armenia",
          "Antigua And Barbuda",
          "Australia",
          "Austria",
          "Azerbaijan",
          "Burundi",
          "Belgium",
          "Benin",
          "Burkina Faso",
          "Bangladesh",
          "Bulgaria",
          "Bahrain",
          "Bahamas",
          "Bosnia And Herzegovina",
          "Belarus",
          "Belize",
          "Bermuda",
          "Bolivia",
          "Brazil",
          "Barbados",
          "Brunei",
          "Bhutan",
          "Botswana",
          "Central African Republic",
          "Canada",
          "Switzerland",
          "Chile",
          "China",
          "Cote D'Ivoire",
          "Cameroon",
          "Rep Of Congo",
          "Colombia",
          "Comoros",
          "Cabo Verde",
          "Costa Rica",
          "Cuba",
          "Cayman Islands",
          "Cyprus",
          "Czech Republic",
          "Germany",
          "Djibouti",
          "Dominica",
          "Denmark",
          "Dominican Republic",
          "Algeria",
          "Ecuador",
          "Egypt",
          "Eritrea",
          "Spain",
          "Estonia",
          "Ethiopia",
          "Finland",
          "Fiji",
          "France",
          "Faroe Islands",
          "Micronesia",
          "Gabon",
          "United Kingdom",
          "Georgia",
          "Ghana",
          "Guinea",
          "Gambia",
          "Guinea-Bissau",
          "Equatorial Guinea",
          "Greece",
          "Grenada",
          "Greenland",
          "Guatemala",
          "Guyana",
          "Hong Kong",
          "Honduras",
          "Croatia",
          "Haiti",
          "Hungary",
          "Indonesia",
          "India",
          "Ireland",
          "Iran",
          "Iraq",
          "Iceland",
          "Israel",
          "Italy",
          "Jamaica",
          "Jordan",
          "Japan",
          "Kazakhstan",
          "Kenya",
          "Kyrgyz Republic",
          "Cambodia",
          "Kiribati",
          "St. Kitts And Nevis",
          "South Korea",
          "Kuwait",
          "Lebanon",
          "Liberia",
          "Libya",
          "St. Lucia",
          "Liechtenstein",
          "Sri Lanka",
          "Lesotho",
          "Lithuania",
          "Luxembourg",
          "Latvia",
          "Morocco",
          "Moldova",
          "Madagascar",
          "Maldives",
          "Mexico",
          "Marshall Islands",
          "Macedonia",
          "Mali",
          "Malta",
          "Myanmar",
          "Montenegro",
          "Mongolia",
          "Mozambique",
          "Mauritania",
          "Mauritius",
          "Malawi",
          "Malaysia",
          "Namibia",
          "New Caledonia",
          "Niger",
          "Nigeria",
          "Nicaragua",
          "Netherlands",
          "Norway",
          "Nepal",
          "New Zealand",
          "Oman",
          "Pakistan",
          "Panama",
          "Peru",
          "Philippines",
          "Palau",
          "Papua New Guinea",
          "Poland",
          "North Korea",
          "Portugal",
          "Paraguay",
          "French Polynesia",
          "Qatar",
          "Romania",
          "Russian Federation",
          "Rwanda",
          "Saudi Arabia",
          "Sudan",
          "Senegal",
          "Singapore",
          "Solomon Islands",
          "Sierra Leone",
          "El Salvador",
          "Somalia",
          "Serbia",
          "Sao Tome And Principe",
          "Suriname",
          "Slovak Republic",
          "Slovenia",
          "Sweden",
          "Swaziland",
          "Seychelles",
          "Syria",
          "Turks And Caicos Islands",
          "Chad",
          "Togo",
          "Thailand",
          "Tajikistan",
          "Turkmenistan",
          "Timor-Leste",
          "Tonga",
          "Trinidad And Tobago",
          "Tunisia",
          "Turkey",
          "Tanzania",
          "Uganda",
          "Ukraine",
          "Uruguay",
          "United States",
          "Uzbekistan",
          "St. Vincent And The Grenadines",
          "Venezuela",
          "Vietnam",
          "Vanuatu",
          "West Bank And Gaza",
          "Samoa",
          "Yemen",
          "South Africa",
          "Dem Rep Of Congo",
          "Zambia",
          "Zimbabwe"
         ],
         "y": [
          24.18270225,
          6.12477049,
          0.302936388,
          1.401654169,
          1.515632053,
          20.12095728,
          4.342272052,
          1.422998378,
          6.011268671,
          16.71090435,
          8.127692863,
          3.388225879,
          0.020542078,
          10.01260969,
          0.541771234,
          0.1076731,
          0.370359878,
          5.966883548,
          18.43502476,
          6.829321287,
          5.513993843,
          6.556549631,
          1.721708659,
          7.320035624,
          1.547659087,
          2.113414545,
          5.430338453,
          21.8732221,
          0.677145031,
          2.555293381,
          0.059398336,
          14.58905354,
          4.952499256,
          4.24672531,
          6.172488876,
          0.292351513,
          0.325727347,
          0.473472226,
          1.711390678,
          0.188940811,
          0.598231164,
          1.665177867,
          3.392291813,
          10.17344935,
          6.983907546,
          10.61336839,
          9.179816838,
          0.622346841,
          1.906487557,
          8.394657734,
          2.158413689,
          3.309911831,
          2.293303404,
          2.494817067,
          0.109470529,
          5.815786526,
          13.77319664,
          0.07559157,
          11.53084023,
          1.505259596,
          5.496706655,
          12.9866782,
          1.167845665,
          1.455445622,
          7.841653312,
          1.663506623,
          0.415441052,
          0.225765923,
          0.279410774,
          0.145854598,
          6.421061876,
          7.797370479,
          2.487241705,
          11.66377295,
          0.771619509,
          2.282864015,
          5.166229891,
          1.080473355,
          4.728821777,
          0.211960718,
          5.074749628,
          1.80860092,
          1.584869945,
          8.810150532,
          7.698029098,
          3.610434779,
          6.168528586,
          9.036666273,
          6.83837457,
          2.672410756,
          3.50324049,
          9.127185047,
          15.14647827,
          0.307975417,
          1.129467501,
          0.291550731,
          0.607308472,
          4.973200642,
          11.46958747,
          29.69343348,
          4.632411885,
          0.202899199,
          10.54269589,
          2.273826502,
          1.617377881,
          0.64824563,
          1.123489371,
          4.319017771,
          21.6351358,
          3.963228139,
          1.742832779,
          1.385659642,
          0.098983365,
          2.927604905,
          3.752090816,
          1.958419165,
          4.171161094,
          0.081476607,
          6.316495701,
          0.173734652,
          4.167664361,
          4.243335224,
          0.118205418,
          0.595272317,
          3.132082534,
          0.082179517,
          7.986951475,
          1.449319237,
          15.680092,
          0.083054495,
          0.534553664,
          0.805909906,
          10.94931628,
          11.61619323,
          0.161137874,
          7.297420185,
          19.122607,
          0.957357369,
          2.449051597,
          1.969722449,
          0.878135471,
          10.56927211,
          0.681184727,
          8.334872118,
          2.958833707,
          4.690094769,
          0.817267073,
          3.296763845,
          42.63907601,
          3.918410158,
          12.19843743,
          0.05735438,
          18.97762597,
          0.341750839,
          0.638487724,
          2.655230176,
          0.376333439,
          0.12570608,
          1.044537988,
          0.06391226,
          6.292016689,
          0.579406601,
          4.621427372,
          6.721959562,
          7.530604813,
          5.606000495,
          0.869767204,
          7.679581152,
          2.971741072,
          6.152486045,
          0.043462549,
          0.269107041,
          4.470426149,
          0.373872943,
          11.35811103,
          0.171932157,
          1.128882988,
          38.33784104,
          2.535619365,
          4.121154855,
          0.150058649,
          0.108297319,
          6.638152001,
          1.912604677,
          17.48479218,
          3.693267688,
          2.146876944,
          6.811756484,
          1.76169543,
          0.496591183,
          0.534014834,
          1.103870902,
          1.090060254,
          8.957153524,
          0.049328064,
          0.192078658,
          0.646072745
         ]
        },
        {
         "mode": "lines+markers",
         "name": "2011",
         "text": [
          "Aruba",
          "Andorra",
          "Afghanistan",
          "Angola",
          "Albania",
          "United Arab Emirates",
          "Argentina",
          "Armenia",
          "Antigua And Barbuda",
          "Australia",
          "Austria",
          "Azerbaijan",
          "Burundi",
          "Belgium",
          "Benin",
          "Burkina Faso",
          "Bangladesh",
          "Bulgaria",
          "Bahrain",
          "Bahamas",
          "Bosnia And Herzegovina",
          "Belarus",
          "Belize",
          "Bermuda",
          "Bolivia",
          "Brazil",
          "Barbados",
          "Brunei",
          "Bhutan",
          "Botswana",
          "Central African Republic",
          "Canada",
          "Switzerland",
          "Chile",
          "China",
          "Cote D'Ivoire",
          "Cameroon",
          "Rep Of Congo",
          "Colombia",
          "Comoros",
          "Cabo Verde",
          "Costa Rica",
          "Cuba",
          "Cayman Islands",
          "Cyprus",
          "Czech Republic",
          "Germany",
          "Djibouti",
          "Dominica",
          "Denmark",
          "Dominican Republic",
          "Algeria",
          "Ecuador",
          "Egypt",
          "Eritrea",
          "Spain",
          "Estonia",
          "Ethiopia",
          "Finland",
          "Fiji",
          "France",
          "Faroe Islands",
          "Micronesia",
          "Gabon",
          "United Kingdom",
          "Georgia",
          "Ghana",
          "Guinea",
          "Gambia",
          "Guinea-Bissau",
          "Equatorial Guinea",
          "Greece",
          "Grenada",
          "Greenland",
          "Guatemala",
          "Guyana",
          "Hong Kong",
          "Honduras",
          "Croatia",
          "Haiti",
          "Hungary",
          "Indonesia",
          "India",
          "Ireland",
          "Iran",
          "Iraq",
          "Iceland",
          "Israel",
          "Italy",
          "Jamaica",
          "Jordan",
          "Japan",
          "Kazakhstan",
          "Kenya",
          "Kyrgyz Republic",
          "Cambodia",
          "Kiribati",
          "St. Kitts And Nevis",
          "South Korea",
          "Kuwait",
          "Lebanon",
          "Liberia",
          "Libya",
          "St. Lucia",
          "Liechtenstein",
          "Sri Lanka",
          "Lesotho",
          "Lithuania",
          "Luxembourg",
          "Latvia",
          "Morocco",
          "Moldova",
          "Madagascar",
          "Maldives",
          "Mexico",
          "Marshall Islands",
          "Macedonia",
          "Mali",
          "Malta",
          "Myanmar",
          "Montenegro",
          "Mongolia",
          "Mozambique",
          "Mauritania",
          "Mauritius",
          "Malawi",
          "Malaysia",
          "Namibia",
          "New Caledonia",
          "Niger",
          "Nigeria",
          "Nicaragua",
          "Netherlands",
          "Norway",
          "Nepal",
          "New Zealand",
          "Oman",
          "Pakistan",
          "Panama",
          "Peru",
          "Philippines",
          "Palau",
          "Papua New Guinea",
          "Poland",
          "North Korea",
          "Portugal",
          "Paraguay",
          "French Polynesia",
          "Qatar",
          "Romania",
          "Russian Federation",
          "Rwanda",
          "Saudi Arabia",
          "Sudan",
          "Senegal",
          "Singapore",
          "Solomon Islands",
          "Sierra Leone",
          "El Salvador",
          "Somalia",
          "Serbia",
          "Sao Tome And Principe",
          "Suriname",
          "Slovak Republic",
          "Slovenia",
          "Sweden",
          "Swaziland",
          "Seychelles",
          "Syria",
          "Turks And Caicos Islands",
          "Chad",
          "Togo",
          "Thailand",
          "Tajikistan",
          "Turkmenistan",
          "Timor-Leste",
          "Tonga",
          "Trinidad And Tobago",
          "Tunisia",
          "Turkey",
          "Tanzania",
          "Uganda",
          "Ukraine",
          "Uruguay",
          "United States",
          "Uzbekistan",
          "St. Vincent And The Grenadines",
          "Venezuela",
          "Vietnam",
          "Vanuatu",
          "West Bank And Gaza",
          "Samoa",
          "Yemen",
          "South Africa",
          "Dem Rep Of Congo",
          "Zambia",
          "Zimbabwe"
         ],
         "type": "scatter",
         "x": [
          "Aruba",
          "Andorra",
          "Afghanistan",
          "Angola",
          "Albania",
          "United Arab Emirates",
          "Argentina",
          "Armenia",
          "Antigua And Barbuda",
          "Australia",
          "Austria",
          "Azerbaijan",
          "Burundi",
          "Belgium",
          "Benin",
          "Burkina Faso",
          "Bangladesh",
          "Bulgaria",
          "Bahrain",
          "Bahamas",
          "Bosnia And Herzegovina",
          "Belarus",
          "Belize",
          "Bermuda",
          "Bolivia",
          "Brazil",
          "Barbados",
          "Brunei",
          "Bhutan",
          "Botswana",
          "Central African Republic",
          "Canada",
          "Switzerland",
          "Chile",
          "China",
          "Cote D'Ivoire",
          "Cameroon",
          "Rep Of Congo",
          "Colombia",
          "Comoros",
          "Cabo Verde",
          "Costa Rica",
          "Cuba",
          "Cayman Islands",
          "Cyprus",
          "Czech Republic",
          "Germany",
          "Djibouti",
          "Dominica",
          "Denmark",
          "Dominican Republic",
          "Algeria",
          "Ecuador",
          "Egypt",
          "Eritrea",
          "Spain",
          "Estonia",
          "Ethiopia",
          "Finland",
          "Fiji",
          "France",
          "Faroe Islands",
          "Micronesia",
          "Gabon",
          "United Kingdom",
          "Georgia",
          "Ghana",
          "Guinea",
          "Gambia",
          "Guinea-Bissau",
          "Equatorial Guinea",
          "Greece",
          "Grenada",
          "Greenland",
          "Guatemala",
          "Guyana",
          "Hong Kong",
          "Honduras",
          "Croatia",
          "Haiti",
          "Hungary",
          "Indonesia",
          "India",
          "Ireland",
          "Iran",
          "Iraq",
          "Iceland",
          "Israel",
          "Italy",
          "Jamaica",
          "Jordan",
          "Japan",
          "Kazakhstan",
          "Kenya",
          "Kyrgyz Republic",
          "Cambodia",
          "Kiribati",
          "St. Kitts And Nevis",
          "South Korea",
          "Kuwait",
          "Lebanon",
          "Liberia",
          "Libya",
          "St. Lucia",
          "Liechtenstein",
          "Sri Lanka",
          "Lesotho",
          "Lithuania",
          "Luxembourg",
          "Latvia",
          "Morocco",
          "Moldova",
          "Madagascar",
          "Maldives",
          "Mexico",
          "Marshall Islands",
          "Macedonia",
          "Mali",
          "Malta",
          "Myanmar",
          "Montenegro",
          "Mongolia",
          "Mozambique",
          "Mauritania",
          "Mauritius",
          "Malawi",
          "Malaysia",
          "Namibia",
          "New Caledonia",
          "Niger",
          "Nigeria",
          "Nicaragua",
          "Netherlands",
          "Norway",
          "Nepal",
          "New Zealand",
          "Oman",
          "Pakistan",
          "Panama",
          "Peru",
          "Philippines",
          "Palau",
          "Papua New Guinea",
          "Poland",
          "North Korea",
          "Portugal",
          "Paraguay",
          "French Polynesia",
          "Qatar",
          "Romania",
          "Russian Federation",
          "Rwanda",
          "Saudi Arabia",
          "Sudan",
          "Senegal",
          "Singapore",
          "Solomon Islands",
          "Sierra Leone",
          "El Salvador",
          "Somalia",
          "Serbia",
          "Sao Tome And Principe",
          "Suriname",
          "Slovak Republic",
          "Slovenia",
          "Sweden",
          "Swaziland",
          "Seychelles",
          "Syria",
          "Turks And Caicos Islands",
          "Chad",
          "Togo",
          "Thailand",
          "Tajikistan",
          "Turkmenistan",
          "Timor-Leste",
          "Tonga",
          "Trinidad And Tobago",
          "Tunisia",
          "Turkey",
          "Tanzania",
          "Uganda",
          "Ukraine",
          "Uruguay",
          "United States",
          "Uzbekistan",
          "St. Vincent And The Grenadines",
          "Venezuela",
          "Vietnam",
          "Vanuatu",
          "West Bank And Gaza",
          "Samoa",
          "Yemen",
          "South Africa",
          "Dem Rep Of Congo",
          "Zambia",
          "Zimbabwe"
         ],
         "y": [
          23.9224121,
          5.96868547,
          0.425262105,
          1.35400753,
          1.60703771,
          20.43383762,
          4.562048512,
          1.671656923,
          5.823804338,
          16.51920992,
          7.769983423,
          3.647379147,
          0.021349926,
          8.849398302,
          0.509962226,
          0.11998056,
          0.372017166,
          6.71438251,
          17.94732981,
          5.199844019,
          6.19665215,
          6.682510398,
          1.670904302,
          6.07721021,
          1.599499039,
          2.191393564,
          5.580177618,
          24.39201338,
          0.766205619,
          2.323345006,
          0.063127814,
          14.13581338,
          4.625229924,
          4.61644538,
          6.710301991,
          0.312877703,
          0.268091793,
          0.538098379,
          1.560629099,
          0.220233473,
          0.859061433,
          1.704974495,
          3.172315091,
          10.30493107,
          6.735375823,
          10.43108813,
          8.917832846,
          0.561940931,
          1.746141565,
          7.248328717,
          2.182907888,
          3.316037892,
          2.354017387,
          2.635115225,
          0.108718365,
          5.790764234,
          14.04988252,
          0.083943117,
          10.1640461,
          1.424813248,
          5.185043424,
          11.72121175,
          1.240335923,
          1.418165749,
          7.085732086,
          2.046895742,
          0.404379798,
          0.229423425,
          0.241098417,
          0.146810683,
          8.907241536,
          7.568519083,
          2.408137432,
          12.44034101,
          0.748055056,
          2.357722028,
          5.695268539,
          1.103745053,
          4.801530011,
          0.217962048,
          4.862989931,
          2.303780983,
          1.662873483,
          7.880759326,
          7.802145093,
          4.20163513,
          5.896828979,
          8.952413531,
          6.702557614,
          2.872655693,
          3.601147064,
          9.291834303,
          15.81009754,
          0.327569171,
          1.199591629,
          0.308073152,
          0.595622098,
          5.050964187,
          11.84075687,
          28.10266175,
          4.668312508,
          0.218425012,
          6.204914344,
          2.270423588,
          1.405096204,
          0.72992084,
          1.082269608,
          4.537558514,
          20.8978117,
          3.786801437,
          1.737915547,
          1.398821793,
          0.112992805,
          2.927763926,
          3.876107611,
          1.954207191,
          4.519210141,
          0.079956379,
          6.034321639,
          0.200285212,
          4.145547583,
          6.915146531,
          0.131189805,
          0.627225464,
          3.127070817,
          0.079231485,
          7.898823573,
          1.239160489,
          15.17329528,
          0.083958178,
          0.53749756,
          0.843541955,
          10.06448974,
          9.192879069,
          0.159474455,
          7.124050867,
          20.20389451,
          0.941171125,
          2.625276244,
          1.783233144,
          0.867845343,
          10.85543046,
          0.746895234,
          8.335786706,
          2.987182112,
          4.709849624,
          0.841915242,
          3.167952684,
          44.01892637,
          4.210560124,
          12.64732823,
          0.062874197,
          18.07245072,
          0.349548724,
          0.58833415,
          4.320161437,
          0.368304169,
          0.152044168,
          1.103998574,
          0.05870688,
          6.799114997,
          0.587909256,
          3.649913361,
          6.367545917,
          7.504259702,
          5.518421481,
          0.864988313,
          6.835706362,
          2.736990943,
          6.010149084,
          0.043830424,
          0.319443622,
          4.534491734,
          0.35894763,
          12.18366658,
          0.16364808,
          0.983561959,
          37.14005424,
          2.402455639,
          4.383104516,
          0.1549349,
          0.110886576,
          6.262351962,
          2.296200685,
          17.02021634,
          3.914921266,
          2.179923359,
          6.416333581,
          1.971433571,
          0.591265773,
          0.572406877,
          1.252110076,
          0.919967617,
          9.257216472,
          0.050302688,
          0.212449645,
          0.691697897
         ]
        }
       ],
       "layout": {
        "height": 700,
        "legend": {
         "bgcolor": "rgba(255, 255, 255, 0.5)",
         "x": 0,
         "y": 1
        },
        "template": {
         "data": {
          "bar": [
           {
            "error_x": {
             "color": "#2a3f5f"
            },
            "error_y": {
             "color": "#2a3f5f"
            },
            "marker": {
             "line": {
              "color": "#E5ECF6",
              "width": 0.5
             },
             "pattern": {
              "fillmode": "overlay",
              "size": 10,
              "solidity": 0.2
             }
            },
            "type": "bar"
           }
          ],
          "barpolar": [
           {
            "marker": {
             "line": {
              "color": "#E5ECF6",
              "width": 0.5
             },
             "pattern": {
              "fillmode": "overlay",
              "size": 10,
              "solidity": 0.2
             }
            },
            "type": "barpolar"
           }
          ],
          "carpet": [
           {
            "aaxis": {
             "endlinecolor": "#2a3f5f",
             "gridcolor": "white",
             "linecolor": "white",
             "minorgridcolor": "white",
             "startlinecolor": "#2a3f5f"
            },
            "baxis": {
             "endlinecolor": "#2a3f5f",
             "gridcolor": "white",
             "linecolor": "white",
             "minorgridcolor": "white",
             "startlinecolor": "#2a3f5f"
            },
            "type": "carpet"
           }
          ],
          "choropleth": [
           {
            "colorbar": {
             "outlinewidth": 0,
             "ticks": ""
            },
            "type": "choropleth"
           }
          ],
          "contour": [
           {
            "colorbar": {
             "outlinewidth": 0,
             "ticks": ""
            },
            "colorscale": [
             [
              0,
              "#0d0887"
             ],
             [
              0.1111111111111111,
              "#46039f"
             ],
             [
              0.2222222222222222,
              "#7201a8"
             ],
             [
              0.3333333333333333,
              "#9c179e"
             ],
             [
              0.4444444444444444,
              "#bd3786"
             ],
             [
              0.5555555555555556,
              "#d8576b"
             ],
             [
              0.6666666666666666,
              "#ed7953"
             ],
             [
              0.7777777777777778,
              "#fb9f3a"
             ],
             [
              0.8888888888888888,
              "#fdca26"
             ],
             [
              1,
              "#f0f921"
             ]
            ],
            "type": "contour"
           }
          ],
          "contourcarpet": [
           {
            "colorbar": {
             "outlinewidth": 0,
             "ticks": ""
            },
            "type": "contourcarpet"
           }
          ],
          "heatmap": [
           {
            "colorbar": {
             "outlinewidth": 0,
             "ticks": ""
            },
            "colorscale": [
             [
              0,
              "#0d0887"
             ],
             [
              0.1111111111111111,
              "#46039f"
             ],
             [
              0.2222222222222222,
              "#7201a8"
             ],
             [
              0.3333333333333333,
              "#9c179e"
             ],
             [
              0.4444444444444444,
              "#bd3786"
             ],
             [
              0.5555555555555556,
              "#d8576b"
             ],
             [
              0.6666666666666666,
              "#ed7953"
             ],
             [
              0.7777777777777778,
              "#fb9f3a"
             ],
             [
              0.8888888888888888,
              "#fdca26"
             ],
             [
              1,
              "#f0f921"
             ]
            ],
            "type": "heatmap"
           }
          ],
          "heatmapgl": [
           {
            "colorbar": {
             "outlinewidth": 0,
             "ticks": ""
            },
            "colorscale": [
             [
              0,
              "#0d0887"
             ],
             [
              0.1111111111111111,
              "#46039f"
             ],
             [
              0.2222222222222222,
              "#7201a8"
             ],
             [
              0.3333333333333333,
              "#9c179e"
             ],
             [
              0.4444444444444444,
              "#bd3786"
             ],
             [
              0.5555555555555556,
              "#d8576b"
             ],
             [
              0.6666666666666666,
              "#ed7953"
             ],
             [
              0.7777777777777778,
              "#fb9f3a"
             ],
             [
              0.8888888888888888,
              "#fdca26"
             ],
             [
              1,
              "#f0f921"
             ]
            ],
            "type": "heatmapgl"
           }
          ],
          "histogram": [
           {
            "marker": {
             "pattern": {
              "fillmode": "overlay",
              "size": 10,
              "solidity": 0.2
             }
            },
            "type": "histogram"
           }
          ],
          "histogram2d": [
           {
            "colorbar": {
             "outlinewidth": 0,
             "ticks": ""
            },
            "colorscale": [
             [
              0,
              "#0d0887"
             ],
             [
              0.1111111111111111,
              "#46039f"
             ],
             [
              0.2222222222222222,
              "#7201a8"
             ],
             [
              0.3333333333333333,
              "#9c179e"
             ],
             [
              0.4444444444444444,
              "#bd3786"
             ],
             [
              0.5555555555555556,
              "#d8576b"
             ],
             [
              0.6666666666666666,
              "#ed7953"
             ],
             [
              0.7777777777777778,
              "#fb9f3a"
             ],
             [
              0.8888888888888888,
              "#fdca26"
             ],
             [
              1,
              "#f0f921"
             ]
            ],
            "type": "histogram2d"
           }
          ],
          "histogram2dcontour": [
           {
            "colorbar": {
             "outlinewidth": 0,
             "ticks": ""
            },
            "colorscale": [
             [
              0,
              "#0d0887"
             ],
             [
              0.1111111111111111,
              "#46039f"
             ],
             [
              0.2222222222222222,
              "#7201a8"
             ],
             [
              0.3333333333333333,
              "#9c179e"
             ],
             [
              0.4444444444444444,
              "#bd3786"
             ],
             [
              0.5555555555555556,
              "#d8576b"
             ],
             [
              0.6666666666666666,
              "#ed7953"
             ],
             [
              0.7777777777777778,
              "#fb9f3a"
             ],
             [
              0.8888888888888888,
              "#fdca26"
             ],
             [
              1,
              "#f0f921"
             ]
            ],
            "type": "histogram2dcontour"
           }
          ],
          "mesh3d": [
           {
            "colorbar": {
             "outlinewidth": 0,
             "ticks": ""
            },
            "type": "mesh3d"
           }
          ],
          "parcoords": [
           {
            "line": {
             "colorbar": {
              "outlinewidth": 0,
              "ticks": ""
             }
            },
            "type": "parcoords"
           }
          ],
          "pie": [
           {
            "automargin": true,
            "type": "pie"
           }
          ],
          "scatter": [
           {
            "fillpattern": {
             "fillmode": "overlay",
             "size": 10,
             "solidity": 0.2
            },
            "type": "scatter"
           }
          ],
          "scatter3d": [
           {
            "line": {
             "colorbar": {
              "outlinewidth": 0,
              "ticks": ""
             }
            },
            "marker": {
             "colorbar": {
              "outlinewidth": 0,
              "ticks": ""
             }
            },
            "type": "scatter3d"
           }
          ],
          "scattercarpet": [
           {
            "marker": {
             "colorbar": {
              "outlinewidth": 0,
              "ticks": ""
             }
            },
            "type": "scattercarpet"
           }
          ],
          "scattergeo": [
           {
            "marker": {
             "colorbar": {
              "outlinewidth": 0,
              "ticks": ""
             }
            },
            "type": "scattergeo"
           }
          ],
          "scattergl": [
           {
            "marker": {
             "colorbar": {
              "outlinewidth": 0,
              "ticks": ""
             }
            },
            "type": "scattergl"
           }
          ],
          "scattermapbox": [
           {
            "marker": {
             "colorbar": {
              "outlinewidth": 0,
              "ticks": ""
             }
            },
            "type": "scattermapbox"
           }
          ],
          "scatterpolar": [
           {
            "marker": {
             "colorbar": {
              "outlinewidth": 0,
              "ticks": ""
             }
            },
            "type": "scatterpolar"
           }
          ],
          "scatterpolargl": [
           {
            "marker": {
             "colorbar": {
              "outlinewidth": 0,
              "ticks": ""
             }
            },
            "type": "scatterpolargl"
           }
          ],
          "scatterternary": [
           {
            "marker": {
             "colorbar": {
              "outlinewidth": 0,
              "ticks": ""
             }
            },
            "type": "scatterternary"
           }
          ],
          "surface": [
           {
            "colorbar": {
             "outlinewidth": 0,
             "ticks": ""
            },
            "colorscale": [
             [
              0,
              "#0d0887"
             ],
             [
              0.1111111111111111,
              "#46039f"
             ],
             [
              0.2222222222222222,
              "#7201a8"
             ],
             [
              0.3333333333333333,
              "#9c179e"
             ],
             [
              0.4444444444444444,
              "#bd3786"
             ],
             [
              0.5555555555555556,
              "#d8576b"
             ],
             [
              0.6666666666666666,
              "#ed7953"
             ],
             [
              0.7777777777777778,
              "#fb9f3a"
             ],
             [
              0.8888888888888888,
              "#fdca26"
             ],
             [
              1,
              "#f0f921"
             ]
            ],
            "type": "surface"
           }
          ],
          "table": [
           {
            "cells": {
             "fill": {
              "color": "#EBF0F8"
             },
             "line": {
              "color": "white"
             }
            },
            "header": {
             "fill": {
              "color": "#C8D4E3"
             },
             "line": {
              "color": "white"
             }
            },
            "type": "table"
           }
          ]
         },
         "layout": {
          "annotationdefaults": {
           "arrowcolor": "#2a3f5f",
           "arrowhead": 0,
           "arrowwidth": 1
          },
          "autotypenumbers": "strict",
          "coloraxis": {
           "colorbar": {
            "outlinewidth": 0,
            "ticks": ""
           }
          },
          "colorscale": {
           "diverging": [
            [
             0,
             "#8e0152"
            ],
            [
             0.1,
             "#c51b7d"
            ],
            [
             0.2,
             "#de77ae"
            ],
            [
             0.3,
             "#f1b6da"
            ],
            [
             0.4,
             "#fde0ef"
            ],
            [
             0.5,
             "#f7f7f7"
            ],
            [
             0.6,
             "#e6f5d0"
            ],
            [
             0.7,
             "#b8e186"
            ],
            [
             0.8,
             "#7fbc41"
            ],
            [
             0.9,
             "#4d9221"
            ],
            [
             1,
             "#276419"
            ]
           ],
           "sequential": [
            [
             0,
             "#0d0887"
            ],
            [
             0.1111111111111111,
             "#46039f"
            ],
            [
             0.2222222222222222,
             "#7201a8"
            ],
            [
             0.3333333333333333,
             "#9c179e"
            ],
            [
             0.4444444444444444,
             "#bd3786"
            ],
            [
             0.5555555555555556,
             "#d8576b"
            ],
            [
             0.6666666666666666,
             "#ed7953"
            ],
            [
             0.7777777777777778,
             "#fb9f3a"
            ],
            [
             0.8888888888888888,
             "#fdca26"
            ],
            [
             1,
             "#f0f921"
            ]
           ],
           "sequentialminus": [
            [
             0,
             "#0d0887"
            ],
            [
             0.1111111111111111,
             "#46039f"
            ],
            [
             0.2222222222222222,
             "#7201a8"
            ],
            [
             0.3333333333333333,
             "#9c179e"
            ],
            [
             0.4444444444444444,
             "#bd3786"
            ],
            [
             0.5555555555555556,
             "#d8576b"
            ],
            [
             0.6666666666666666,
             "#ed7953"
            ],
            [
             0.7777777777777778,
             "#fb9f3a"
            ],
            [
             0.8888888888888888,
             "#fdca26"
            ],
            [
             1,
             "#f0f921"
            ]
           ]
          },
          "colorway": [
           "#636efa",
           "#EF553B",
           "#00cc96",
           "#ab63fa",
           "#FFA15A",
           "#19d3f3",
           "#FF6692",
           "#B6E880",
           "#FF97FF",
           "#FECB52"
          ],
          "font": {
           "color": "#2a3f5f"
          },
          "geo": {
           "bgcolor": "white",
           "lakecolor": "white",
           "landcolor": "#E5ECF6",
           "showlakes": true,
           "showland": true,
           "subunitcolor": "white"
          },
          "hoverlabel": {
           "align": "left"
          },
          "hovermode": "closest",
          "mapbox": {
           "style": "light"
          },
          "paper_bgcolor": "white",
          "plot_bgcolor": "#E5ECF6",
          "polar": {
           "angularaxis": {
            "gridcolor": "white",
            "linecolor": "white",
            "ticks": ""
           },
           "bgcolor": "#E5ECF6",
           "radialaxis": {
            "gridcolor": "white",
            "linecolor": "white",
            "ticks": ""
           }
          },
          "scene": {
           "xaxis": {
            "backgroundcolor": "#E5ECF6",
            "gridcolor": "white",
            "gridwidth": 2,
            "linecolor": "white",
            "showbackground": true,
            "ticks": "",
            "zerolinecolor": "white"
           },
           "yaxis": {
            "backgroundcolor": "#E5ECF6",
            "gridcolor": "white",
            "gridwidth": 2,
            "linecolor": "white",
            "showbackground": true,
            "ticks": "",
            "zerolinecolor": "white"
           },
           "zaxis": {
            "backgroundcolor": "#E5ECF6",
            "gridcolor": "white",
            "gridwidth": 2,
            "linecolor": "white",
            "showbackground": true,
            "ticks": "",
            "zerolinecolor": "white"
           }
          },
          "shapedefaults": {
           "line": {
            "color": "#2a3f5f"
           }
          },
          "ternary": {
           "aaxis": {
            "gridcolor": "white",
            "linecolor": "white",
            "ticks": ""
           },
           "baxis": {
            "gridcolor": "white",
            "linecolor": "white",
            "ticks": ""
           },
           "bgcolor": "#E5ECF6",
           "caxis": {
            "gridcolor": "white",
            "linecolor": "white",
            "ticks": ""
           }
          },
          "title": {
           "x": 0.05
          },
          "xaxis": {
           "automargin": true,
           "gridcolor": "white",
           "linecolor": "white",
           "ticks": "",
           "title": {
            "standoff": 15
           },
           "zerolinecolor": "white",
           "zerolinewidth": 2
          },
          "yaxis": {
           "automargin": true,
           "gridcolor": "white",
           "linecolor": "white",
           "ticks": "",
           "title": {
            "standoff": 15
           },
           "zerolinecolor": "white",
           "zerolinewidth": 2
          }
         }
        },
        "title": {
         "text": "Average Emission by Country (2008-2011)"
        },
        "width": 1600,
        "xaxis": {
         "showticklabels": false,
         "title": {
          "text": "Country"
         }
        },
        "yaxis": {
         "dtick": 5,
         "title": {
          "text": "Average Emission"
         }
        }
       }
      }
     },
     "metadata": {},
     "output_type": "display_data"
    }
   ],
   "source": [
    "\n",
    "# Filter the data for each year\n",
    "emission_2008 = df[df['Year'] == 2008]\n",
    "emission_2009 = df[df['Year'] == 2009]\n",
    "emission_2010 = df[df['Year'] == 2010]\n",
    "emission_2011 = df[df['Year'] == 2011]\n",
    "\n",
    "# Create traces for each year\n",
    "trace1 = go.Scatter(x=emission_2008['Country'], y=emission_2008['Emission'], \n",
    "                    mode='lines+markers', name='2008', text=emission_2008['Country'])\n",
    "trace2 = go.Scatter(x=emission_2009['Country'], y=emission_2009['Emission'], \n",
    "                    mode='lines+markers', name='2009', text=emission_2009['Country'])\n",
    "trace3 = go.Scatter(x=emission_2010['Country'], y=emission_2010['Emission'], \n",
    "                    mode='lines+markers', name='2010', text=emission_2010['Country'])\n",
    "trace4 = go.Scatter(x=emission_2011['Country'], y=emission_2011['Emission'], \n",
    "                    mode='lines+markers', name='2011', text=emission_2011['Country'])\n",
    "\n",
    "# Combine all traces\n",
    "data = [trace1, trace2, trace3, trace4]\n",
    "\n",
    "# Define the layout for the plot\n",
    "layout = go.Layout(\n",
    "    title='Average Emission by Country (2008-2011)', \n",
    "    xaxis=dict(\n",
    "        showticklabels=False,  # Hide x-axis tick labels for clarity\n",
    "        title='Country'  # Optional: add x-axis title\n",
    "    ),\n",
    "    yaxis=dict(\n",
    "        title='Average Emission',\n",
    "        dtick=5.0\n",
    "    ),\n",
    "    height=700, \n",
    "    width=1600,\n",
    "    legend=dict(\n",
    "        x=0,  # Legend x position\n",
    "        y=1,  # Legend y position\n",
    "        bgcolor='rgba(255, 255, 255, 0.5)'  # Legend background with some transparency\n",
    "    )\n",
    ")\n",
    "\n",
    "# Create the figure with data and layout\n",
    "fig = go.Figure(data=data, layout=layout)\n",
    "\n",
    "# Display the plot\n",
    "iplot(fig)\n"
   ]
  },
  {
   "cell_type": "code",
   "execution_count": 10,
   "metadata": {},
   "outputs": [
    {
     "data": {
      "application/vnd.plotly.v1+json": {
       "config": {
        "plotlyServerURL": "https://plot.ly"
       },
       "data": [
        {
         "coloraxis": "coloraxis",
         "customdata": [
          [
           0.28405839525,
           0.158961558,
           0.24907353,
           0.302936388,
           0.425262105,
           "AFG"
          ],
          [
           1.558990285,
           1.580113283,
           1.533178094,
           1.515632053,
           1.60703771,
           "ALB"
          ],
          [
           3.31490105075,
           3.205182841,
           3.428471639,
           3.309911831,
           3.316037892,
           "DZA"
          ],
          [
           6.109688341,
           6.296124556,
           6.049172848,
           6.12477049,
           5.96868547,
           "AND"
          ],
          [
           1.38898996025,
           1.369424769,
           1.430873373,
           1.401654169,
           1.35400753,
           "AGO"
          ],
          [
           5.8424209255,
           5.628318688,
           5.906292005,
           6.011268671,
           5.823804338,
           null
          ],
          [
           4.5191147695,
           4.744178401,
           4.427960113,
           4.342272052,
           4.562048512,
           "ARG"
          ],
          [
           1.6083068255,
           1.868611029,
           1.469960972,
           1.422998378,
           1.671656923,
           "ARM"
          ],
          [
           24.4329883525,
           24.75013321,
           24.87670585,
           24.18270225,
           23.9224121,
           "ABW"
          ],
          [
           17.14150675,
           17.70407968,
           17.63183305,
           16.71090435,
           16.51920992,
           "AUS"
          ],
          [
           7.9421434025,
           8.262046031,
           7.608851293,
           8.127692863,
           7.769983423,
           "AUT"
          ],
          [
           3.66316418125,
           4.051383481,
           3.565668218,
           3.388225879,
           3.647379147,
           "AZE"
          ],
          [
           4.9144437645,
           2.99808943,
           4.630520322,
           6.829321287,
           5.199844019,
           "BHS"
          ],
          [
           19.0096459475,
           21.51999548,
           18.13623374,
           18.43502476,
           17.94732981,
           "BHR"
          ],
          [
           0.357242997,
           0.334439662,
           0.352155282,
           0.370359878,
           0.372017166,
           "BGD"
          ],
          [
           5.678827056499999,
           5.871114076,
           5.833678079,
           5.430338453,
           5.580177618,
           "BRB"
          ],
          [
           6.5434369405,
           6.592748741,
           6.341938992,
           6.556549631,
           6.682510398,
           "BLR"
          ],
          [
           9.5490956775,
           9.699598963,
           9.634775755,
           10.01260969,
           8.849398302,
           "BEL"
          ],
          [
           1.59024848575,
           1.473195826,
           1.495185156,
           1.721708659,
           1.670904302,
           "BLZ"
          ],
          [
           0.51654866125,
           0.500183373,
           0.514277812,
           0.541771234,
           0.509962226,
           "BEN"
          ],
          [
           6.611898576,
           5.955019687,
           7.095328783,
           7.320035624,
           6.07721021,
           "BMU"
          ],
          [
           0.6498187865,
           0.606778515,
           0.549145981,
           0.677145031,
           0.766205619,
           "BTN"
          ],
          [
           1.50479711825,
           1.412189336,
           1.459841011,
           1.547659087,
           1.599499039,
           null
          ],
          [
           5.5785206495,
           5.231546645,
           5.37188996,
           5.513993843,
           6.19665215,
           null
          ],
          [
           2.4003710855,
           2.530551369,
           2.192294586,
           2.555293381,
           2.323345006,
           "BWA"
          ],
          [
           2.0404398565,
           1.990428942,
           1.866522375,
           2.113414545,
           2.191393564,
           "BRA"
          ],
          [
           23.6881338675,
           26.33827137,
           22.14902862,
           21.8732221,
           24.39201338,
           null
          ],
          [
           6.29748035975,
           6.778939404,
           5.729715977,
           5.966883548,
           6.71438251,
           "BGR"
          ],
          [
           0.1132137545,
           0.115427271,
           0.109774087,
           0.1076731,
           0.11998056,
           "BFA"
          ],
          [
           0.02109368575,
           0.021615102,
           0.020867637,
           0.020542078,
           0.021349926,
           "BDI"
          ],
          [
           0.66846538925,
           0.591177784,
           0.625391176,
           0.598231164,
           0.859061433,
           "CPV"
          ],
          [
           0.294271865,
           0.285282402,
           0.292181175,
           0.291550731,
           0.308073152,
           "KHM"
          ],
          [
           0.30239695525,
           0.283310454,
           0.332458227,
           0.325727347,
           0.268091793,
           "CMR"
          ],
          [
           15.0450322925,
           16.36616459,
           15.08909766,
           14.58905354,
           14.13581338,
           "CAN"
          ],
          [
           10.509529024999999,
           11.22444969,
           10.33528599,
           10.17344935,
           10.30493107,
           "CYM"
          ],
          [
           0.057790929000000005,
           0.054828457,
           0.053809109,
           0.059398336,
           0.063127814,
           "CAF"
          ],
          [
           0.0439346655,
           0.045756274,
           0.042689415,
           0.043462549,
           0.043830424,
           "TCD"
          ],
          [
           4.2872611605,
           4.316439805,
           3.969434147,
           4.24672531,
           4.61644538,
           "CHL"
          ],
          [
           5.9930214765,
           5.311151855,
           5.778143184,
           6.172488876,
           6.710301991,
           "CHN"
          ],
          [
           1.5519828337500001,
           1.451147307,
           1.484764251,
           1.711390678,
           1.560629099,
           "COL"
          ],
          [
           0.19212707875,
           0.181858212,
           0.177475819,
           0.188940811,
           0.220233473,
           "COM"
          ],
          [
           1.7359749467499999,
           1.880064504,
           1.693682921,
           1.665177867,
           1.704974495,
           "CRI"
          ],
          [
           0.31487376675,
           0.356768972,
           0.297496879,
           0.292351513,
           0.312877703,
           null
          ],
          [
           4.91653172,
           5.269158157,
           4.866616935,
           4.728821777,
           4.801530011,
           "HRV"
          ],
          [
           2.97685027275,
           2.696438401,
           2.646355786,
           3.392291813,
           3.172315091,
           "CUB"
          ],
          [
           7.2718482955,
           7.929771311,
           7.438338502,
           6.983907546,
           6.735375823,
           "CYP"
          ],
          [
           10.647436814999999,
           11.24012897,
           10.30516177,
           10.61336839,
           10.43108813,
           null
          ],
          [
           0.0484115555,
           0.048411373,
           0.045604097,
           0.049328064,
           0.050302688,
           null
          ],
          [
           8.06247552425,
           8.547356106,
           8.05955954,
           8.394657734,
           7.248328717,
           "DNK"
          ],
          [
           0.59091383275,
           0.615968351,
           0.563399208,
           0.622346841,
           0.561940931,
           "DJI"
          ],
          [
           1.8177858494999999,
           1.81071091,
           1.807803366,
           1.906487557,
           1.746141565,
           "DMA"
          ],
          [
           2.166777162,
           2.222311005,
           2.103476066,
           2.158413689,
           2.182907888,
           "DOM"
          ],
          [
           2.26677479575,
           2.064521305,
           2.355257087,
           2.293303404,
           2.354017387,
           "ECU"
          ],
          [
           2.52100862175,
           2.491853031,
           2.462249164,
           2.494817067,
           2.635115225,
           "EGY"
          ],
          [
           1.07717882475,
           1.090169563,
           1.070009174,
           1.044537988,
           1.103998574,
           "SLV"
          ],
          [
           7.1060590125,
           6.562117562,
           6.533815076,
           6.421061876,
           8.907241536,
           "GNQ"
          ],
          [
           0.1055048415,
           0.092069391,
           0.111761081,
           0.109470529,
           0.108718365,
           "ERI"
          ],
          [
           12.988469175,
           13.08183443,
           11.04896311,
           13.77319664,
           14.04988252,
           "EST"
          ],
          [
           0.078277325,
           0.076668381,
           0.076906232,
           0.07559157,
           0.083943117,
           "ETH"
          ],
          [
           12.38022819,
           12.97012071,
           11.8429021,
           12.9866782,
           11.72121175,
           "FRO"
          ],
          [
           1.3007588,
           1.278570124,
           0.994392232,
           1.505259596,
           1.424813248,
           "FJI"
          ],
          [
           10.57629175475,
           10.65165217,
           9.958628519,
           11.53084023,
           10.1640461,
           "FIN"
          ],
          [
           5.4919193475,
           5.774521922,
           5.511405389,
           5.496706655,
           5.185043424,
           "FRA"
          ],
          [
           3.26475359725,
           3.306029055,
           3.288268805,
           3.296763845,
           3.167952684,
           "PYF"
          ],
          [
           1.42314719875,
           1.39589453,
           1.423082894,
           1.455445622,
           1.418165749,
           "GAB"
          ],
          [
           0.261400667,
           0.258833628,
           0.266259849,
           0.279410774,
           0.241098417,
           "GMB"
          ],
          [
           1.71977107725,
           1.592369727,
           1.576312217,
           1.663506623,
           2.046895742,
           "GEO"
          ],
          [
           9.1068158215,
           9.525658763,
           8.803954839,
           9.179816838,
           8.917832846,
           "DEU"
          ],
          [
           0.38504822275,
           0.395319087,
           0.325052954,
           0.415441052,
           0.404379798,
           "GHA"
          ],
          [
           8.184885556,
           8.829327935,
           8.544324727,
           7.797370479,
           7.568519083,
           "GRC"
          ],
          [
           11.5110009225,
           11.71815083,
           10.2217389,
           11.66377295,
           12.44034101,
           "GRL"
          ],
          [
           2.4565909255,
           2.505022418,
           2.425962147,
           2.487241705,
           2.408137432,
           "GRD"
          ],
          [
           0.79886193625,
           0.811036638,
           0.864736542,
           0.771619509,
           0.748055056,
           "GTM"
          ],
          [
           0.2109046295,
           0.191660762,
           0.196768408,
           0.225765923,
           0.229423425,
           "GIN"
          ],
          [
           0.146313833,
           0.145619048,
           0.146971003,
           0.145854598,
           0.146810683,
           "GNB"
          ],
          [
           2.2023759632499997,
           2.083255358,
           2.085662452,
           2.282864015,
           2.357722028,
           "GUY"
          ],
          [
           0.22742108175,
           0.250131013,
           0.229630548,
           0.211960718,
           0.217962048,
           "HTI"
          ],
          [
           1.1093182545,
           1.194640242,
           1.058414368,
           1.080473355,
           1.103745053,
           "HND"
          ],
          [
           5.427796236,
           5.543874932,
           5.305811582,
           5.166229891,
           5.695268539,
           "HKG"
          ],
          [
           5.06710666625,
           5.463501182,
           4.867185924,
           5.074749628,
           4.862989931,
           "HUN"
          ],
          [
           6.29758287,
           6.677481144,
           6.447492771,
           6.168528586,
           5.896828979,
           "ISL"
          ],
          [
           1.59116961125,
           1.497886363,
           1.619048654,
           1.584869945,
           1.662873483,
           "IND"
          ],
          [
           1.9411555087499999,
           1.752149102,
           1.90009103,
           1.80860092,
           2.303780983,
           "IDN"
          ],
          [
           7.65638667825,
           7.533279752,
           7.59209277,
           7.698029098,
           7.802145093,
           null
          ],
          [
           3.62152178025,
           3.194050322,
           3.47996689,
           3.610434779,
           4.20163513,
           "IRQ"
          ],
          [
           8.7773367285,
           9.527000515,
           8.891436541,
           8.810150532,
           7.880759326,
           "IRL"
          ],
          [
           8.98565933025,
           9.340594762,
           8.612962755,
           9.036666273,
           8.952413531,
           "ISR"
          ],
          [
           6.98458716,
           7.60176497,
           6.795651486,
           6.83837457,
           6.702557614,
           "ITA"
          ],
          [
           3.30652817225,
           4.476814921,
           3.204231319,
           2.672410756,
           2.872655693,
           "JAM"
          ],
          [
           9.110150662,
           9.4229613,
           8.598621998,
           9.127185047,
           9.291834303,
           "JPN"
          ],
          [
           3.6238251315,
           3.689815762,
           3.70109721,
           3.50324049,
           3.601147064,
           "JOR"
          ],
          [
           14.731470315,
           14.65957764,
           13.30972781,
           15.14647827,
           15.81009754,
           "KAZ"
          ],
          [
           0.30446188575,
           0.267801815,
           0.31450114,
           0.307975417,
           0.327569171,
           "KEN"
          ],
          [
           0.5407035339999999,
           0.558783791,
           0.401099775,
           0.607308472,
           0.595622098,
           "KIR"
          ],
          [
           29.5247656925,
           30.58126375,
           29.72170379,
           29.69343348,
           28.10266175,
           "KWT"
          ],
          [
           1.1447221779999999,
           1.069343449,
           1.180486133,
           1.129467501,
           1.199591629,
           null
          ],
          [
           3.70567544375,
           3.629405756,
           3.443266443,
           3.963228139,
           3.786801437,
           "LVA"
          ],
          [
           4.6259468864999995,
           4.202060939,
           5.001002214,
           4.632411885,
           4.668312508,
           "LBN"
          ],
          [
           1.080763218,
           1.056111113,
           1.06118278,
           1.123489371,
           1.082269608,
           "LSO"
          ],
          [
           0.17906383074999999,
           0.156752837,
           0.138178275,
           0.202899199,
           0.218425012,
           "LBR"
          ],
          [
           8.98032785,
           9.136624366,
           10.0370768,
           10.54269589,
           6.204914344,
           "LBY"
          ],
          [
           1.625174578,
           1.95047731,
           1.527746917,
           1.617377881,
           1.405096204,
           "LIE"
          ],
          [
           4.3452778835,
           4.598897641,
           3.925637608,
           4.319017771,
           4.537558514,
           "LTU"
          ],
          [
           21.4488862225,
           22.38547222,
           20.87712517,
           21.6351358,
           20.8978117,
           "LUX"
          ],
          [
           4.37241454625,
           4.574681817,
           4.224605133,
           4.171161094,
           4.519210141,
           null
          ],
          [
           0.10105406425,
           0.099740761,
           0.092499326,
           0.098983365,
           0.112992805,
           "MDG"
          ],
          [
           0.07941495675,
           0.082545714,
           0.073703111,
           0.082179517,
           0.079231485,
           "MWI"
          ],
          [
           7.72888594375,
           7.656532739,
           7.373235988,
           7.986951475,
           7.898823573,
           "MYS"
          ],
          [
           2.901307896,
           2.78570442,
           2.964158333,
           2.927604905,
           2.927763926,
           "MDV"
          ],
          [
           0.07870584225,
           0.075281844,
           0.078108539,
           0.081476607,
           0.079956379,
           "MLI"
          ],
          [
           6.09988420725,
           6.252313871,
           5.796405618,
           6.316495701,
           6.034321639,
           "MLT"
          ],
          [
           1.94275300425,
           1.895961395,
           1.962424266,
           1.958419165,
           1.954207191,
           "MHL"
          ],
          [
           0.59948035825,
           0.567036613,
           0.608387039,
           0.595272317,
           0.627225464,
           "MRT"
          ],
          [
           3.0630770605,
           3.029991456,
           2.963163435,
           3.132082534,
           3.127070817,
           "MUS"
          ],
          [
           3.9030840335,
           4.126988108,
           3.857149599,
           3.752090816,
           3.876107611,
           "MEX"
          ],
          [
           1.29726067825,
           1.158310361,
           1.622550764,
           1.167845665,
           1.240335923,
           null
          ],
          [
           1.3495270212500001,
           1.337336013,
           1.276290637,
           1.385659642,
           1.398821793,
           null
          ],
          [
           4.77812083475,
           3.81388549,
           4.140116094,
           4.243335224,
           6.915146531,
           "MNG"
          ],
          [
           3.931111854,
           4.457679397,
           2.953556075,
           4.167664361,
           4.145547583,
           "MNE"
          ],
          [
           1.705732483,
           1.687375568,
           1.654806038,
           1.742832779,
           1.737915547,
           "MAR"
          ],
          [
           0.1149598535,
           0.101742097,
           0.108702094,
           0.118205418,
           0.131189805,
           "MOZ"
          ],
          [
           0.18829264299999998,
           0.176918537,
           0.202232171,
           0.173734652,
           0.200285212,
           "MMR"
          ],
          [
           1.46473392375,
           1.691632521,
           1.478823448,
           1.449319237,
           1.239160489,
           "NAM"
          ],
          [
           0.1428040985,
           0.11450154,
           0.136102525,
           0.161137874,
           0.159474455,
           "NPL"
          ],
          [
           10.4472192025,
           10.52945151,
           10.24561928,
           10.94931628,
           10.06448974,
           "NLD"
          ],
          [
           13.988881665000001,
           13.53130952,
           11.57082986,
           15.680092,
           15.17329528,
           "NCL"
          ],
          [
           7.494490569250001,
           8.044536128,
           7.511955097,
           7.297420185,
           7.124050867,
           "NZL"
          ],
          [
           0.8109174425,
           0.790487627,
           0.803730282,
           0.805909906,
           0.843541955,
           "NIC"
          ],
          [
           0.0753136405,
           0.060771767,
           0.073470122,
           0.083054495,
           0.083958178,
           "NER"
          ],
          [
           0.5369786625,
           0.613327639,
           0.462535787,
           0.534553664,
           0.53749756,
           "NGA"
          ],
          [
           3.063347583,
           3.220672403,
           3.08670211,
           2.958833707,
           2.987182112,
           null
          ],
          [
           10.54553473975,
           10.55446109,
           10.81860557,
           11.61619323,
           9.192879069,
           "NOR"
          ],
          [
           16.93327393,
           14.4797972,
           13.92679701,
           19.122607,
           20.20389451,
           "OMN"
          ],
          [
           0.959097851,
           0.975314124,
           0.962548786,
           0.957357369,
           0.941171125,
           "PAK"
          ],
          [
           10.5081496725,
           10.33366293,
           10.27423319,
           10.56927211,
           10.85543046,
           "PLW"
          ],
          [
           2.3994912572500002,
           2.107748953,
           2.415888235,
           2.449051597,
           2.625276244,
           "PAN"
          ],
          [
           0.7305931575,
           0.73337006,
           0.760922609,
           0.681184727,
           0.746895234,
           "PNG"
          ],
          [
           0.7790577915,
           0.719800679,
           0.737248172,
           0.817267073,
           0.841915242,
           "PRY"
          ],
          [
           1.741341651,
           1.441345465,
           1.771065546,
           1.969722449,
           1.783233144,
           "PER"
          ],
          [
           0.8507691402499999,
           0.841040935,
           0.816054812,
           0.878135471,
           0.867845343,
           "PHL"
          ],
          [
           8.190269327500001,
           8.273068216,
           7.81735027,
           8.334872118,
           8.335786706,
           "POL"
          ],
          [
           4.9505701755,
           5.24374293,
           5.158593379,
           4.690094769,
           4.709849624,
           "PRT"
          ],
          [
           45.0240059,
           48.60161977,
           44.83640145,
           42.63907601,
           44.01892637,
           "QAT"
          ],
          [
           0.4461822355,
           0.34155941,
           0.431598927,
           0.473472226,
           0.538098379,
           null
          ],
          [
           4.196190672,
           4.658143211,
           3.997649195,
           3.918410158,
           4.210560124,
           "ROU"
          ],
          [
           11.972753135,
           12.01913064,
           11.02611624,
           12.19843743,
           12.64732823,
           "RUS"
          ],
          [
           0.05833015475,
           0.055661387,
           0.057430655,
           0.05735438,
           0.062874197,
           "RWA"
          ],
          [
           1.11689421175,
           1.039489751,
           1.072106118,
           1.103870902,
           1.252110076,
           "WSM"
          ],
          [
           0.5577929925,
           0.515547541,
           0.548308572,
           0.579406601,
           0.587909256,
           null
          ],
          [
           17.594903872499998,
           15.63931332,
           17.69022548,
           18.97762597,
           18.07245072,
           "SAU"
          ],
          [
           0.53416590275,
           0.444968124,
           0.464873613,
           0.638487724,
           0.58833415,
           "SEN"
          ],
          [
           6.61258844175,
           7.058387624,
           6.300834457,
           6.292016689,
           6.799114997,
           "SRB"
          ],
          [
           7.7426699425,
           7.970272322,
           8.485119934,
           7.679581152,
           6.835706362,
           "SYC"
          ],
          [
           0.128383688,
           0.120200375,
           0.115584129,
           0.12570608,
           0.152044168,
           "SLE"
          ],
          [
           4.17030300075,
           4.927577946,
           4.778242444,
           2.655230176,
           4.320161437,
           "SGP"
          ],
          [
           6.604784321,
           7.010558568,
           6.319073237,
           6.721959562,
           6.367545917,
           null
          ],
          [
           7.7785540404999995,
           8.532016271,
           7.547335376,
           7.530604813,
           7.504259702,
           "SVN"
          ],
          [
           0.37524342325,
           0.378784688,
           0.377551397,
           0.376333439,
           0.368304169,
           "SLB"
          ],
          [
           0.063087661,
           0.065850768,
           0.063880736,
           0.06391226,
           0.05870688,
           "SOM"
          ],
          [
           9.31658648675,
           9.506481163,
           9.545494788,
           8.957153524,
           9.257216472,
           "ZAF"
          ],
          [
           11.006670775,
           10.36983266,
           10.3465061,
           11.46958747,
           11.84075687,
           null
          ],
          [
           6.247243987,
           7.16545181,
           6.216973378,
           5.815786526,
           5.790764234,
           "ESP"
          ],
          [
           0.656350627,
           0.602955794,
           0.644280244,
           0.64824563,
           0.72992084,
           "LKA"
          ],
          [
           4.98471548575,
           4.880433719,
           5.034263395,
           4.973200642,
           5.050964187,
           null
          ],
          [
           2.25870142375,
           2.292817072,
           2.197738533,
           2.273826502,
           2.270423588,
           null
          ],
          [
           2.13939185875,
           2.11625521,
           2.114511922,
           2.146876944,
           2.179923359,
           null
          ],
          [
           0.33841777274999996,
           0.318940846,
           0.343430682,
           0.341750839,
           0.349548724,
           "SDN"
          ],
          [
           4.48570515375,
           4.84197988,
           4.829500002,
           4.621427372,
           3.649913361,
           "SUR"
          ],
          [
           0.89390852475,
           0.950321127,
           0.890557455,
           0.869767204,
           0.864988313,
           null
          ],
          [
           5.28872506725,
           5.326109585,
           4.704368708,
           5.606000495,
           5.518421481,
           "SWE"
          ],
          [
           5.0579065525,
           5.281605848,
           5.372291182,
           4.952499256,
           4.625229924,
           "CHE"
          ],
          [
           3.02046614725,
           3.360814123,
           3.012318451,
           2.971741072,
           2.736990943,
           null
          ],
          [
           0.38126439075,
           0.409462437,
           0.382774553,
           0.373872943,
           0.35894763,
           "TJK"
          ],
          [
           0.14823705799999998,
           0.147981815,
           0.139972868,
           0.150058649,
           0.1549349,
           null
          ],
          [
           4.29687236625,
           3.984059667,
           4.198511915,
           4.470426149,
           4.534491734,
           "THA"
          ],
          [
           0.17387205325,
           0.185016931,
           0.174891045,
           0.171932157,
           0.16364808,
           "TLS"
          ],
          [
           0.2862780585,
           0.285947797,
           0.270613774,
           0.269107041,
           0.319443622,
           "TGO"
          ],
          [
           1.14148145975,
           1.17696662,
           1.276514272,
           1.128882988,
           0.983561959,
           "TON"
          ],
          [
           36.8756602475,
           35.45529782,
           36.56944789,
           38.33784104,
           37.14005424,
           null
          ],
          [
           2.4289349952499997,
           2.403507634,
           2.374157343,
           2.535619365,
           2.402455639,
           "TUN"
          ],
          [
           4.114653769,
           4.055396583,
           3.898959122,
           4.121154855,
           4.383104516,
           "TUR"
          ],
          [
           11.3025025575,
           11.55757176,
           10.11066086,
           11.35811103,
           12.18366658,
           "TKM"
          ],
          [
           6.0495082052499995,
           6.094874665,
           5.940523027,
           6.152486045,
           6.010149084,
           null
          ],
          [
           0.10660566,
           0.101918826,
           0.105319919,
           0.108297319,
           0.110886576,
           "UGA"
          ],
          [
           6.31789109625,
           6.724046202,
           5.64701422,
           6.638152001,
           6.262351962,
           "UKR"
          ],
          [
           21.1726727475,
           23.03360047,
           21.10229562,
           20.12095728,
           20.43383762,
           "ARE"
          ],
          [
           7.74103955025,
           8.4377732,
           7.598999603,
           7.841653312,
           7.085732086,
           "GBR"
          ],
          [
           17.5466553425,
           18.48923375,
           17.1923791,
           17.48479218,
           17.02021634,
           "USA"
          ],
          [
           2.2702701535,
           2.471053756,
           2.401221496,
           1.912604677,
           2.296200685,
           "URY"
          ],
          [
           3.9886769995,
           4.434466025,
           3.912053019,
           3.693267688,
           3.914921266,
           "UZB"
          ],
          [
           0.50078954875,
           0.406838707,
           0.508462532,
           0.496591183,
           0.591265773,
           "VUT"
          ],
          [
           6.5895687945,
           6.6048923,
           6.525292813,
           6.811756484,
           6.416333581,
           null
          ],
          [
           1.7167489655,
           1.497496085,
           1.636370776,
           1.76169543,
           1.971433571,
           null
          ],
          [
           0.560486745,
           0.570947494,
           0.564577775,
           0.534014834,
           0.572406877,
           null
          ],
          [
           1.0065459785,
           0.989904581,
           1.026251462,
           1.090060254,
           0.919967617,
           "YEM"
          ],
          [
           0.188319483,
           0.164691753,
           0.184057876,
           0.192078658,
           0.212449645,
           "ZMB"
          ],
          [
           0.62688680675,
           0.569255428,
           0.600521157,
           0.646072745,
           0.691697897,
           "ZWE"
          ]
         ],
         "geo": "geo",
         "hovertemplate": "<b>%{hovertext}</b><br><br>Emission=%{z:.2f}<br>Emission_2008=%{customdata[1]:.2f}<br>Emission_2009=%{customdata[2]:.2f}<br>Emission_2010=%{customdata[3]:.2f}<br>Emission_2011=%{customdata[4]:.2f}<extra></extra>",
         "hovertext": [
          "Afghanistan",
          "Albania",
          "Algeria",
          "Andorra",
          "Angola",
          "Antigua And Barbuda",
          "Argentina",
          "Armenia",
          "Aruba",
          "Australia",
          "Austria",
          "Azerbaijan",
          "Bahamas",
          "Bahrain",
          "Bangladesh",
          "Barbados",
          "Belarus",
          "Belgium",
          "Belize",
          "Benin",
          "Bermuda",
          "Bhutan",
          "Bolivia",
          "Bosnia And Herzegovina",
          "Botswana",
          "Brazil",
          "Brunei",
          "Bulgaria",
          "Burkina Faso",
          "Burundi",
          "Cabo Verde",
          "Cambodia",
          "Cameroon",
          "Canada",
          "Cayman Islands",
          "Central African Republic",
          "Chad",
          "Chile",
          "China",
          "Colombia",
          "Comoros",
          "Costa Rica",
          "Cote D'Ivoire",
          "Croatia",
          "Cuba",
          "Cyprus",
          "Czech Republic",
          "Dem Rep Of Congo",
          "Denmark",
          "Djibouti",
          "Dominica",
          "Dominican Republic",
          "Ecuador",
          "Egypt",
          "El Salvador",
          "Equatorial Guinea",
          "Eritrea",
          "Estonia",
          "Ethiopia",
          "Faroe Islands",
          "Fiji",
          "Finland",
          "France",
          "French Polynesia",
          "Gabon",
          "Gambia",
          "Georgia",
          "Germany",
          "Ghana",
          "Greece",
          "Greenland",
          "Grenada",
          "Guatemala",
          "Guinea",
          "Guinea-Bissau",
          "Guyana",
          "Haiti",
          "Honduras",
          "Hong Kong",
          "Hungary",
          "Iceland",
          "India",
          "Indonesia",
          "Iran",
          "Iraq",
          "Ireland",
          "Israel",
          "Italy",
          "Jamaica",
          "Japan",
          "Jordan",
          "Kazakhstan",
          "Kenya",
          "Kiribati",
          "Kuwait",
          "Kyrgyz Republic",
          "Latvia",
          "Lebanon",
          "Lesotho",
          "Liberia",
          "Libya",
          "Liechtenstein",
          "Lithuania",
          "Luxembourg",
          "Macedonia",
          "Madagascar",
          "Malawi",
          "Malaysia",
          "Maldives",
          "Mali",
          "Malta",
          "Marshall Islands",
          "Mauritania",
          "Mauritius",
          "Mexico",
          "Micronesia",
          "Moldova",
          "Mongolia",
          "Montenegro",
          "Morocco",
          "Mozambique",
          "Myanmar",
          "Namibia",
          "Nepal",
          "Netherlands",
          "New Caledonia",
          "New Zealand",
          "Nicaragua",
          "Niger",
          "Nigeria",
          "North Korea",
          "Norway",
          "Oman",
          "Pakistan",
          "Palau",
          "Panama",
          "Papua New Guinea",
          "Paraguay",
          "Peru",
          "Philippines",
          "Poland",
          "Portugal",
          "Qatar",
          "Rep Of Congo",
          "Romania",
          "Russian Federation",
          "Rwanda",
          "Samoa",
          "Sao Tome And Principe",
          "Saudi Arabia",
          "Senegal",
          "Serbia",
          "Seychelles",
          "Sierra Leone",
          "Singapore",
          "Slovak Republic",
          "Slovenia",
          "Solomon Islands",
          "Somalia",
          "South Africa",
          "South Korea",
          "Spain",
          "Sri Lanka",
          "St. Kitts And Nevis",
          "St. Lucia",
          "St. Vincent And The Grenadines",
          "Sudan",
          "Suriname",
          "Swaziland",
          "Sweden",
          "Switzerland",
          "Syria",
          "Tajikistan",
          "Tanzania",
          "Thailand",
          "Timor-Leste",
          "Togo",
          "Tonga",
          "Trinidad And Tobago",
          "Tunisia",
          "Turkey",
          "Turkmenistan",
          "Turks And Caicos Islands",
          "Uganda",
          "Ukraine",
          "United Arab Emirates",
          "United Kingdom",
          "United States",
          "Uruguay",
          "Uzbekistan",
          "Vanuatu",
          "Venezuela",
          "Vietnam",
          "West Bank And Gaza",
          "Yemen",
          "Zambia",
          "Zimbabwe"
         ],
         "locations": [
          "AFG",
          "ALB",
          "DZA",
          "AND",
          "AGO",
          null,
          "ARG",
          "ARM",
          "ABW",
          "AUS",
          "AUT",
          "AZE",
          "BHS",
          "BHR",
          "BGD",
          "BRB",
          "BLR",
          "BEL",
          "BLZ",
          "BEN",
          "BMU",
          "BTN",
          null,
          null,
          "BWA",
          "BRA",
          null,
          "BGR",
          "BFA",
          "BDI",
          "CPV",
          "KHM",
          "CMR",
          "CAN",
          "CYM",
          "CAF",
          "TCD",
          "CHL",
          "CHN",
          "COL",
          "COM",
          "CRI",
          null,
          "HRV",
          "CUB",
          "CYP",
          null,
          null,
          "DNK",
          "DJI",
          "DMA",
          "DOM",
          "ECU",
          "EGY",
          "SLV",
          "GNQ",
          "ERI",
          "EST",
          "ETH",
          "FRO",
          "FJI",
          "FIN",
          "FRA",
          "PYF",
          "GAB",
          "GMB",
          "GEO",
          "DEU",
          "GHA",
          "GRC",
          "GRL",
          "GRD",
          "GTM",
          "GIN",
          "GNB",
          "GUY",
          "HTI",
          "HND",
          "HKG",
          "HUN",
          "ISL",
          "IND",
          "IDN",
          null,
          "IRQ",
          "IRL",
          "ISR",
          "ITA",
          "JAM",
          "JPN",
          "JOR",
          "KAZ",
          "KEN",
          "KIR",
          "KWT",
          null,
          "LVA",
          "LBN",
          "LSO",
          "LBR",
          "LBY",
          "LIE",
          "LTU",
          "LUX",
          null,
          "MDG",
          "MWI",
          "MYS",
          "MDV",
          "MLI",
          "MLT",
          "MHL",
          "MRT",
          "MUS",
          "MEX",
          null,
          null,
          "MNG",
          "MNE",
          "MAR",
          "MOZ",
          "MMR",
          "NAM",
          "NPL",
          "NLD",
          "NCL",
          "NZL",
          "NIC",
          "NER",
          "NGA",
          null,
          "NOR",
          "OMN",
          "PAK",
          "PLW",
          "PAN",
          "PNG",
          "PRY",
          "PER",
          "PHL",
          "POL",
          "PRT",
          "QAT",
          null,
          "ROU",
          "RUS",
          "RWA",
          "WSM",
          null,
          "SAU",
          "SEN",
          "SRB",
          "SYC",
          "SLE",
          "SGP",
          null,
          "SVN",
          "SLB",
          "SOM",
          "ZAF",
          null,
          "ESP",
          "LKA",
          null,
          null,
          null,
          "SDN",
          "SUR",
          null,
          "SWE",
          "CHE",
          null,
          "TJK",
          null,
          "THA",
          "TLS",
          "TGO",
          "TON",
          null,
          "TUN",
          "TUR",
          "TKM",
          null,
          "UGA",
          "UKR",
          "ARE",
          "GBR",
          "USA",
          "URY",
          "UZB",
          "VUT",
          null,
          null,
          null,
          "YEM",
          "ZMB",
          "ZWE"
         ],
         "name": "",
         "type": "choropleth",
         "z": [
          0.28405839525,
          1.558990285,
          3.31490105075,
          6.109688341,
          1.38898996025,
          5.8424209255,
          4.5191147695,
          1.6083068255,
          24.4329883525,
          17.14150675,
          7.9421434025,
          3.66316418125,
          4.9144437645,
          19.0096459475,
          0.357242997,
          5.678827056499999,
          6.5434369405,
          9.5490956775,
          1.59024848575,
          0.51654866125,
          6.611898576,
          0.6498187865,
          1.50479711825,
          5.5785206495,
          2.4003710855,
          2.0404398565,
          23.6881338675,
          6.29748035975,
          0.1132137545,
          0.02109368575,
          0.66846538925,
          0.294271865,
          0.30239695525,
          15.0450322925,
          10.509529024999999,
          0.057790929000000005,
          0.0439346655,
          4.2872611605,
          5.9930214765,
          1.5519828337500001,
          0.19212707875,
          1.7359749467499999,
          0.31487376675,
          4.91653172,
          2.97685027275,
          7.2718482955,
          10.647436814999999,
          0.0484115555,
          8.06247552425,
          0.59091383275,
          1.8177858494999999,
          2.166777162,
          2.26677479575,
          2.52100862175,
          1.07717882475,
          7.1060590125,
          0.1055048415,
          12.988469175,
          0.078277325,
          12.38022819,
          1.3007588,
          10.57629175475,
          5.4919193475,
          3.26475359725,
          1.42314719875,
          0.261400667,
          1.71977107725,
          9.1068158215,
          0.38504822275,
          8.184885556,
          11.5110009225,
          2.4565909255,
          0.79886193625,
          0.2109046295,
          0.146313833,
          2.2023759632499997,
          0.22742108175,
          1.1093182545,
          5.427796236,
          5.06710666625,
          6.29758287,
          1.59116961125,
          1.9411555087499999,
          7.65638667825,
          3.62152178025,
          8.7773367285,
          8.98565933025,
          6.98458716,
          3.30652817225,
          9.110150662,
          3.6238251315,
          14.731470315,
          0.30446188575,
          0.5407035339999999,
          29.5247656925,
          1.1447221779999999,
          3.70567544375,
          4.6259468864999995,
          1.080763218,
          0.17906383074999999,
          8.98032785,
          1.625174578,
          4.3452778835,
          21.4488862225,
          4.37241454625,
          0.10105406425,
          0.07941495675,
          7.72888594375,
          2.901307896,
          0.07870584225,
          6.09988420725,
          1.94275300425,
          0.59948035825,
          3.0630770605,
          3.9030840335,
          1.29726067825,
          1.3495270212500001,
          4.77812083475,
          3.931111854,
          1.705732483,
          0.1149598535,
          0.18829264299999998,
          1.46473392375,
          0.1428040985,
          10.4472192025,
          13.988881665000001,
          7.494490569250001,
          0.8109174425,
          0.0753136405,
          0.5369786625,
          3.063347583,
          10.54553473975,
          16.93327393,
          0.959097851,
          10.5081496725,
          2.3994912572500002,
          0.7305931575,
          0.7790577915,
          1.741341651,
          0.8507691402499999,
          8.190269327500001,
          4.9505701755,
          45.0240059,
          0.4461822355,
          4.196190672,
          11.972753135,
          0.05833015475,
          1.11689421175,
          0.5577929925,
          17.594903872499998,
          0.53416590275,
          6.61258844175,
          7.7426699425,
          0.128383688,
          4.17030300075,
          6.604784321,
          7.7785540404999995,
          0.37524342325,
          0.063087661,
          9.31658648675,
          11.006670775,
          6.247243987,
          0.656350627,
          4.98471548575,
          2.25870142375,
          2.13939185875,
          0.33841777274999996,
          4.48570515375,
          0.89390852475,
          5.28872506725,
          5.0579065525,
          3.02046614725,
          0.38126439075,
          0.14823705799999998,
          4.29687236625,
          0.17387205325,
          0.2862780585,
          1.14148145975,
          36.8756602475,
          2.4289349952499997,
          4.114653769,
          11.3025025575,
          6.0495082052499995,
          0.10660566,
          6.31789109625,
          21.1726727475,
          7.74103955025,
          17.5466553425,
          2.2702701535,
          3.9886769995,
          0.50078954875,
          6.5895687945,
          1.7167489655,
          0.560486745,
          1.0065459785,
          0.188319483,
          0.62688680675
         ]
        }
       ],
       "layout": {
        "coloraxis": {
         "colorbar": {
          "title": {
           "text": "Emission"
          }
         },
         "colorscale": [
          [
           0,
           "rgb(12,51,131)"
          ],
          [
           0.25,
           "rgb(10,136,186)"
          ],
          [
           0.5,
           "rgb(242,211,56)"
          ],
          [
           0.75,
           "rgb(242,143,56)"
          ],
          [
           1,
           "rgb(217,30,30)"
          ]
         ]
        },
        "geo": {
         "center": {},
         "domain": {
          "x": [
           0,
           1
          ],
          "y": [
           0,
           1
          ]
         },
         "projection": {
          "type": "natural earth"
         },
         "showcoastlines": true,
         "showframe": true
        },
        "legend": {
         "tracegroupgap": 0
        },
        "margin": {
         "t": 60
        },
        "template": {
         "data": {
          "bar": [
           {
            "error_x": {
             "color": "#2a3f5f"
            },
            "error_y": {
             "color": "#2a3f5f"
            },
            "marker": {
             "line": {
              "color": "#E5ECF6",
              "width": 0.5
             },
             "pattern": {
              "fillmode": "overlay",
              "size": 10,
              "solidity": 0.2
             }
            },
            "type": "bar"
           }
          ],
          "barpolar": [
           {
            "marker": {
             "line": {
              "color": "#E5ECF6",
              "width": 0.5
             },
             "pattern": {
              "fillmode": "overlay",
              "size": 10,
              "solidity": 0.2
             }
            },
            "type": "barpolar"
           }
          ],
          "carpet": [
           {
            "aaxis": {
             "endlinecolor": "#2a3f5f",
             "gridcolor": "white",
             "linecolor": "white",
             "minorgridcolor": "white",
             "startlinecolor": "#2a3f5f"
            },
            "baxis": {
             "endlinecolor": "#2a3f5f",
             "gridcolor": "white",
             "linecolor": "white",
             "minorgridcolor": "white",
             "startlinecolor": "#2a3f5f"
            },
            "type": "carpet"
           }
          ],
          "choropleth": [
           {
            "colorbar": {
             "outlinewidth": 0,
             "ticks": ""
            },
            "type": "choropleth"
           }
          ],
          "contour": [
           {
            "colorbar": {
             "outlinewidth": 0,
             "ticks": ""
            },
            "colorscale": [
             [
              0,
              "#0d0887"
             ],
             [
              0.1111111111111111,
              "#46039f"
             ],
             [
              0.2222222222222222,
              "#7201a8"
             ],
             [
              0.3333333333333333,
              "#9c179e"
             ],
             [
              0.4444444444444444,
              "#bd3786"
             ],
             [
              0.5555555555555556,
              "#d8576b"
             ],
             [
              0.6666666666666666,
              "#ed7953"
             ],
             [
              0.7777777777777778,
              "#fb9f3a"
             ],
             [
              0.8888888888888888,
              "#fdca26"
             ],
             [
              1,
              "#f0f921"
             ]
            ],
            "type": "contour"
           }
          ],
          "contourcarpet": [
           {
            "colorbar": {
             "outlinewidth": 0,
             "ticks": ""
            },
            "type": "contourcarpet"
           }
          ],
          "heatmap": [
           {
            "colorbar": {
             "outlinewidth": 0,
             "ticks": ""
            },
            "colorscale": [
             [
              0,
              "#0d0887"
             ],
             [
              0.1111111111111111,
              "#46039f"
             ],
             [
              0.2222222222222222,
              "#7201a8"
             ],
             [
              0.3333333333333333,
              "#9c179e"
             ],
             [
              0.4444444444444444,
              "#bd3786"
             ],
             [
              0.5555555555555556,
              "#d8576b"
             ],
             [
              0.6666666666666666,
              "#ed7953"
             ],
             [
              0.7777777777777778,
              "#fb9f3a"
             ],
             [
              0.8888888888888888,
              "#fdca26"
             ],
             [
              1,
              "#f0f921"
             ]
            ],
            "type": "heatmap"
           }
          ],
          "heatmapgl": [
           {
            "colorbar": {
             "outlinewidth": 0,
             "ticks": ""
            },
            "colorscale": [
             [
              0,
              "#0d0887"
             ],
             [
              0.1111111111111111,
              "#46039f"
             ],
             [
              0.2222222222222222,
              "#7201a8"
             ],
             [
              0.3333333333333333,
              "#9c179e"
             ],
             [
              0.4444444444444444,
              "#bd3786"
             ],
             [
              0.5555555555555556,
              "#d8576b"
             ],
             [
              0.6666666666666666,
              "#ed7953"
             ],
             [
              0.7777777777777778,
              "#fb9f3a"
             ],
             [
              0.8888888888888888,
              "#fdca26"
             ],
             [
              1,
              "#f0f921"
             ]
            ],
            "type": "heatmapgl"
           }
          ],
          "histogram": [
           {
            "marker": {
             "pattern": {
              "fillmode": "overlay",
              "size": 10,
              "solidity": 0.2
             }
            },
            "type": "histogram"
           }
          ],
          "histogram2d": [
           {
            "colorbar": {
             "outlinewidth": 0,
             "ticks": ""
            },
            "colorscale": [
             [
              0,
              "#0d0887"
             ],
             [
              0.1111111111111111,
              "#46039f"
             ],
             [
              0.2222222222222222,
              "#7201a8"
             ],
             [
              0.3333333333333333,
              "#9c179e"
             ],
             [
              0.4444444444444444,
              "#bd3786"
             ],
             [
              0.5555555555555556,
              "#d8576b"
             ],
             [
              0.6666666666666666,
              "#ed7953"
             ],
             [
              0.7777777777777778,
              "#fb9f3a"
             ],
             [
              0.8888888888888888,
              "#fdca26"
             ],
             [
              1,
              "#f0f921"
             ]
            ],
            "type": "histogram2d"
           }
          ],
          "histogram2dcontour": [
           {
            "colorbar": {
             "outlinewidth": 0,
             "ticks": ""
            },
            "colorscale": [
             [
              0,
              "#0d0887"
             ],
             [
              0.1111111111111111,
              "#46039f"
             ],
             [
              0.2222222222222222,
              "#7201a8"
             ],
             [
              0.3333333333333333,
              "#9c179e"
             ],
             [
              0.4444444444444444,
              "#bd3786"
             ],
             [
              0.5555555555555556,
              "#d8576b"
             ],
             [
              0.6666666666666666,
              "#ed7953"
             ],
             [
              0.7777777777777778,
              "#fb9f3a"
             ],
             [
              0.8888888888888888,
              "#fdca26"
             ],
             [
              1,
              "#f0f921"
             ]
            ],
            "type": "histogram2dcontour"
           }
          ],
          "mesh3d": [
           {
            "colorbar": {
             "outlinewidth": 0,
             "ticks": ""
            },
            "type": "mesh3d"
           }
          ],
          "parcoords": [
           {
            "line": {
             "colorbar": {
              "outlinewidth": 0,
              "ticks": ""
             }
            },
            "type": "parcoords"
           }
          ],
          "pie": [
           {
            "automargin": true,
            "type": "pie"
           }
          ],
          "scatter": [
           {
            "fillpattern": {
             "fillmode": "overlay",
             "size": 10,
             "solidity": 0.2
            },
            "type": "scatter"
           }
          ],
          "scatter3d": [
           {
            "line": {
             "colorbar": {
              "outlinewidth": 0,
              "ticks": ""
             }
            },
            "marker": {
             "colorbar": {
              "outlinewidth": 0,
              "ticks": ""
             }
            },
            "type": "scatter3d"
           }
          ],
          "scattercarpet": [
           {
            "marker": {
             "colorbar": {
              "outlinewidth": 0,
              "ticks": ""
             }
            },
            "type": "scattercarpet"
           }
          ],
          "scattergeo": [
           {
            "marker": {
             "colorbar": {
              "outlinewidth": 0,
              "ticks": ""
             }
            },
            "type": "scattergeo"
           }
          ],
          "scattergl": [
           {
            "marker": {
             "colorbar": {
              "outlinewidth": 0,
              "ticks": ""
             }
            },
            "type": "scattergl"
           }
          ],
          "scattermapbox": [
           {
            "marker": {
             "colorbar": {
              "outlinewidth": 0,
              "ticks": ""
             }
            },
            "type": "scattermapbox"
           }
          ],
          "scatterpolar": [
           {
            "marker": {
             "colorbar": {
              "outlinewidth": 0,
              "ticks": ""
             }
            },
            "type": "scatterpolar"
           }
          ],
          "scatterpolargl": [
           {
            "marker": {
             "colorbar": {
              "outlinewidth": 0,
              "ticks": ""
             }
            },
            "type": "scatterpolargl"
           }
          ],
          "scatterternary": [
           {
            "marker": {
             "colorbar": {
              "outlinewidth": 0,
              "ticks": ""
             }
            },
            "type": "scatterternary"
           }
          ],
          "surface": [
           {
            "colorbar": {
             "outlinewidth": 0,
             "ticks": ""
            },
            "colorscale": [
             [
              0,
              "#0d0887"
             ],
             [
              0.1111111111111111,
              "#46039f"
             ],
             [
              0.2222222222222222,
              "#7201a8"
             ],
             [
              0.3333333333333333,
              "#9c179e"
             ],
             [
              0.4444444444444444,
              "#bd3786"
             ],
             [
              0.5555555555555556,
              "#d8576b"
             ],
             [
              0.6666666666666666,
              "#ed7953"
             ],
             [
              0.7777777777777778,
              "#fb9f3a"
             ],
             [
              0.8888888888888888,
              "#fdca26"
             ],
             [
              1,
              "#f0f921"
             ]
            ],
            "type": "surface"
           }
          ],
          "table": [
           {
            "cells": {
             "fill": {
              "color": "#EBF0F8"
             },
             "line": {
              "color": "white"
             }
            },
            "header": {
             "fill": {
              "color": "#C8D4E3"
             },
             "line": {
              "color": "white"
             }
            },
            "type": "table"
           }
          ]
         },
         "layout": {
          "annotationdefaults": {
           "arrowcolor": "#2a3f5f",
           "arrowhead": 0,
           "arrowwidth": 1
          },
          "autotypenumbers": "strict",
          "coloraxis": {
           "colorbar": {
            "outlinewidth": 0,
            "ticks": ""
           }
          },
          "colorscale": {
           "diverging": [
            [
             0,
             "#8e0152"
            ],
            [
             0.1,
             "#c51b7d"
            ],
            [
             0.2,
             "#de77ae"
            ],
            [
             0.3,
             "#f1b6da"
            ],
            [
             0.4,
             "#fde0ef"
            ],
            [
             0.5,
             "#f7f7f7"
            ],
            [
             0.6,
             "#e6f5d0"
            ],
            [
             0.7,
             "#b8e186"
            ],
            [
             0.8,
             "#7fbc41"
            ],
            [
             0.9,
             "#4d9221"
            ],
            [
             1,
             "#276419"
            ]
           ],
           "sequential": [
            [
             0,
             "#0d0887"
            ],
            [
             0.1111111111111111,
             "#46039f"
            ],
            [
             0.2222222222222222,
             "#7201a8"
            ],
            [
             0.3333333333333333,
             "#9c179e"
            ],
            [
             0.4444444444444444,
             "#bd3786"
            ],
            [
             0.5555555555555556,
             "#d8576b"
            ],
            [
             0.6666666666666666,
             "#ed7953"
            ],
            [
             0.7777777777777778,
             "#fb9f3a"
            ],
            [
             0.8888888888888888,
             "#fdca26"
            ],
            [
             1,
             "#f0f921"
            ]
           ],
           "sequentialminus": [
            [
             0,
             "#0d0887"
            ],
            [
             0.1111111111111111,
             "#46039f"
            ],
            [
             0.2222222222222222,
             "#7201a8"
            ],
            [
             0.3333333333333333,
             "#9c179e"
            ],
            [
             0.4444444444444444,
             "#bd3786"
            ],
            [
             0.5555555555555556,
             "#d8576b"
            ],
            [
             0.6666666666666666,
             "#ed7953"
            ],
            [
             0.7777777777777778,
             "#fb9f3a"
            ],
            [
             0.8888888888888888,
             "#fdca26"
            ],
            [
             1,
             "#f0f921"
            ]
           ]
          },
          "colorway": [
           "#636efa",
           "#EF553B",
           "#00cc96",
           "#ab63fa",
           "#FFA15A",
           "#19d3f3",
           "#FF6692",
           "#B6E880",
           "#FF97FF",
           "#FECB52"
          ],
          "font": {
           "color": "#2a3f5f"
          },
          "geo": {
           "bgcolor": "white",
           "lakecolor": "white",
           "landcolor": "#E5ECF6",
           "showlakes": true,
           "showland": true,
           "subunitcolor": "white"
          },
          "hoverlabel": {
           "align": "left"
          },
          "hovermode": "closest",
          "mapbox": {
           "style": "light"
          },
          "paper_bgcolor": "white",
          "plot_bgcolor": "#E5ECF6",
          "polar": {
           "angularaxis": {
            "gridcolor": "white",
            "linecolor": "white",
            "ticks": ""
           },
           "bgcolor": "#E5ECF6",
           "radialaxis": {
            "gridcolor": "white",
            "linecolor": "white",
            "ticks": ""
           }
          },
          "scene": {
           "xaxis": {
            "backgroundcolor": "#E5ECF6",
            "gridcolor": "white",
            "gridwidth": 2,
            "linecolor": "white",
            "showbackground": true,
            "ticks": "",
            "zerolinecolor": "white"
           },
           "yaxis": {
            "backgroundcolor": "#E5ECF6",
            "gridcolor": "white",
            "gridwidth": 2,
            "linecolor": "white",
            "showbackground": true,
            "ticks": "",
            "zerolinecolor": "white"
           },
           "zaxis": {
            "backgroundcolor": "#E5ECF6",
            "gridcolor": "white",
            "gridwidth": 2,
            "linecolor": "white",
            "showbackground": true,
            "ticks": "",
            "zerolinecolor": "white"
           }
          },
          "shapedefaults": {
           "line": {
            "color": "#2a3f5f"
           }
          },
          "ternary": {
           "aaxis": {
            "gridcolor": "white",
            "linecolor": "white",
            "ticks": ""
           },
           "baxis": {
            "gridcolor": "white",
            "linecolor": "white",
            "ticks": ""
           },
           "bgcolor": "#E5ECF6",
           "caxis": {
            "gridcolor": "white",
            "linecolor": "white",
            "ticks": ""
           }
          },
          "title": {
           "x": 0.05
          },
          "xaxis": {
           "automargin": true,
           "gridcolor": "white",
           "linecolor": "white",
           "ticks": "",
           "title": {
            "standoff": 15
           },
           "zerolinecolor": "white",
           "zerolinewidth": 2
          },
          "yaxis": {
           "automargin": true,
           "gridcolor": "white",
           "linecolor": "white",
           "ticks": "",
           "title": {
            "standoff": 15
           },
           "zerolinecolor": "white",
           "zerolinewidth": 2
          }
         }
        },
        "title": {
         "text": "Average Emission by Country"
        }
       }
      }
     },
     "metadata": {},
     "output_type": "display_data"
    }
   ],
   "source": [
    "#Plot Average Emission by Country on a interactive map\n",
    "# Aggregate the data to get the average emission for each country\n",
    "average_emission = df.groupby('Country')['Emission'].mean().reset_index()\n",
    "\n",
    "# Merge this with the average_emission DataFrame\n",
    "average_emission = average_emission.merge(country_codes_df, on='Country', how='left')\n",
    "\n",
    "\n",
    "# Merge the yearly data with the average_emission DataFrame\n",
    "average_emission = average_emission.merge(emission_2008, on='Country', how='left', suffixes=('', '_2008'))\n",
    "average_emission = average_emission.merge(emission_2009, on='Country', how='left', suffixes=('', '_2009'))\n",
    "average_emission = average_emission.merge(emission_2010, on='Country', how='left', suffixes=('', '_2010'))\n",
    "average_emission = average_emission.merge(emission_2011, on='Country', how='left', suffixes=('', '_2011'))\n",
    "\n",
    "# Create the choropleth map using Plotly Express\n",
    "fig = px.choropleth(\n",
    "    average_emission,\n",
    "    locations='ISO_Code', \n",
    "    color='Emission',\n",
    "    hover_name='Country',\n",
    "    hover_data={\n",
    "        'Emission': ':.2f',\n",
    "        'Emission_2008': ':.2f',\n",
    "        'Emission_2009': ':.2f',\n",
    "        'Emission_2010': ':.2f',\n",
    "        'Emission_2011': ':.2f',\n",
    "        'ISO_Code': False\n",
    "    },\n",
    "    color_continuous_scale='Portland',  # Different color scale\n",
    ")\n",
    "\n",
    "# Adjust layout and style to include an outer frame\n",
    "fig.update_layout(\n",
    "    title_text='Average Emission by Country',\n",
    "    geo=dict(\n",
    "        showframe=True,  # Show the frame border\n",
    "        showcoastlines=True,\n",
    "        projection_type='natural earth'  # Natural Earth projection for a round globe\n",
    "    )\n",
    ")\n",
    "\n",
    "# Show the figure\n",
    "fig.show()\n"
   ]
  },
  {
   "cell_type": "code",
   "execution_count": 13,
   "metadata": {},
   "outputs": [
    {
     "data": {
      "application/vnd.plotly.v1+json": {
       "config": {
        "plotlyServerURL": "https://plot.ly"
       },
       "data": [
        {
         "marker": {
          "color": "rgb(27,158,119)",
          "line": {
           "color": "rgb(0,0,0)",
           "width": 1.5
          },
          "opacity": 0.8
         },
         "name": "2008",
         "type": "bar",
         "x": [
          "Aruba",
          "Australia",
          "Bahrain",
          "Brunei",
          "Canada",
          "Estonia",
          "Faroe Islands",
          "Kazakhstan",
          "Kuwait",
          "Luxembourg",
          "New Caledonia",
          "Oman",
          "Qatar",
          "Russian Federation",
          "Saudi Arabia",
          "Trinidad And Tobago",
          "United Arab Emirates",
          "United States"
         ],
         "y": [
          24.75013321,
          17.70407968,
          21.51999548,
          26.33827137,
          16.36616459,
          13.08183443,
          12.97012071,
          14.65957764,
          30.58126375,
          22.38547222,
          13.53130952,
          14.4797972,
          48.60161977,
          12.01913064,
          15.63931332,
          35.45529782,
          23.03360047,
          18.48923375
         ]
        },
        {
         "marker": {
          "color": "rgb(217,95,2)",
          "line": {
           "color": "rgb(0,0,0)",
           "width": 1.5
          },
          "opacity": 0.8
         },
         "name": "2009",
         "type": "bar",
         "x": [
          "Aruba",
          "Australia",
          "Bahrain",
          "Brunei",
          "Canada",
          "Estonia",
          "Faroe Islands",
          "Kazakhstan",
          "Kuwait",
          "Luxembourg",
          "New Caledonia",
          "Oman",
          "Qatar",
          "Russian Federation",
          "Saudi Arabia",
          "Trinidad And Tobago",
          "United Arab Emirates",
          "United States"
         ],
         "y": [
          24.87670585,
          17.63183305,
          18.13623374,
          22.14902862,
          15.08909766,
          11.04896311,
          11.8429021,
          13.30972781,
          29.72170379,
          20.87712517,
          11.57082986,
          13.92679701,
          44.83640145,
          11.02611624,
          17.69022548,
          36.56944789,
          21.10229562,
          17.1923791
         ]
        }
       ],
       "layout": {
        "barmode": "group",
        "height": 700,
        "template": {
         "data": {
          "bar": [
           {
            "error_x": {
             "color": "#2a3f5f"
            },
            "error_y": {
             "color": "#2a3f5f"
            },
            "marker": {
             "line": {
              "color": "#E5ECF6",
              "width": 0.5
             },
             "pattern": {
              "fillmode": "overlay",
              "size": 10,
              "solidity": 0.2
             }
            },
            "type": "bar"
           }
          ],
          "barpolar": [
           {
            "marker": {
             "line": {
              "color": "#E5ECF6",
              "width": 0.5
             },
             "pattern": {
              "fillmode": "overlay",
              "size": 10,
              "solidity": 0.2
             }
            },
            "type": "barpolar"
           }
          ],
          "carpet": [
           {
            "aaxis": {
             "endlinecolor": "#2a3f5f",
             "gridcolor": "white",
             "linecolor": "white",
             "minorgridcolor": "white",
             "startlinecolor": "#2a3f5f"
            },
            "baxis": {
             "endlinecolor": "#2a3f5f",
             "gridcolor": "white",
             "linecolor": "white",
             "minorgridcolor": "white",
             "startlinecolor": "#2a3f5f"
            },
            "type": "carpet"
           }
          ],
          "choropleth": [
           {
            "colorbar": {
             "outlinewidth": 0,
             "ticks": ""
            },
            "type": "choropleth"
           }
          ],
          "contour": [
           {
            "colorbar": {
             "outlinewidth": 0,
             "ticks": ""
            },
            "colorscale": [
             [
              0,
              "#0d0887"
             ],
             [
              0.1111111111111111,
              "#46039f"
             ],
             [
              0.2222222222222222,
              "#7201a8"
             ],
             [
              0.3333333333333333,
              "#9c179e"
             ],
             [
              0.4444444444444444,
              "#bd3786"
             ],
             [
              0.5555555555555556,
              "#d8576b"
             ],
             [
              0.6666666666666666,
              "#ed7953"
             ],
             [
              0.7777777777777778,
              "#fb9f3a"
             ],
             [
              0.8888888888888888,
              "#fdca26"
             ],
             [
              1,
              "#f0f921"
             ]
            ],
            "type": "contour"
           }
          ],
          "contourcarpet": [
           {
            "colorbar": {
             "outlinewidth": 0,
             "ticks": ""
            },
            "type": "contourcarpet"
           }
          ],
          "heatmap": [
           {
            "colorbar": {
             "outlinewidth": 0,
             "ticks": ""
            },
            "colorscale": [
             [
              0,
              "#0d0887"
             ],
             [
              0.1111111111111111,
              "#46039f"
             ],
             [
              0.2222222222222222,
              "#7201a8"
             ],
             [
              0.3333333333333333,
              "#9c179e"
             ],
             [
              0.4444444444444444,
              "#bd3786"
             ],
             [
              0.5555555555555556,
              "#d8576b"
             ],
             [
              0.6666666666666666,
              "#ed7953"
             ],
             [
              0.7777777777777778,
              "#fb9f3a"
             ],
             [
              0.8888888888888888,
              "#fdca26"
             ],
             [
              1,
              "#f0f921"
             ]
            ],
            "type": "heatmap"
           }
          ],
          "heatmapgl": [
           {
            "colorbar": {
             "outlinewidth": 0,
             "ticks": ""
            },
            "colorscale": [
             [
              0,
              "#0d0887"
             ],
             [
              0.1111111111111111,
              "#46039f"
             ],
             [
              0.2222222222222222,
              "#7201a8"
             ],
             [
              0.3333333333333333,
              "#9c179e"
             ],
             [
              0.4444444444444444,
              "#bd3786"
             ],
             [
              0.5555555555555556,
              "#d8576b"
             ],
             [
              0.6666666666666666,
              "#ed7953"
             ],
             [
              0.7777777777777778,
              "#fb9f3a"
             ],
             [
              0.8888888888888888,
              "#fdca26"
             ],
             [
              1,
              "#f0f921"
             ]
            ],
            "type": "heatmapgl"
           }
          ],
          "histogram": [
           {
            "marker": {
             "pattern": {
              "fillmode": "overlay",
              "size": 10,
              "solidity": 0.2
             }
            },
            "type": "histogram"
           }
          ],
          "histogram2d": [
           {
            "colorbar": {
             "outlinewidth": 0,
             "ticks": ""
            },
            "colorscale": [
             [
              0,
              "#0d0887"
             ],
             [
              0.1111111111111111,
              "#46039f"
             ],
             [
              0.2222222222222222,
              "#7201a8"
             ],
             [
              0.3333333333333333,
              "#9c179e"
             ],
             [
              0.4444444444444444,
              "#bd3786"
             ],
             [
              0.5555555555555556,
              "#d8576b"
             ],
             [
              0.6666666666666666,
              "#ed7953"
             ],
             [
              0.7777777777777778,
              "#fb9f3a"
             ],
             [
              0.8888888888888888,
              "#fdca26"
             ],
             [
              1,
              "#f0f921"
             ]
            ],
            "type": "histogram2d"
           }
          ],
          "histogram2dcontour": [
           {
            "colorbar": {
             "outlinewidth": 0,
             "ticks": ""
            },
            "colorscale": [
             [
              0,
              "#0d0887"
             ],
             [
              0.1111111111111111,
              "#46039f"
             ],
             [
              0.2222222222222222,
              "#7201a8"
             ],
             [
              0.3333333333333333,
              "#9c179e"
             ],
             [
              0.4444444444444444,
              "#bd3786"
             ],
             [
              0.5555555555555556,
              "#d8576b"
             ],
             [
              0.6666666666666666,
              "#ed7953"
             ],
             [
              0.7777777777777778,
              "#fb9f3a"
             ],
             [
              0.8888888888888888,
              "#fdca26"
             ],
             [
              1,
              "#f0f921"
             ]
            ],
            "type": "histogram2dcontour"
           }
          ],
          "mesh3d": [
           {
            "colorbar": {
             "outlinewidth": 0,
             "ticks": ""
            },
            "type": "mesh3d"
           }
          ],
          "parcoords": [
           {
            "line": {
             "colorbar": {
              "outlinewidth": 0,
              "ticks": ""
             }
            },
            "type": "parcoords"
           }
          ],
          "pie": [
           {
            "automargin": true,
            "type": "pie"
           }
          ],
          "scatter": [
           {
            "fillpattern": {
             "fillmode": "overlay",
             "size": 10,
             "solidity": 0.2
            },
            "type": "scatter"
           }
          ],
          "scatter3d": [
           {
            "line": {
             "colorbar": {
              "outlinewidth": 0,
              "ticks": ""
             }
            },
            "marker": {
             "colorbar": {
              "outlinewidth": 0,
              "ticks": ""
             }
            },
            "type": "scatter3d"
           }
          ],
          "scattercarpet": [
           {
            "marker": {
             "colorbar": {
              "outlinewidth": 0,
              "ticks": ""
             }
            },
            "type": "scattercarpet"
           }
          ],
          "scattergeo": [
           {
            "marker": {
             "colorbar": {
              "outlinewidth": 0,
              "ticks": ""
             }
            },
            "type": "scattergeo"
           }
          ],
          "scattergl": [
           {
            "marker": {
             "colorbar": {
              "outlinewidth": 0,
              "ticks": ""
             }
            },
            "type": "scattergl"
           }
          ],
          "scattermapbox": [
           {
            "marker": {
             "colorbar": {
              "outlinewidth": 0,
              "ticks": ""
             }
            },
            "type": "scattermapbox"
           }
          ],
          "scatterpolar": [
           {
            "marker": {
             "colorbar": {
              "outlinewidth": 0,
              "ticks": ""
             }
            },
            "type": "scatterpolar"
           }
          ],
          "scatterpolargl": [
           {
            "marker": {
             "colorbar": {
              "outlinewidth": 0,
              "ticks": ""
             }
            },
            "type": "scatterpolargl"
           }
          ],
          "scatterternary": [
           {
            "marker": {
             "colorbar": {
              "outlinewidth": 0,
              "ticks": ""
             }
            },
            "type": "scatterternary"
           }
          ],
          "surface": [
           {
            "colorbar": {
             "outlinewidth": 0,
             "ticks": ""
            },
            "colorscale": [
             [
              0,
              "#0d0887"
             ],
             [
              0.1111111111111111,
              "#46039f"
             ],
             [
              0.2222222222222222,
              "#7201a8"
             ],
             [
              0.3333333333333333,
              "#9c179e"
             ],
             [
              0.4444444444444444,
              "#bd3786"
             ],
             [
              0.5555555555555556,
              "#d8576b"
             ],
             [
              0.6666666666666666,
              "#ed7953"
             ],
             [
              0.7777777777777778,
              "#fb9f3a"
             ],
             [
              0.8888888888888888,
              "#fdca26"
             ],
             [
              1,
              "#f0f921"
             ]
            ],
            "type": "surface"
           }
          ],
          "table": [
           {
            "cells": {
             "fill": {
              "color": "#EBF0F8"
             },
             "line": {
              "color": "white"
             }
            },
            "header": {
             "fill": {
              "color": "#C8D4E3"
             },
             "line": {
              "color": "white"
             }
            },
            "type": "table"
           }
          ]
         },
         "layout": {
          "annotationdefaults": {
           "arrowcolor": "#2a3f5f",
           "arrowhead": 0,
           "arrowwidth": 1
          },
          "autotypenumbers": "strict",
          "coloraxis": {
           "colorbar": {
            "outlinewidth": 0,
            "ticks": ""
           }
          },
          "colorscale": {
           "diverging": [
            [
             0,
             "#8e0152"
            ],
            [
             0.1,
             "#c51b7d"
            ],
            [
             0.2,
             "#de77ae"
            ],
            [
             0.3,
             "#f1b6da"
            ],
            [
             0.4,
             "#fde0ef"
            ],
            [
             0.5,
             "#f7f7f7"
            ],
            [
             0.6,
             "#e6f5d0"
            ],
            [
             0.7,
             "#b8e186"
            ],
            [
             0.8,
             "#7fbc41"
            ],
            [
             0.9,
             "#4d9221"
            ],
            [
             1,
             "#276419"
            ]
           ],
           "sequential": [
            [
             0,
             "#0d0887"
            ],
            [
             0.1111111111111111,
             "#46039f"
            ],
            [
             0.2222222222222222,
             "#7201a8"
            ],
            [
             0.3333333333333333,
             "#9c179e"
            ],
            [
             0.4444444444444444,
             "#bd3786"
            ],
            [
             0.5555555555555556,
             "#d8576b"
            ],
            [
             0.6666666666666666,
             "#ed7953"
            ],
            [
             0.7777777777777778,
             "#fb9f3a"
            ],
            [
             0.8888888888888888,
             "#fdca26"
            ],
            [
             1,
             "#f0f921"
            ]
           ],
           "sequentialminus": [
            [
             0,
             "#0d0887"
            ],
            [
             0.1111111111111111,
             "#46039f"
            ],
            [
             0.2222222222222222,
             "#7201a8"
            ],
            [
             0.3333333333333333,
             "#9c179e"
            ],
            [
             0.4444444444444444,
             "#bd3786"
            ],
            [
             0.5555555555555556,
             "#d8576b"
            ],
            [
             0.6666666666666666,
             "#ed7953"
            ],
            [
             0.7777777777777778,
             "#fb9f3a"
            ],
            [
             0.8888888888888888,
             "#fdca26"
            ],
            [
             1,
             "#f0f921"
            ]
           ]
          },
          "colorway": [
           "#636efa",
           "#EF553B",
           "#00cc96",
           "#ab63fa",
           "#FFA15A",
           "#19d3f3",
           "#FF6692",
           "#B6E880",
           "#FF97FF",
           "#FECB52"
          ],
          "font": {
           "color": "#2a3f5f"
          },
          "geo": {
           "bgcolor": "white",
           "lakecolor": "white",
           "landcolor": "#E5ECF6",
           "showlakes": true,
           "showland": true,
           "subunitcolor": "white"
          },
          "hoverlabel": {
           "align": "left"
          },
          "hovermode": "closest",
          "mapbox": {
           "style": "light"
          },
          "paper_bgcolor": "white",
          "plot_bgcolor": "#E5ECF6",
          "polar": {
           "angularaxis": {
            "gridcolor": "white",
            "linecolor": "white",
            "ticks": ""
           },
           "bgcolor": "#E5ECF6",
           "radialaxis": {
            "gridcolor": "white",
            "linecolor": "white",
            "ticks": ""
           }
          },
          "scene": {
           "xaxis": {
            "backgroundcolor": "#E5ECF6",
            "gridcolor": "white",
            "gridwidth": 2,
            "linecolor": "white",
            "showbackground": true,
            "ticks": "",
            "zerolinecolor": "white"
           },
           "yaxis": {
            "backgroundcolor": "#E5ECF6",
            "gridcolor": "white",
            "gridwidth": 2,
            "linecolor": "white",
            "showbackground": true,
            "ticks": "",
            "zerolinecolor": "white"
           },
           "zaxis": {
            "backgroundcolor": "#E5ECF6",
            "gridcolor": "white",
            "gridwidth": 2,
            "linecolor": "white",
            "showbackground": true,
            "ticks": "",
            "zerolinecolor": "white"
           }
          },
          "shapedefaults": {
           "line": {
            "color": "#2a3f5f"
           }
          },
          "ternary": {
           "aaxis": {
            "gridcolor": "white",
            "linecolor": "white",
            "ticks": ""
           },
           "baxis": {
            "gridcolor": "white",
            "linecolor": "white",
            "ticks": ""
           },
           "bgcolor": "#E5ECF6",
           "caxis": {
            "gridcolor": "white",
            "linecolor": "white",
            "ticks": ""
           }
          },
          "title": {
           "x": 0.05
          },
          "xaxis": {
           "automargin": true,
           "gridcolor": "white",
           "linecolor": "white",
           "ticks": "",
           "title": {
            "standoff": 15
           },
           "zerolinecolor": "white",
           "zerolinewidth": 2
          },
          "yaxis": {
           "automargin": true,
           "gridcolor": "white",
           "linecolor": "white",
           "ticks": "",
           "title": {
            "standoff": 15
           },
           "zerolinecolor": "white",
           "zerolinewidth": 2
          }
         }
        },
        "title": {
         "text": "Average Emission by Country in 2008 and 2009"
        },
        "width": 1000,
        "yaxis": {
         "dtick": 5,
         "title": {
          "text": "Average Emission"
         }
        }
       }
      }
     },
     "metadata": {},
     "output_type": "display_data"
    }
   ],
   "source": [
    "import plotly.graph_objects as go\n",
    "import plotly.colors as py_colors\n",
    "\n",
    "# Select high emission countries for 2008\n",
    "high_emission_countries = emission_2008[emission_2008['Emission'] > 12]['Country'].values\n",
    "\n",
    "# Filter data for high emission countries\n",
    "high_emission_data = df[df['Country'].isin(high_emission_countries)]\n",
    "\n",
    "# Pivot the data to have countries as index and years as columns\n",
    "top_countries = high_emission_data.pivot_table(values='Emission', index='Country', columns='Year')\n",
    "\n",
    "# Define color schemes\n",
    "colors2 = py_colors.qualitative.Dark2\n",
    "\n",
    "# Create bar traces for each year\n",
    "trace1 = go.Bar(\n",
    "    x=top_countries.index, \n",
    "    y=top_countries[2008], \n",
    "    name='2008', \n",
    "    marker=dict(color=colors2[0], opacity=0.8, line=dict(color='rgb(0,0,0)', width=1.5))\n",
    ")\n",
    "trace2 = go.Bar(\n",
    "    x=top_countries.index, \n",
    "    y=top_countries[2009],\n",
    "    name='2009', \n",
    "    marker=dict(color=colors2[1], opacity=0.8, line=dict(color='rgb(0,0,0)', width=1.5))\n",
    ")\n",
    "\n",
    "# Combine traces\n",
    "data = [trace1, trace2]\n",
    "\n",
    "# Define layout\n",
    "layout = go.Layout(\n",
    "    title='Average Emission by Country in 2008 and 2009',\n",
    "    yaxis=dict(title='Average Emission', dtick=5.0),\n",
    "    barmode='group',\n",
    "    height=700, \n",
    "    width=1000\n",
    ")\n",
    "\n",
    "# Create the figure\n",
    "fig = go.Figure(data=data, layout=layout)\n",
    "\n",
    "# Display the plot\n",
    "fig.show()\n"
   ]
  },
  {
   "cell_type": "code",
   "execution_count": 12,
   "metadata": {},
   "outputs": [
    {
     "data": {
      "text/html": [
       "<div>\n",
       "<style scoped>\n",
       "    .dataframe tbody tr th:only-of-type {\n",
       "        vertical-align: middle;\n",
       "    }\n",
       "\n",
       "    .dataframe tbody tr th {\n",
       "        vertical-align: top;\n",
       "    }\n",
       "\n",
       "    .dataframe thead th {\n",
       "        text-align: right;\n",
       "    }\n",
       "</style>\n",
       "<table border=\"1\" class=\"dataframe\">\n",
       "  <thead>\n",
       "    <tr style=\"text-align: right;\">\n",
       "      <th></th>\n",
       "      <th>Year</th>\n",
       "      <th>Country</th>\n",
       "      <th>Continent</th>\n",
       "      <th>Emission</th>\n",
       "    </tr>\n",
       "  </thead>\n",
       "  <tbody>\n",
       "    <tr>\n",
       "      <th>0</th>\n",
       "      <td>2008</td>\n",
       "      <td>Aruba</td>\n",
       "      <td>South America</td>\n",
       "      <td>24.750133</td>\n",
       "    </tr>\n",
       "    <tr>\n",
       "      <th>1</th>\n",
       "      <td>2009</td>\n",
       "      <td>Aruba</td>\n",
       "      <td>South America</td>\n",
       "      <td>24.876706</td>\n",
       "    </tr>\n",
       "    <tr>\n",
       "      <th>2</th>\n",
       "      <td>2010</td>\n",
       "      <td>Aruba</td>\n",
       "      <td>South America</td>\n",
       "      <td>24.182702</td>\n",
       "    </tr>\n",
       "    <tr>\n",
       "      <th>3</th>\n",
       "      <td>2011</td>\n",
       "      <td>Aruba</td>\n",
       "      <td>South America</td>\n",
       "      <td>23.922412</td>\n",
       "    </tr>\n",
       "    <tr>\n",
       "      <th>20</th>\n",
       "      <td>2008</td>\n",
       "      <td>United Arab Emirates</td>\n",
       "      <td>Asia</td>\n",
       "      <td>23.033600</td>\n",
       "    </tr>\n",
       "    <tr>\n",
       "      <th>...</th>\n",
       "      <td>...</td>\n",
       "      <td>...</td>\n",
       "      <td>...</td>\n",
       "      <td>...</td>\n",
       "    </tr>\n",
       "    <tr>\n",
       "      <th>711</th>\n",
       "      <td>2011</td>\n",
       "      <td>Trinidad And Tobago</td>\n",
       "      <td>North America</td>\n",
       "      <td>37.140054</td>\n",
       "    </tr>\n",
       "    <tr>\n",
       "      <th>736</th>\n",
       "      <td>2008</td>\n",
       "      <td>United States</td>\n",
       "      <td>North America</td>\n",
       "      <td>18.489234</td>\n",
       "    </tr>\n",
       "    <tr>\n",
       "      <th>737</th>\n",
       "      <td>2009</td>\n",
       "      <td>United States</td>\n",
       "      <td>North America</td>\n",
       "      <td>17.192379</td>\n",
       "    </tr>\n",
       "    <tr>\n",
       "      <th>738</th>\n",
       "      <td>2010</td>\n",
       "      <td>United States</td>\n",
       "      <td>North America</td>\n",
       "      <td>17.484792</td>\n",
       "    </tr>\n",
       "    <tr>\n",
       "      <th>739</th>\n",
       "      <td>2011</td>\n",
       "      <td>United States</td>\n",
       "      <td>North America</td>\n",
       "      <td>17.020216</td>\n",
       "    </tr>\n",
       "  </tbody>\n",
       "</table>\n",
       "<p>72 rows × 4 columns</p>\n",
       "</div>"
      ],
      "text/plain": [
       "     Year               Country      Continent   Emission\n",
       "0    2008                 Aruba  South America  24.750133\n",
       "1    2009                 Aruba  South America  24.876706\n",
       "2    2010                 Aruba  South America  24.182702\n",
       "3    2011                 Aruba  South America  23.922412\n",
       "20   2008  United Arab Emirates           Asia  23.033600\n",
       "..    ...                   ...            ...        ...\n",
       "711  2011   Trinidad And Tobago  North America  37.140054\n",
       "736  2008         United States  North America  18.489234\n",
       "737  2009         United States  North America  17.192379\n",
       "738  2010         United States  North America  17.484792\n",
       "739  2011         United States  North America  17.020216\n",
       "\n",
       "[72 rows x 4 columns]"
      ]
     },
     "execution_count": 12,
     "metadata": {},
     "output_type": "execute_result"
    }
   ],
   "source": [
    "high_emission_data = df[df['Country'].isin(high_emission_countries)]\n",
    "high_emission_data"
   ]
  },
  {
   "cell_type": "code",
   "execution_count": 14,
   "metadata": {},
   "outputs": [
    {
     "data": {
      "application/vnd.plotly.v1+json": {
       "config": {
        "plotlyServerURL": "https://plot.ly"
       },
       "data": [
        {
         "marker": {
          "color": "rgb(102,166,30)",
          "line": {
           "color": "rgb(0,0,0)",
           "width": 1.5
          },
          "opacity": 0.8
         },
         "name": "2008",
         "type": "bar",
         "width": 0.6,
         "x": [
          "Aruba",
          "Australia",
          "Bahrain",
          "Brunei",
          "Canada",
          "Estonia",
          "Faroe Islands",
          "Kazakhstan",
          "Kuwait",
          "Luxembourg",
          "New Caledonia",
          "Oman",
          "Qatar",
          "Russian Federation",
          "Saudi Arabia",
          "Trinidad And Tobago",
          "United Arab Emirates",
          "United States"
         ],
         "y": [
          24.75013321,
          17.70407968,
          21.51999548,
          26.33827137,
          16.36616459,
          13.08183443,
          12.97012071,
          14.65957764,
          30.58126375,
          22.38547222,
          13.53130952,
          14.4797972,
          48.60161977,
          12.01913064,
          15.63931332,
          35.45529782,
          23.03360047,
          18.48923375
         ]
        },
        {
         "marker": {
          "color": "rgb(230,171,2)",
          "line": {
           "color": "rgb(0,0,0)",
           "width": 1.5
          },
          "opacity": 0.8
         },
         "name": "2009",
         "type": "bar",
         "width": 0.6,
         "x": [
          "Aruba",
          "Australia",
          "Bahrain",
          "Brunei",
          "Canada",
          "Estonia",
          "Faroe Islands",
          "Kazakhstan",
          "Kuwait",
          "Luxembourg",
          "New Caledonia",
          "Oman",
          "Qatar",
          "Russian Federation",
          "Saudi Arabia",
          "Trinidad And Tobago",
          "United Arab Emirates",
          "United States"
         ],
         "y": [
          24.87670585,
          17.63183305,
          18.13623374,
          22.14902862,
          15.08909766,
          11.04896311,
          11.8429021,
          13.30972781,
          29.72170379,
          20.87712517,
          11.57082986,
          13.92679701,
          44.83640145,
          11.02611624,
          17.69022548,
          36.56944789,
          21.10229562,
          17.1923791
         ]
        },
        {
         "marker": {
          "color": "rgb(117,112,179)",
          "line": {
           "color": "rgb(0,0,0)",
           "width": 1.5
          },
          "opacity": 0.8
         },
         "name": "2010",
         "type": "bar",
         "width": 0.6,
         "x": [
          "Aruba",
          "Australia",
          "Bahrain",
          "Brunei",
          "Canada",
          "Estonia",
          "Faroe Islands",
          "Kazakhstan",
          "Kuwait",
          "Luxembourg",
          "New Caledonia",
          "Oman",
          "Qatar",
          "Russian Federation",
          "Saudi Arabia",
          "Trinidad And Tobago",
          "United Arab Emirates",
          "United States"
         ],
         "y": [
          24.18270225,
          16.71090435,
          18.43502476,
          21.8732221,
          14.58905354,
          13.77319664,
          12.9866782,
          15.14647827,
          29.69343348,
          21.6351358,
          15.680092,
          19.122607,
          42.63907601,
          12.19843743,
          18.97762597,
          38.33784104,
          20.12095728,
          17.48479218
         ]
        },
        {
         "marker": {
          "color": "rgb(231,41,138)",
          "line": {
           "color": "rgb(0,0,0)",
           "width": 1.5
          },
          "opacity": 0.8
         },
         "name": "2011",
         "type": "bar",
         "width": 0.6,
         "x": [
          "Aruba",
          "Australia",
          "Bahrain",
          "Brunei",
          "Canada",
          "Estonia",
          "Faroe Islands",
          "Kazakhstan",
          "Kuwait",
          "Luxembourg",
          "New Caledonia",
          "Oman",
          "Qatar",
          "Russian Federation",
          "Saudi Arabia",
          "Trinidad And Tobago",
          "United Arab Emirates",
          "United States"
         ],
         "y": [
          23.9224121,
          16.51920992,
          17.94732981,
          24.39201338,
          14.13581338,
          14.04988252,
          11.72121175,
          15.81009754,
          28.10266175,
          20.8978117,
          15.17329528,
          20.20389451,
          44.01892637,
          12.64732823,
          18.07245072,
          37.14005424,
          20.43383762,
          17.02021634
         ]
        }
       ],
       "layout": {
        "barmode": "relative",
        "height": 700,
        "legend": {
         "bgcolor": "rgba(255, 255, 255, 0.5)",
         "x": 0,
         "y": 1
        },
        "paper_bgcolor": "rgba(255,255,255,1)",
        "plot_bgcolor": "rgba(255,255,255,1)",
        "template": {
         "data": {
          "bar": [
           {
            "error_x": {
             "color": "#2a3f5f"
            },
            "error_y": {
             "color": "#2a3f5f"
            },
            "marker": {
             "line": {
              "color": "#E5ECF6",
              "width": 0.5
             },
             "pattern": {
              "fillmode": "overlay",
              "size": 10,
              "solidity": 0.2
             }
            },
            "type": "bar"
           }
          ],
          "barpolar": [
           {
            "marker": {
             "line": {
              "color": "#E5ECF6",
              "width": 0.5
             },
             "pattern": {
              "fillmode": "overlay",
              "size": 10,
              "solidity": 0.2
             }
            },
            "type": "barpolar"
           }
          ],
          "carpet": [
           {
            "aaxis": {
             "endlinecolor": "#2a3f5f",
             "gridcolor": "white",
             "linecolor": "white",
             "minorgridcolor": "white",
             "startlinecolor": "#2a3f5f"
            },
            "baxis": {
             "endlinecolor": "#2a3f5f",
             "gridcolor": "white",
             "linecolor": "white",
             "minorgridcolor": "white",
             "startlinecolor": "#2a3f5f"
            },
            "type": "carpet"
           }
          ],
          "choropleth": [
           {
            "colorbar": {
             "outlinewidth": 0,
             "ticks": ""
            },
            "type": "choropleth"
           }
          ],
          "contour": [
           {
            "colorbar": {
             "outlinewidth": 0,
             "ticks": ""
            },
            "colorscale": [
             [
              0,
              "#0d0887"
             ],
             [
              0.1111111111111111,
              "#46039f"
             ],
             [
              0.2222222222222222,
              "#7201a8"
             ],
             [
              0.3333333333333333,
              "#9c179e"
             ],
             [
              0.4444444444444444,
              "#bd3786"
             ],
             [
              0.5555555555555556,
              "#d8576b"
             ],
             [
              0.6666666666666666,
              "#ed7953"
             ],
             [
              0.7777777777777778,
              "#fb9f3a"
             ],
             [
              0.8888888888888888,
              "#fdca26"
             ],
             [
              1,
              "#f0f921"
             ]
            ],
            "type": "contour"
           }
          ],
          "contourcarpet": [
           {
            "colorbar": {
             "outlinewidth": 0,
             "ticks": ""
            },
            "type": "contourcarpet"
           }
          ],
          "heatmap": [
           {
            "colorbar": {
             "outlinewidth": 0,
             "ticks": ""
            },
            "colorscale": [
             [
              0,
              "#0d0887"
             ],
             [
              0.1111111111111111,
              "#46039f"
             ],
             [
              0.2222222222222222,
              "#7201a8"
             ],
             [
              0.3333333333333333,
              "#9c179e"
             ],
             [
              0.4444444444444444,
              "#bd3786"
             ],
             [
              0.5555555555555556,
              "#d8576b"
             ],
             [
              0.6666666666666666,
              "#ed7953"
             ],
             [
              0.7777777777777778,
              "#fb9f3a"
             ],
             [
              0.8888888888888888,
              "#fdca26"
             ],
             [
              1,
              "#f0f921"
             ]
            ],
            "type": "heatmap"
           }
          ],
          "heatmapgl": [
           {
            "colorbar": {
             "outlinewidth": 0,
             "ticks": ""
            },
            "colorscale": [
             [
              0,
              "#0d0887"
             ],
             [
              0.1111111111111111,
              "#46039f"
             ],
             [
              0.2222222222222222,
              "#7201a8"
             ],
             [
              0.3333333333333333,
              "#9c179e"
             ],
             [
              0.4444444444444444,
              "#bd3786"
             ],
             [
              0.5555555555555556,
              "#d8576b"
             ],
             [
              0.6666666666666666,
              "#ed7953"
             ],
             [
              0.7777777777777778,
              "#fb9f3a"
             ],
             [
              0.8888888888888888,
              "#fdca26"
             ],
             [
              1,
              "#f0f921"
             ]
            ],
            "type": "heatmapgl"
           }
          ],
          "histogram": [
           {
            "marker": {
             "pattern": {
              "fillmode": "overlay",
              "size": 10,
              "solidity": 0.2
             }
            },
            "type": "histogram"
           }
          ],
          "histogram2d": [
           {
            "colorbar": {
             "outlinewidth": 0,
             "ticks": ""
            },
            "colorscale": [
             [
              0,
              "#0d0887"
             ],
             [
              0.1111111111111111,
              "#46039f"
             ],
             [
              0.2222222222222222,
              "#7201a8"
             ],
             [
              0.3333333333333333,
              "#9c179e"
             ],
             [
              0.4444444444444444,
              "#bd3786"
             ],
             [
              0.5555555555555556,
              "#d8576b"
             ],
             [
              0.6666666666666666,
              "#ed7953"
             ],
             [
              0.7777777777777778,
              "#fb9f3a"
             ],
             [
              0.8888888888888888,
              "#fdca26"
             ],
             [
              1,
              "#f0f921"
             ]
            ],
            "type": "histogram2d"
           }
          ],
          "histogram2dcontour": [
           {
            "colorbar": {
             "outlinewidth": 0,
             "ticks": ""
            },
            "colorscale": [
             [
              0,
              "#0d0887"
             ],
             [
              0.1111111111111111,
              "#46039f"
             ],
             [
              0.2222222222222222,
              "#7201a8"
             ],
             [
              0.3333333333333333,
              "#9c179e"
             ],
             [
              0.4444444444444444,
              "#bd3786"
             ],
             [
              0.5555555555555556,
              "#d8576b"
             ],
             [
              0.6666666666666666,
              "#ed7953"
             ],
             [
              0.7777777777777778,
              "#fb9f3a"
             ],
             [
              0.8888888888888888,
              "#fdca26"
             ],
             [
              1,
              "#f0f921"
             ]
            ],
            "type": "histogram2dcontour"
           }
          ],
          "mesh3d": [
           {
            "colorbar": {
             "outlinewidth": 0,
             "ticks": ""
            },
            "type": "mesh3d"
           }
          ],
          "parcoords": [
           {
            "line": {
             "colorbar": {
              "outlinewidth": 0,
              "ticks": ""
             }
            },
            "type": "parcoords"
           }
          ],
          "pie": [
           {
            "automargin": true,
            "type": "pie"
           }
          ],
          "scatter": [
           {
            "fillpattern": {
             "fillmode": "overlay",
             "size": 10,
             "solidity": 0.2
            },
            "type": "scatter"
           }
          ],
          "scatter3d": [
           {
            "line": {
             "colorbar": {
              "outlinewidth": 0,
              "ticks": ""
             }
            },
            "marker": {
             "colorbar": {
              "outlinewidth": 0,
              "ticks": ""
             }
            },
            "type": "scatter3d"
           }
          ],
          "scattercarpet": [
           {
            "marker": {
             "colorbar": {
              "outlinewidth": 0,
              "ticks": ""
             }
            },
            "type": "scattercarpet"
           }
          ],
          "scattergeo": [
           {
            "marker": {
             "colorbar": {
              "outlinewidth": 0,
              "ticks": ""
             }
            },
            "type": "scattergeo"
           }
          ],
          "scattergl": [
           {
            "marker": {
             "colorbar": {
              "outlinewidth": 0,
              "ticks": ""
             }
            },
            "type": "scattergl"
           }
          ],
          "scattermapbox": [
           {
            "marker": {
             "colorbar": {
              "outlinewidth": 0,
              "ticks": ""
             }
            },
            "type": "scattermapbox"
           }
          ],
          "scatterpolar": [
           {
            "marker": {
             "colorbar": {
              "outlinewidth": 0,
              "ticks": ""
             }
            },
            "type": "scatterpolar"
           }
          ],
          "scatterpolargl": [
           {
            "marker": {
             "colorbar": {
              "outlinewidth": 0,
              "ticks": ""
             }
            },
            "type": "scatterpolargl"
           }
          ],
          "scatterternary": [
           {
            "marker": {
             "colorbar": {
              "outlinewidth": 0,
              "ticks": ""
             }
            },
            "type": "scatterternary"
           }
          ],
          "surface": [
           {
            "colorbar": {
             "outlinewidth": 0,
             "ticks": ""
            },
            "colorscale": [
             [
              0,
              "#0d0887"
             ],
             [
              0.1111111111111111,
              "#46039f"
             ],
             [
              0.2222222222222222,
              "#7201a8"
             ],
             [
              0.3333333333333333,
              "#9c179e"
             ],
             [
              0.4444444444444444,
              "#bd3786"
             ],
             [
              0.5555555555555556,
              "#d8576b"
             ],
             [
              0.6666666666666666,
              "#ed7953"
             ],
             [
              0.7777777777777778,
              "#fb9f3a"
             ],
             [
              0.8888888888888888,
              "#fdca26"
             ],
             [
              1,
              "#f0f921"
             ]
            ],
            "type": "surface"
           }
          ],
          "table": [
           {
            "cells": {
             "fill": {
              "color": "#EBF0F8"
             },
             "line": {
              "color": "white"
             }
            },
            "header": {
             "fill": {
              "color": "#C8D4E3"
             },
             "line": {
              "color": "white"
             }
            },
            "type": "table"
           }
          ]
         },
         "layout": {
          "annotationdefaults": {
           "arrowcolor": "#2a3f5f",
           "arrowhead": 0,
           "arrowwidth": 1
          },
          "autotypenumbers": "strict",
          "coloraxis": {
           "colorbar": {
            "outlinewidth": 0,
            "ticks": ""
           }
          },
          "colorscale": {
           "diverging": [
            [
             0,
             "#8e0152"
            ],
            [
             0.1,
             "#c51b7d"
            ],
            [
             0.2,
             "#de77ae"
            ],
            [
             0.3,
             "#f1b6da"
            ],
            [
             0.4,
             "#fde0ef"
            ],
            [
             0.5,
             "#f7f7f7"
            ],
            [
             0.6,
             "#e6f5d0"
            ],
            [
             0.7,
             "#b8e186"
            ],
            [
             0.8,
             "#7fbc41"
            ],
            [
             0.9,
             "#4d9221"
            ],
            [
             1,
             "#276419"
            ]
           ],
           "sequential": [
            [
             0,
             "#0d0887"
            ],
            [
             0.1111111111111111,
             "#46039f"
            ],
            [
             0.2222222222222222,
             "#7201a8"
            ],
            [
             0.3333333333333333,
             "#9c179e"
            ],
            [
             0.4444444444444444,
             "#bd3786"
            ],
            [
             0.5555555555555556,
             "#d8576b"
            ],
            [
             0.6666666666666666,
             "#ed7953"
            ],
            [
             0.7777777777777778,
             "#fb9f3a"
            ],
            [
             0.8888888888888888,
             "#fdca26"
            ],
            [
             1,
             "#f0f921"
            ]
           ],
           "sequentialminus": [
            [
             0,
             "#0d0887"
            ],
            [
             0.1111111111111111,
             "#46039f"
            ],
            [
             0.2222222222222222,
             "#7201a8"
            ],
            [
             0.3333333333333333,
             "#9c179e"
            ],
            [
             0.4444444444444444,
             "#bd3786"
            ],
            [
             0.5555555555555556,
             "#d8576b"
            ],
            [
             0.6666666666666666,
             "#ed7953"
            ],
            [
             0.7777777777777778,
             "#fb9f3a"
            ],
            [
             0.8888888888888888,
             "#fdca26"
            ],
            [
             1,
             "#f0f921"
            ]
           ]
          },
          "colorway": [
           "#636efa",
           "#EF553B",
           "#00cc96",
           "#ab63fa",
           "#FFA15A",
           "#19d3f3",
           "#FF6692",
           "#B6E880",
           "#FF97FF",
           "#FECB52"
          ],
          "font": {
           "color": "#2a3f5f"
          },
          "geo": {
           "bgcolor": "white",
           "lakecolor": "white",
           "landcolor": "#E5ECF6",
           "showlakes": true,
           "showland": true,
           "subunitcolor": "white"
          },
          "hoverlabel": {
           "align": "left"
          },
          "hovermode": "closest",
          "mapbox": {
           "style": "light"
          },
          "paper_bgcolor": "white",
          "plot_bgcolor": "#E5ECF6",
          "polar": {
           "angularaxis": {
            "gridcolor": "white",
            "linecolor": "white",
            "ticks": ""
           },
           "bgcolor": "#E5ECF6",
           "radialaxis": {
            "gridcolor": "white",
            "linecolor": "white",
            "ticks": ""
           }
          },
          "scene": {
           "xaxis": {
            "backgroundcolor": "#E5ECF6",
            "gridcolor": "white",
            "gridwidth": 2,
            "linecolor": "white",
            "showbackground": true,
            "ticks": "",
            "zerolinecolor": "white"
           },
           "yaxis": {
            "backgroundcolor": "#E5ECF6",
            "gridcolor": "white",
            "gridwidth": 2,
            "linecolor": "white",
            "showbackground": true,
            "ticks": "",
            "zerolinecolor": "white"
           },
           "zaxis": {
            "backgroundcolor": "#E5ECF6",
            "gridcolor": "white",
            "gridwidth": 2,
            "linecolor": "white",
            "showbackground": true,
            "ticks": "",
            "zerolinecolor": "white"
           }
          },
          "shapedefaults": {
           "line": {
            "color": "#2a3f5f"
           }
          },
          "ternary": {
           "aaxis": {
            "gridcolor": "white",
            "linecolor": "white",
            "ticks": ""
           },
           "baxis": {
            "gridcolor": "white",
            "linecolor": "white",
            "ticks": ""
           },
           "bgcolor": "#E5ECF6",
           "caxis": {
            "gridcolor": "white",
            "linecolor": "white",
            "ticks": ""
           }
          },
          "title": {
           "x": 0.05
          },
          "xaxis": {
           "automargin": true,
           "gridcolor": "white",
           "linecolor": "white",
           "ticks": "",
           "title": {
            "standoff": 15
           },
           "zerolinecolor": "white",
           "zerolinewidth": 2
          },
          "yaxis": {
           "automargin": true,
           "gridcolor": "white",
           "linecolor": "white",
           "ticks": "",
           "title": {
            "standoff": 15
           },
           "zerolinecolor": "white",
           "zerolinewidth": 2
          }
         }
        },
        "title": {
         "text": "Average Emission by Country (2008-2011)"
        },
        "width": 1000,
        "yaxis": {
         "dtick": 20,
         "title": {
          "text": "Average Emission"
         }
        }
       }
      }
     },
     "metadata": {},
     "output_type": "display_data"
    }
   ],
   "source": [
    "\n",
    "\n",
    "# Define color schemes\n",
    "colors2 = py_colors.qualitative.Dark2\n",
    "\n",
    "# Create bar traces for each year with specified width and colors\n",
    "trace1 = go.Bar(\n",
    "    x=top_countries.index, y=top_countries[2008], width=0.6,\n",
    "    name='2008', marker=dict(color=colors2[4], opacity=0.8, line=dict(color='rgb(0,0,0)', width=1.5))\n",
    ")\n",
    "trace2 = go.Bar(\n",
    "    x=top_countries.index, y=top_countries[2009], width=0.6,\n",
    "    name='2009', marker=dict(color=colors2[5], opacity=0.8, line=dict(color='rgb(0,0,0)', width=1.5))\n",
    ")\n",
    "trace3 = go.Bar(\n",
    "    x=top_countries.index, y=top_countries[2010], width=0.6,\n",
    "    name='2010', marker=dict(color=colors2[2], opacity=0.8, line=dict(color='rgb(0,0,0)', width=1.5))\n",
    ")\n",
    "trace4 = go.Bar(\n",
    "    x=top_countries.index, y=top_countries[2011], width=0.6,\n",
    "    name='2011', marker=dict(color=colors2[3], opacity=0.8, line=dict(color='rgb(0,0,0)', width=1.5))\n",
    ")\n",
    "\n",
    "# Combine traces into a list\n",
    "data = [trace1, trace2, trace3, trace4]\n",
    "\n",
    "# Define layout with enhancements\n",
    "layout = go.Layout(\n",
    "    title='Average Emission by Country (2008-2011)',\n",
    "    yaxis=dict(\n",
    "        title='Average Emission',\n",
    "        dtick=20.0\n",
    "    ),\n",
    "    barmode='relative',\n",
    "    paper_bgcolor=\"rgba(255,255,255,1)\",  \n",
    "    plot_bgcolor='rgba(255,255,255,1)',  \n",
    "    height=700, \n",
    "    width=1000,\n",
    "    legend=dict(\n",
    "        x=0,\n",
    "        y=1,\n",
    "        bgcolor='rgba(255, 255, 255, 0.5)'\n",
    "    )\n",
    ")\n",
    "\n",
    "# Create the figure with the data and layout\n",
    "fig = go.Figure(data=data, layout=layout)\n",
    "\n",
    "\n",
    "fig.show()\n"
   ]
  },
  {
   "cell_type": "code",
   "execution_count": 15,
   "metadata": {},
   "outputs": [
    {
     "data": {
      "application/vnd.plotly.v1+json": {
       "config": {
        "plotlyServerURL": "https://plot.ly"
       },
       "data": [
        {
         "marker": {
          "color": [
           0,
           0,
           0,
           0,
           0,
           1,
           0,
           1,
           0,
           0,
           1,
           1,
           0,
           1,
           1,
           1,
           0,
           0
          ],
          "colorbar": {
           "title": {
            "text": "Change<br>(Blue: Decrease, Yellow: Increase)"
           }
          },
          "colorscale": [
           [
            0,
            "blue"
           ],
           [
            1,
            "yellow"
           ]
          ],
          "showscale": true,
          "size": [
           3.3443097173536476,
           6.692636846514678,
           16.601609760189408,
           7.389467450839768,
           13.627818526050886,
           7.399941462185283,
           9.62912364444756,
           7.848247256869803,
           8.10496917414017,
           6.645651721704008,
           12.134714364290138,
           39.53161243169898,
           9.429096029488147,
           5.22664749070403,
           15.557827573467911,
           4.751776246678837,
           11.286827925082966,
           7.945258466971349
          ]
         },
         "mode": "markers",
         "text": [
          "Aruba",
          "Australia",
          "Bahrain",
          "Brunei",
          "Canada",
          "Estonia",
          "Faroe Islands",
          "Kazakhstan",
          "Kuwait",
          "Luxembourg",
          "New Caledonia",
          "Oman",
          "Qatar",
          "Russian Federation",
          "Saudi Arabia",
          "Trinidad And Tobago",
          "United Arab Emirates",
          "United States"
         ],
         "type": "scatter",
         "x": [
          "Aruba",
          "Australia",
          "Bahrain",
          "Brunei",
          "Canada",
          "Estonia",
          "Faroe Islands",
          "Kazakhstan",
          "Kuwait",
          "Luxembourg",
          "New Caledonia",
          "Oman",
          "Qatar",
          "Russian Federation",
          "Saudi Arabia",
          "Trinidad And Tobago",
          "United Arab Emirates",
          "United States"
         ],
         "y": [
          24.75013321,
          17.70407968,
          21.51999548,
          26.33827137,
          16.36616459,
          13.08183443,
          12.97012071,
          14.65957764,
          30.58126375,
          22.38547222,
          13.53130952,
          14.4797972,
          48.60161977,
          12.01913064,
          15.63931332,
          35.45529782,
          23.03360047,
          18.48923375
         ]
        }
       ],
       "layout": {
        "annotations": [
         {
          "align": "center",
          "showarrow": false,
          "text": "Size of Marker: Magnitude of Change<br>Color of Marker: Type of Change",
          "x": 0.5,
          "xref": "paper",
          "y": 1.15,
          "yref": "paper"
         }
        ],
        "height": 500,
        "template": {
         "data": {
          "bar": [
           {
            "error_x": {
             "color": "#2a3f5f"
            },
            "error_y": {
             "color": "#2a3f5f"
            },
            "marker": {
             "line": {
              "color": "#E5ECF6",
              "width": 0.5
             },
             "pattern": {
              "fillmode": "overlay",
              "size": 10,
              "solidity": 0.2
             }
            },
            "type": "bar"
           }
          ],
          "barpolar": [
           {
            "marker": {
             "line": {
              "color": "#E5ECF6",
              "width": 0.5
             },
             "pattern": {
              "fillmode": "overlay",
              "size": 10,
              "solidity": 0.2
             }
            },
            "type": "barpolar"
           }
          ],
          "carpet": [
           {
            "aaxis": {
             "endlinecolor": "#2a3f5f",
             "gridcolor": "white",
             "linecolor": "white",
             "minorgridcolor": "white",
             "startlinecolor": "#2a3f5f"
            },
            "baxis": {
             "endlinecolor": "#2a3f5f",
             "gridcolor": "white",
             "linecolor": "white",
             "minorgridcolor": "white",
             "startlinecolor": "#2a3f5f"
            },
            "type": "carpet"
           }
          ],
          "choropleth": [
           {
            "colorbar": {
             "outlinewidth": 0,
             "ticks": ""
            },
            "type": "choropleth"
           }
          ],
          "contour": [
           {
            "colorbar": {
             "outlinewidth": 0,
             "ticks": ""
            },
            "colorscale": [
             [
              0,
              "#0d0887"
             ],
             [
              0.1111111111111111,
              "#46039f"
             ],
             [
              0.2222222222222222,
              "#7201a8"
             ],
             [
              0.3333333333333333,
              "#9c179e"
             ],
             [
              0.4444444444444444,
              "#bd3786"
             ],
             [
              0.5555555555555556,
              "#d8576b"
             ],
             [
              0.6666666666666666,
              "#ed7953"
             ],
             [
              0.7777777777777778,
              "#fb9f3a"
             ],
             [
              0.8888888888888888,
              "#fdca26"
             ],
             [
              1,
              "#f0f921"
             ]
            ],
            "type": "contour"
           }
          ],
          "contourcarpet": [
           {
            "colorbar": {
             "outlinewidth": 0,
             "ticks": ""
            },
            "type": "contourcarpet"
           }
          ],
          "heatmap": [
           {
            "colorbar": {
             "outlinewidth": 0,
             "ticks": ""
            },
            "colorscale": [
             [
              0,
              "#0d0887"
             ],
             [
              0.1111111111111111,
              "#46039f"
             ],
             [
              0.2222222222222222,
              "#7201a8"
             ],
             [
              0.3333333333333333,
              "#9c179e"
             ],
             [
              0.4444444444444444,
              "#bd3786"
             ],
             [
              0.5555555555555556,
              "#d8576b"
             ],
             [
              0.6666666666666666,
              "#ed7953"
             ],
             [
              0.7777777777777778,
              "#fb9f3a"
             ],
             [
              0.8888888888888888,
              "#fdca26"
             ],
             [
              1,
              "#f0f921"
             ]
            ],
            "type": "heatmap"
           }
          ],
          "heatmapgl": [
           {
            "colorbar": {
             "outlinewidth": 0,
             "ticks": ""
            },
            "colorscale": [
             [
              0,
              "#0d0887"
             ],
             [
              0.1111111111111111,
              "#46039f"
             ],
             [
              0.2222222222222222,
              "#7201a8"
             ],
             [
              0.3333333333333333,
              "#9c179e"
             ],
             [
              0.4444444444444444,
              "#bd3786"
             ],
             [
              0.5555555555555556,
              "#d8576b"
             ],
             [
              0.6666666666666666,
              "#ed7953"
             ],
             [
              0.7777777777777778,
              "#fb9f3a"
             ],
             [
              0.8888888888888888,
              "#fdca26"
             ],
             [
              1,
              "#f0f921"
             ]
            ],
            "type": "heatmapgl"
           }
          ],
          "histogram": [
           {
            "marker": {
             "pattern": {
              "fillmode": "overlay",
              "size": 10,
              "solidity": 0.2
             }
            },
            "type": "histogram"
           }
          ],
          "histogram2d": [
           {
            "colorbar": {
             "outlinewidth": 0,
             "ticks": ""
            },
            "colorscale": [
             [
              0,
              "#0d0887"
             ],
             [
              0.1111111111111111,
              "#46039f"
             ],
             [
              0.2222222222222222,
              "#7201a8"
             ],
             [
              0.3333333333333333,
              "#9c179e"
             ],
             [
              0.4444444444444444,
              "#bd3786"
             ],
             [
              0.5555555555555556,
              "#d8576b"
             ],
             [
              0.6666666666666666,
              "#ed7953"
             ],
             [
              0.7777777777777778,
              "#fb9f3a"
             ],
             [
              0.8888888888888888,
              "#fdca26"
             ],
             [
              1,
              "#f0f921"
             ]
            ],
            "type": "histogram2d"
           }
          ],
          "histogram2dcontour": [
           {
            "colorbar": {
             "outlinewidth": 0,
             "ticks": ""
            },
            "colorscale": [
             [
              0,
              "#0d0887"
             ],
             [
              0.1111111111111111,
              "#46039f"
             ],
             [
              0.2222222222222222,
              "#7201a8"
             ],
             [
              0.3333333333333333,
              "#9c179e"
             ],
             [
              0.4444444444444444,
              "#bd3786"
             ],
             [
              0.5555555555555556,
              "#d8576b"
             ],
             [
              0.6666666666666666,
              "#ed7953"
             ],
             [
              0.7777777777777778,
              "#fb9f3a"
             ],
             [
              0.8888888888888888,
              "#fdca26"
             ],
             [
              1,
              "#f0f921"
             ]
            ],
            "type": "histogram2dcontour"
           }
          ],
          "mesh3d": [
           {
            "colorbar": {
             "outlinewidth": 0,
             "ticks": ""
            },
            "type": "mesh3d"
           }
          ],
          "parcoords": [
           {
            "line": {
             "colorbar": {
              "outlinewidth": 0,
              "ticks": ""
             }
            },
            "type": "parcoords"
           }
          ],
          "pie": [
           {
            "automargin": true,
            "type": "pie"
           }
          ],
          "scatter": [
           {
            "fillpattern": {
             "fillmode": "overlay",
             "size": 10,
             "solidity": 0.2
            },
            "type": "scatter"
           }
          ],
          "scatter3d": [
           {
            "line": {
             "colorbar": {
              "outlinewidth": 0,
              "ticks": ""
             }
            },
            "marker": {
             "colorbar": {
              "outlinewidth": 0,
              "ticks": ""
             }
            },
            "type": "scatter3d"
           }
          ],
          "scattercarpet": [
           {
            "marker": {
             "colorbar": {
              "outlinewidth": 0,
              "ticks": ""
             }
            },
            "type": "scattercarpet"
           }
          ],
          "scattergeo": [
           {
            "marker": {
             "colorbar": {
              "outlinewidth": 0,
              "ticks": ""
             }
            },
            "type": "scattergeo"
           }
          ],
          "scattergl": [
           {
            "marker": {
             "colorbar": {
              "outlinewidth": 0,
              "ticks": ""
             }
            },
            "type": "scattergl"
           }
          ],
          "scattermapbox": [
           {
            "marker": {
             "colorbar": {
              "outlinewidth": 0,
              "ticks": ""
             }
            },
            "type": "scattermapbox"
           }
          ],
          "scatterpolar": [
           {
            "marker": {
             "colorbar": {
              "outlinewidth": 0,
              "ticks": ""
             }
            },
            "type": "scatterpolar"
           }
          ],
          "scatterpolargl": [
           {
            "marker": {
             "colorbar": {
              "outlinewidth": 0,
              "ticks": ""
             }
            },
            "type": "scatterpolargl"
           }
          ],
          "scatterternary": [
           {
            "marker": {
             "colorbar": {
              "outlinewidth": 0,
              "ticks": ""
             }
            },
            "type": "scatterternary"
           }
          ],
          "surface": [
           {
            "colorbar": {
             "outlinewidth": 0,
             "ticks": ""
            },
            "colorscale": [
             [
              0,
              "#0d0887"
             ],
             [
              0.1111111111111111,
              "#46039f"
             ],
             [
              0.2222222222222222,
              "#7201a8"
             ],
             [
              0.3333333333333333,
              "#9c179e"
             ],
             [
              0.4444444444444444,
              "#bd3786"
             ],
             [
              0.5555555555555556,
              "#d8576b"
             ],
             [
              0.6666666666666666,
              "#ed7953"
             ],
             [
              0.7777777777777778,
              "#fb9f3a"
             ],
             [
              0.8888888888888888,
              "#fdca26"
             ],
             [
              1,
              "#f0f921"
             ]
            ],
            "type": "surface"
           }
          ],
          "table": [
           {
            "cells": {
             "fill": {
              "color": "#EBF0F8"
             },
             "line": {
              "color": "white"
             }
            },
            "header": {
             "fill": {
              "color": "#C8D4E3"
             },
             "line": {
              "color": "white"
             }
            },
            "type": "table"
           }
          ]
         },
         "layout": {
          "annotationdefaults": {
           "arrowcolor": "#2a3f5f",
           "arrowhead": 0,
           "arrowwidth": 1
          },
          "autotypenumbers": "strict",
          "coloraxis": {
           "colorbar": {
            "outlinewidth": 0,
            "ticks": ""
           }
          },
          "colorscale": {
           "diverging": [
            [
             0,
             "#8e0152"
            ],
            [
             0.1,
             "#c51b7d"
            ],
            [
             0.2,
             "#de77ae"
            ],
            [
             0.3,
             "#f1b6da"
            ],
            [
             0.4,
             "#fde0ef"
            ],
            [
             0.5,
             "#f7f7f7"
            ],
            [
             0.6,
             "#e6f5d0"
            ],
            [
             0.7,
             "#b8e186"
            ],
            [
             0.8,
             "#7fbc41"
            ],
            [
             0.9,
             "#4d9221"
            ],
            [
             1,
             "#276419"
            ]
           ],
           "sequential": [
            [
             0,
             "#0d0887"
            ],
            [
             0.1111111111111111,
             "#46039f"
            ],
            [
             0.2222222222222222,
             "#7201a8"
            ],
            [
             0.3333333333333333,
             "#9c179e"
            ],
            [
             0.4444444444444444,
             "#bd3786"
            ],
            [
             0.5555555555555556,
             "#d8576b"
            ],
            [
             0.6666666666666666,
             "#ed7953"
            ],
            [
             0.7777777777777778,
             "#fb9f3a"
            ],
            [
             0.8888888888888888,
             "#fdca26"
            ],
            [
             1,
             "#f0f921"
            ]
           ],
           "sequentialminus": [
            [
             0,
             "#0d0887"
            ],
            [
             0.1111111111111111,
             "#46039f"
            ],
            [
             0.2222222222222222,
             "#7201a8"
            ],
            [
             0.3333333333333333,
             "#9c179e"
            ],
            [
             0.4444444444444444,
             "#bd3786"
            ],
            [
             0.5555555555555556,
             "#d8576b"
            ],
            [
             0.6666666666666666,
             "#ed7953"
            ],
            [
             0.7777777777777778,
             "#fb9f3a"
            ],
            [
             0.8888888888888888,
             "#fdca26"
            ],
            [
             1,
             "#f0f921"
            ]
           ]
          },
          "colorway": [
           "#636efa",
           "#EF553B",
           "#00cc96",
           "#ab63fa",
           "#FFA15A",
           "#19d3f3",
           "#FF6692",
           "#B6E880",
           "#FF97FF",
           "#FECB52"
          ],
          "font": {
           "color": "#2a3f5f"
          },
          "geo": {
           "bgcolor": "white",
           "lakecolor": "white",
           "landcolor": "#E5ECF6",
           "showlakes": true,
           "showland": true,
           "subunitcolor": "white"
          },
          "hoverlabel": {
           "align": "left"
          },
          "hovermode": "closest",
          "mapbox": {
           "style": "light"
          },
          "paper_bgcolor": "white",
          "plot_bgcolor": "#E5ECF6",
          "polar": {
           "angularaxis": {
            "gridcolor": "white",
            "linecolor": "white",
            "ticks": ""
           },
           "bgcolor": "#E5ECF6",
           "radialaxis": {
            "gridcolor": "white",
            "linecolor": "white",
            "ticks": ""
           }
          },
          "scene": {
           "xaxis": {
            "backgroundcolor": "#E5ECF6",
            "gridcolor": "white",
            "gridwidth": 2,
            "linecolor": "white",
            "showbackground": true,
            "ticks": "",
            "zerolinecolor": "white"
           },
           "yaxis": {
            "backgroundcolor": "#E5ECF6",
            "gridcolor": "white",
            "gridwidth": 2,
            "linecolor": "white",
            "showbackground": true,
            "ticks": "",
            "zerolinecolor": "white"
           },
           "zaxis": {
            "backgroundcolor": "#E5ECF6",
            "gridcolor": "white",
            "gridwidth": 2,
            "linecolor": "white",
            "showbackground": true,
            "ticks": "",
            "zerolinecolor": "white"
           }
          },
          "shapedefaults": {
           "line": {
            "color": "#2a3f5f"
           }
          },
          "ternary": {
           "aaxis": {
            "gridcolor": "white",
            "linecolor": "white",
            "ticks": ""
           },
           "baxis": {
            "gridcolor": "white",
            "linecolor": "white",
            "ticks": ""
           },
           "bgcolor": "#E5ECF6",
           "caxis": {
            "gridcolor": "white",
            "linecolor": "white",
            "ticks": ""
           }
          },
          "title": {
           "x": 0.05
          },
          "xaxis": {
           "automargin": true,
           "gridcolor": "white",
           "linecolor": "white",
           "ticks": "",
           "title": {
            "standoff": 15
           },
           "zerolinecolor": "white",
           "zerolinewidth": 2
          },
          "yaxis": {
           "automargin": true,
           "gridcolor": "white",
           "linecolor": "white",
           "ticks": "",
           "title": {
            "standoff": 15
           },
           "zerolinecolor": "white",
           "zerolinewidth": 2
          }
         }
        },
        "title": {
         "text": "Fractional Change in Emission by Country w.r.t. 2008"
        },
        "width": 800,
        "xaxis": {
         "showticklabels": false
        },
        "yaxis": {
         "dtick": 10,
         "title": {
          "text": "Emission in 2008"
         }
        }
       }
      }
     },
     "metadata": {},
     "output_type": "display_data"
    }
   ],
   "source": [
    "\n",
    "# Calculations for fractional change and categorizing change\n",
    "top_countries['Frac_changed'] = (top_countries[2011] - top_countries[2008]) / top_countries[2008]\n",
    "top_countries['Change'] = (top_countries['Frac_changed'] > 0).astype(int)\n",
    "top_countries['Frac_changed'] = abs(top_countries['Frac_changed'])\n",
    "\n",
    "# Create scatter plot trace\n",
    "trace = go.Scatter(\n",
    "    x=top_countries.index, \n",
    "    y=top_countries[2008], \n",
    "    mode='markers',\n",
    "    marker=dict(\n",
    "        color=top_countries['Change'],  # Color based on increase or decrease\n",
    "        size=100 * top_countries['Frac_changed'],  # Size based on fractional change\n",
    "        colorscale=[(0, 'blue'), (1, 'yellow')],  # Blue for decrease, Yellow for increase\n",
    "        colorbar=dict(title='Change<br>(Blue: Decrease, Yellow: Increase)'),\n",
    "        showscale=True\n",
    "    ),\n",
    "    text=top_countries.index\n",
    ")\n",
    "\n",
    "# Define layout with annotations\n",
    "layout = go.Layout(\n",
    "    title='Fractional Change in Emission by Country w.r.t. 2008',\n",
    "    yaxis=dict(title='Emission in 2008', dtick=10.0),\n",
    "    xaxis=dict(showticklabels=False),\n",
    "    height=500, \n",
    "    width=800,\n",
    "    annotations=[dict(\n",
    "        showarrow=False, \n",
    "        text='Size of Marker: Magnitude of Change<br>Color of Marker: Type of Change', \n",
    "        xref='paper',\n",
    "        yref='paper',\n",
    "        x=0.5, y=1.15, \n",
    "        align='center'\n",
    "    )]\n",
    ")\n",
    "\n",
    "# Create the figure with the data and layout\n",
    "fig = go.Figure(data=[trace], layout=layout)\n",
    "fig.show()\n"
   ]
  }
 ],
 "metadata": {
  "kernelspec": {
   "display_name": "ts",
   "language": "python",
   "name": "python3"
  },
  "language_info": {
   "codemirror_mode": {
    "name": "ipython",
    "version": 3
   },
   "file_extension": ".py",
   "mimetype": "text/x-python",
   "name": "python",
   "nbconvert_exporter": "python",
   "pygments_lexer": "ipython3",
   "version": "3.12.0"
  }
 },
 "nbformat": 4,
 "nbformat_minor": 2
}
